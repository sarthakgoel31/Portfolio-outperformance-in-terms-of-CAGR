{
 "cells": [
  {
   "cell_type": "markdown",
   "metadata": {},
   "source": [
    "Here I have made 4 dataframes which I have imported below and then run analysis for the same."
   ]
  },
  {
   "cell_type": "code",
   "execution_count": 1,
   "metadata": {},
   "outputs": [
    {
     "data": {
      "text/html": [
       "        <script type=\"text/javascript\">\n",
       "        window.PlotlyConfig = {MathJaxConfig: 'local'};\n",
       "        if (window.MathJax) {MathJax.Hub.Config({SVG: {font: \"STIX-Web\"}});}\n",
       "        if (typeof require !== 'undefined') {\n",
       "        require.undef(\"plotly\");\n",
       "        requirejs.config({\n",
       "            paths: {\n",
       "                'plotly': ['https://cdn.plot.ly/plotly-latest.min']\n",
       "            }\n",
       "        });\n",
       "        require(['plotly'], function(Plotly) {\n",
       "            window._Plotly = Plotly;\n",
       "        });\n",
       "        }\n",
       "        </script>\n",
       "        "
      ]
     },
     "metadata": {},
     "output_type": "display_data"
    },
    {
     "data": {
      "text/html": [
       "        <script type=\"text/javascript\">\n",
       "        window.PlotlyConfig = {MathJaxConfig: 'local'};\n",
       "        if (window.MathJax) {MathJax.Hub.Config({SVG: {font: \"STIX-Web\"}});}\n",
       "        if (typeof require !== 'undefined') {\n",
       "        require.undef(\"plotly\");\n",
       "        requirejs.config({\n",
       "            paths: {\n",
       "                'plotly': ['https://cdn.plot.ly/plotly-latest.min']\n",
       "            }\n",
       "        });\n",
       "        require(['plotly'], function(Plotly) {\n",
       "            window._Plotly = Plotly;\n",
       "        });\n",
       "        }\n",
       "        </script>\n",
       "        "
      ]
     },
     "metadata": {},
     "output_type": "display_data"
    }
   ],
   "source": [
    "import pandas as pd\n",
    "import time\n",
    "from IPython.display import display\n",
    "import numpy as np\n",
    "import copy\n",
    "import chart_studio.plotly as py\n",
    "import plotly.graph_objs as go\n",
    "from plotly.offline import iplot, init_notebook_mode\n",
    "import cufflinks\n",
    "cufflinks.go_offline(connected=True)\n",
    "init_notebook_mode(connected=True)\n",
    "import math\n",
    "import matplotlib.pyplot as plt\n",
    "import requests\n",
    "import io\n",
    "\n",
    "pd.set_option('display.max_rows', None)\n",
    "pd.set_option('display.max_columns', None)\n",
    "pd.set_option('display.width', None)"
   ]
  },
  {
   "cell_type": "code",
   "execution_count": 2,
   "metadata": {},
   "outputs": [
    {
     "name": "stdout",
     "output_type": "stream",
     "text": [
      "requests==2.24.0\n",
      "plotly==4.14.1\n",
      "pandas==1.0.5\n",
      "numpy==1.18.5\n",
      "matplotlib==3.2.2\n",
      "cufflinks==0.17.3\n"
     ]
    }
   ],
   "source": [
    "import pkg_resources\n",
    "import types\n",
    "def get_imports():\n",
    "    for name, val in globals().items():\n",
    "        if isinstance(val, types.ModuleType):\n",
    "            # Split ensures you get root package, \n",
    "            # not just imported function\n",
    "            name = val.__name__.split(\".\")[0]\n",
    "\n",
    "        elif isinstance(val, type):\n",
    "            name = val.__module__.split(\".\")[0]\n",
    "\n",
    "        # Some packages are weird and have different\n",
    "        # imported names vs. system/pip names. Unfortunately,\n",
    "        # there is no systematic way to get pip names from\n",
    "        # a package's imported name. You'll have to add\n",
    "        # exceptions to this list manually!\n",
    "        poorly_named_packages = {\n",
    "            \"PIL\": \"Pillow\",\n",
    "            \"sklearn\": \"scikit-learn\"\n",
    "        }\n",
    "        if name in poorly_named_packages.keys():\n",
    "            name = poorly_named_packages[name]\n",
    "\n",
    "        yield name\n",
    "imports = list(set(get_imports()))\n",
    "\n",
    "# The only way I found to get the version of the root package\n",
    "# from only the name of the package is to cross-check the names \n",
    "# of installed packages vs. imported packages\n",
    "requirements = []\n",
    "for m in pkg_resources.working_set:\n",
    "    if m.project_name in imports and m.project_name!=\"pip\":\n",
    "        requirements.append((m.project_name, m.version))\n",
    "\n",
    "for r in requirements:\n",
    "    print(\"{}=={}\".format(*r))"
   ]
  },
  {
   "cell_type": "markdown",
   "metadata": {},
   "source": [
    "### Data Importing"
   ]
  },
  {
   "cell_type": "code",
   "execution_count": 3,
   "metadata": {},
   "outputs": [],
   "source": [
    "url_Nifty50_CAGR = \"https://raw.githubusercontent.com/sarthakgoel31/Portfolio-outperformance-in-terms-of-CAGR/main/Nifty50%20CAGR.csv\"\n",
    "download_Nifty50_CAGR = requests.get(url_Nifty50_CAGR).content\n",
    "Nifty50_CAGR = pd.read_csv(io.StringIO(download_Nifty50_CAGR.decode('utf-8')))\n",
    "\n",
    "url_Portfolio_CAGR = \"https://raw.githubusercontent.com/sarthakgoel31/Portfolio-outperformance-in-terms-of-CAGR/main/Portfolio%20CAGR.csv\"\n",
    "download_Portfolio_CAGR = requests.get(url_Portfolio_CAGR).content\n",
    "Portfolio_CAGR = pd.read_csv(io.StringIO(download_Portfolio_CAGR.decode('utf-8')))\n",
    "\n",
    "url_Sectoral_CAGR = \"https://raw.githubusercontent.com/sarthakgoel31/Portfolio-outperformance-in-terms-of-CAGR/main/Sectoral%20CAGR.csv\"\n",
    "download_Sectoral_CAGR = requests.get(url_Sectoral_CAGR).content\n",
    "Sectoral_CAGR = pd.read_csv(io.StringIO(download_Sectoral_CAGR.decode('utf-8')))\n",
    "\n",
    "url_Stock_CAGR = \"https://raw.githubusercontent.com/sarthakgoel31/Portfolio-outperformance-in-terms-of-CAGR/main/Stock%20CAGR.csv\"\n",
    "download_Stock_CAGR = requests.get(url_Stock_CAGR).content\n",
    "Stock_CAGR = pd.read_csv(io.StringIO(download_Stock_CAGR.decode('utf-8')))\n",
    "\n",
    "Stock_CAGR['Nifty50 Weightage'] = Stock_CAGR['Nifty50 Weightage'].str.replace('%', '')\n",
    "Stock_CAGR['Nifty50 Weightage'] = Stock_CAGR['Nifty50 Weightage'].astype(float)\n",
    "\n",
    "Stock_CAGR['Portfolio Weightage'] = Stock_CAGR['Portfolio Weightage'].str.replace('%', '')\n",
    "Stock_CAGR['Portfolio Weightage'] = Stock_CAGR['Portfolio Weightage'].astype(float)\n",
    "\n",
    "Sectoral_CAGR['Nifty50 Weightage'] = Sectoral_CAGR['Nifty50 Weightage'].str.replace('%', '')\n",
    "Sectoral_CAGR['Nifty50 Weightage'] = Sectoral_CAGR['Nifty50 Weightage'].astype(float)\n",
    "\n",
    "Sectoral_CAGR['Portfolio Weightage'] = Sectoral_CAGR['Portfolio Weightage'].str.replace('%', '')\n",
    "Sectoral_CAGR['Portfolio Weightage'] = Sectoral_CAGR['Portfolio Weightage'].astype(float)"
   ]
  },
  {
   "cell_type": "markdown",
   "metadata": {},
   "source": [
    "Nifty50_CAGR represents all the stocks in Nifty50, their sectors, their weightage in Nifty50, their CAGR in the past year and Weighted Return (CAGR * Weight).\n",
    "I calculated the CAGR by downoading the Historical Data from yahoo Finance and then computing the same."
   ]
  },
  {
   "cell_type": "code",
   "execution_count": 4,
   "metadata": {},
   "outputs": [
    {
     "data": {
      "text/html": [
       "<div>\n",
       "<style scoped>\n",
       "    .dataframe tbody tr th:only-of-type {\n",
       "        vertical-align: middle;\n",
       "    }\n",
       "\n",
       "    .dataframe tbody tr th {\n",
       "        vertical-align: top;\n",
       "    }\n",
       "\n",
       "    .dataframe thead th {\n",
       "        text-align: right;\n",
       "    }\n",
       "</style>\n",
       "<table border=\"1\" class=\"dataframe\">\n",
       "  <thead>\n",
       "    <tr style=\"text-align: right;\">\n",
       "      <th></th>\n",
       "      <th>Name</th>\n",
       "      <th>Sectoral</th>\n",
       "      <th>CAGR</th>\n",
       "      <th>Weightage</th>\n",
       "      <th>Weighted Return</th>\n",
       "    </tr>\n",
       "  </thead>\n",
       "  <tbody>\n",
       "    <tr>\n",
       "      <th>0</th>\n",
       "      <td>Adani Ports &amp; Special Economic Zone</td>\n",
       "      <td>Transportation</td>\n",
       "      <td>1.028</td>\n",
       "      <td>0.63%</td>\n",
       "      <td>0.006476</td>\n",
       "    </tr>\n",
       "    <tr>\n",
       "      <th>1</th>\n",
       "      <td>Asian Paints Ltd</td>\n",
       "      <td>Consumer Non Durables</td>\n",
       "      <td>0.318</td>\n",
       "      <td>1.84%</td>\n",
       "      <td>0.005851</td>\n",
       "    </tr>\n",
       "    <tr>\n",
       "      <th>2</th>\n",
       "      <td>Axis Bank Ltd</td>\n",
       "      <td>Banks</td>\n",
       "      <td>0.121</td>\n",
       "      <td>2.79%</td>\n",
       "      <td>0.003376</td>\n",
       "    </tr>\n",
       "    <tr>\n",
       "      <th>3</th>\n",
       "      <td>Bajaj Auto Ltd</td>\n",
       "      <td>Auto</td>\n",
       "      <td>0.465</td>\n",
       "      <td>0.89%</td>\n",
       "      <td>0.004138</td>\n",
       "    </tr>\n",
       "    <tr>\n",
       "      <th>4</th>\n",
       "      <td>Bajaj Finance Ltd</td>\n",
       "      <td>Finance</td>\n",
       "      <td>0.241</td>\n",
       "      <td>2.13%</td>\n",
       "      <td>0.005133</td>\n",
       "    </tr>\n",
       "    <tr>\n",
       "      <th>5</th>\n",
       "      <td>Bajaj Finserv Ltd</td>\n",
       "      <td>Finance</td>\n",
       "      <td>0.145</td>\n",
       "      <td>0.90%</td>\n",
       "      <td>0.001305</td>\n",
       "    </tr>\n",
       "    <tr>\n",
       "      <th>6</th>\n",
       "      <td>Bharat Petroleum Corporation Ltd</td>\n",
       "      <td>Petroleum Products</td>\n",
       "      <td>0.086</td>\n",
       "      <td>0.52%</td>\n",
       "      <td>0.000447</td>\n",
       "    </tr>\n",
       "    <tr>\n",
       "      <th>7</th>\n",
       "      <td>Bharti Airtel Ltd</td>\n",
       "      <td>Telecom - Services</td>\n",
       "      <td>0.112</td>\n",
       "      <td>2.26%</td>\n",
       "      <td>0.002531</td>\n",
       "    </tr>\n",
       "    <tr>\n",
       "      <th>8</th>\n",
       "      <td>Britannia Industries Ltd</td>\n",
       "      <td>Consumer Non Durables</td>\n",
       "      <td>0.125</td>\n",
       "      <td>0.70%</td>\n",
       "      <td>0.000875</td>\n",
       "    </tr>\n",
       "    <tr>\n",
       "      <th>9</th>\n",
       "      <td>Cipla Ltd</td>\n",
       "      <td>Pharmaceuticals</td>\n",
       "      <td>0.900</td>\n",
       "      <td>0.71%</td>\n",
       "      <td>0.006390</td>\n",
       "    </tr>\n",
       "    <tr>\n",
       "      <th>10</th>\n",
       "      <td>Coal India Ltd</td>\n",
       "      <td>Minerals/Mining</td>\n",
       "      <td>-0.124</td>\n",
       "      <td>0.45%</td>\n",
       "      <td>-0.000558</td>\n",
       "    </tr>\n",
       "    <tr>\n",
       "      <th>11</th>\n",
       "      <td>Divi's Laboratories Ltd</td>\n",
       "      <td>Pharmaceuticals</td>\n",
       "      <td>0.575</td>\n",
       "      <td>0.73%</td>\n",
       "      <td>0.004197</td>\n",
       "    </tr>\n",
       "    <tr>\n",
       "      <th>12</th>\n",
       "      <td>Dr. Reddy's Laboratories Ltd</td>\n",
       "      <td>Pharmaceuticals</td>\n",
       "      <td>0.472</td>\n",
       "      <td>0.95%</td>\n",
       "      <td>0.004484</td>\n",
       "    </tr>\n",
       "    <tr>\n",
       "      <th>13</th>\n",
       "      <td>Eicher Motors Ltd</td>\n",
       "      <td>Auto</td>\n",
       "      <td>0.426</td>\n",
       "      <td>0.65%</td>\n",
       "      <td>0.002769</td>\n",
       "    </tr>\n",
       "    <tr>\n",
       "      <th>14</th>\n",
       "      <td>GAIL (India) Ltd</td>\n",
       "      <td>Gas</td>\n",
       "      <td>0.461</td>\n",
       "      <td>0.39%</td>\n",
       "      <td>0.001798</td>\n",
       "    </tr>\n",
       "    <tr>\n",
       "      <th>15</th>\n",
       "      <td>Grasim Industries Ltd</td>\n",
       "      <td>Cement</td>\n",
       "      <td>0.814</td>\n",
       "      <td>0.70%</td>\n",
       "      <td>0.005698</td>\n",
       "    </tr>\n",
       "    <tr>\n",
       "      <th>16</th>\n",
       "      <td>HCL Technologies Ltd</td>\n",
       "      <td>Software</td>\n",
       "      <td>0.645</td>\n",
       "      <td>1.68%</td>\n",
       "      <td>0.010836</td>\n",
       "    </tr>\n",
       "    <tr>\n",
       "      <th>17</th>\n",
       "      <td>HDFC Bank Ltd</td>\n",
       "      <td>Banks</td>\n",
       "      <td>0.359</td>\n",
       "      <td>10.27%</td>\n",
       "      <td>0.036869</td>\n",
       "    </tr>\n",
       "    <tr>\n",
       "      <th>18</th>\n",
       "      <td>HDFC Life Insurance Co Ltd</td>\n",
       "      <td>Finance</td>\n",
       "      <td>0.301</td>\n",
       "      <td>0.91%</td>\n",
       "      <td>0.002739</td>\n",
       "    </tr>\n",
       "    <tr>\n",
       "      <th>19</th>\n",
       "      <td>Hero MotoCorp Ltd</td>\n",
       "      <td>Auto</td>\n",
       "      <td>0.671</td>\n",
       "      <td>0.72%</td>\n",
       "      <td>0.004831</td>\n",
       "    </tr>\n",
       "    <tr>\n",
       "      <th>20</th>\n",
       "      <td>Hindalco Industries Ltd</td>\n",
       "      <td>Non - Ferrous Metals</td>\n",
       "      <td>1.201</td>\n",
       "      <td>0.56%</td>\n",
       "      <td>0.006726</td>\n",
       "    </tr>\n",
       "    <tr>\n",
       "      <th>21</th>\n",
       "      <td>Hindustan Unilever Ltd</td>\n",
       "      <td>Consumer Non Durables</td>\n",
       "      <td>-0.001</td>\n",
       "      <td>3.43%</td>\n",
       "      <td>-0.000034</td>\n",
       "    </tr>\n",
       "    <tr>\n",
       "      <th>22</th>\n",
       "      <td>Housing Development Finance Corporation Ltd</td>\n",
       "      <td>Finance</td>\n",
       "      <td>0.225</td>\n",
       "      <td>7.26%</td>\n",
       "      <td>0.016335</td>\n",
       "    </tr>\n",
       "    <tr>\n",
       "      <th>23</th>\n",
       "      <td>ICICI Bank Ltd</td>\n",
       "      <td>Banks</td>\n",
       "      <td>0.220</td>\n",
       "      <td>6.29%</td>\n",
       "      <td>0.013838</td>\n",
       "    </tr>\n",
       "    <tr>\n",
       "      <th>24</th>\n",
       "      <td>Indian Oil Corporation Ltd</td>\n",
       "      <td>Petroleum Products</td>\n",
       "      <td>-0.053</td>\n",
       "      <td>0.40%</td>\n",
       "      <td>-0.000212</td>\n",
       "    </tr>\n",
       "    <tr>\n",
       "      <th>25</th>\n",
       "      <td>Indusind Bank Ltd</td>\n",
       "      <td>Banks</td>\n",
       "      <td>0.001</td>\n",
       "      <td>0.82%</td>\n",
       "      <td>0.000008</td>\n",
       "    </tr>\n",
       "    <tr>\n",
       "      <th>26</th>\n",
       "      <td>Infosys Ltd</td>\n",
       "      <td>Software</td>\n",
       "      <td>0.706</td>\n",
       "      <td>7.80%</td>\n",
       "      <td>0.055068</td>\n",
       "    </tr>\n",
       "    <tr>\n",
       "      <th>27</th>\n",
       "      <td>ITC Ltd</td>\n",
       "      <td>Consumer Non Durables</td>\n",
       "      <td>0.079</td>\n",
       "      <td>3.02%</td>\n",
       "      <td>0.002386</td>\n",
       "    </tr>\n",
       "    <tr>\n",
       "      <th>28</th>\n",
       "      <td>JSW Steel Ltd</td>\n",
       "      <td>Ferrous Metals</td>\n",
       "      <td>0.711</td>\n",
       "      <td>0.60%</td>\n",
       "      <td>0.004266</td>\n",
       "    </tr>\n",
       "    <tr>\n",
       "      <th>29</th>\n",
       "      <td>Kotak Mahindra Bank Ltd</td>\n",
       "      <td>Banks</td>\n",
       "      <td>0.165</td>\n",
       "      <td>4.26%</td>\n",
       "      <td>0.007029</td>\n",
       "    </tr>\n",
       "    <tr>\n",
       "      <th>30</th>\n",
       "      <td>Larsen and Toubro Ltd</td>\n",
       "      <td>Construction Project</td>\n",
       "      <td>0.275</td>\n",
       "      <td>2.74%</td>\n",
       "      <td>0.007535</td>\n",
       "    </tr>\n",
       "    <tr>\n",
       "      <th>31</th>\n",
       "      <td>Mahindra &amp; Mahindra Ltd</td>\n",
       "      <td>Auto</td>\n",
       "      <td>0.842</td>\n",
       "      <td>1.22%</td>\n",
       "      <td>0.010272</td>\n",
       "    </tr>\n",
       "    <tr>\n",
       "      <th>32</th>\n",
       "      <td>Maruti Suzuki India Ltd</td>\n",
       "      <td>Auto</td>\n",
       "      <td>0.085</td>\n",
       "      <td>1.63%</td>\n",
       "      <td>0.001386</td>\n",
       "    </tr>\n",
       "    <tr>\n",
       "      <th>33</th>\n",
       "      <td>Nestle India Ltd</td>\n",
       "      <td>Consumer Non Durables</td>\n",
       "      <td>-0.015</td>\n",
       "      <td>1.03%</td>\n",
       "      <td>-0.000154</td>\n",
       "    </tr>\n",
       "    <tr>\n",
       "      <th>34</th>\n",
       "      <td>NTPC Ltd</td>\n",
       "      <td>Power</td>\n",
       "      <td>-0.008</td>\n",
       "      <td>0.73%</td>\n",
       "      <td>-0.000058</td>\n",
       "    </tr>\n",
       "    <tr>\n",
       "      <th>35</th>\n",
       "      <td>Oil &amp; Natural Gas Corporation Ltd</td>\n",
       "      <td>Oil</td>\n",
       "      <td>0.275</td>\n",
       "      <td>0.55%</td>\n",
       "      <td>0.001512</td>\n",
       "    </tr>\n",
       "    <tr>\n",
       "      <th>36</th>\n",
       "      <td>Power Grid Corporation of India Ltd</td>\n",
       "      <td>Power</td>\n",
       "      <td>0.187</td>\n",
       "      <td>0.80%</td>\n",
       "      <td>0.001496</td>\n",
       "    </tr>\n",
       "    <tr>\n",
       "      <th>37</th>\n",
       "      <td>Reliance Industries Ltd</td>\n",
       "      <td>Petroleum Products</td>\n",
       "      <td>0.612</td>\n",
       "      <td>10.11%</td>\n",
       "      <td>0.061873</td>\n",
       "    </tr>\n",
       "    <tr>\n",
       "      <th>38</th>\n",
       "      <td>SBI Life Insurance Company Ltd</td>\n",
       "      <td>Finance</td>\n",
       "      <td>-0.030</td>\n",
       "      <td>0.57%</td>\n",
       "      <td>-0.000171</td>\n",
       "    </tr>\n",
       "    <tr>\n",
       "      <th>39</th>\n",
       "      <td>Shree Cement Ltd</td>\n",
       "      <td>Cement</td>\n",
       "      <td>0.163</td>\n",
       "      <td>0.52%</td>\n",
       "      <td>0.000848</td>\n",
       "    </tr>\n",
       "    <tr>\n",
       "      <th>40</th>\n",
       "      <td>State Bank of India</td>\n",
       "      <td>Banks</td>\n",
       "      <td>0.405</td>\n",
       "      <td>1.84%</td>\n",
       "      <td>0.007452</td>\n",
       "    </tr>\n",
       "    <tr>\n",
       "      <th>41</th>\n",
       "      <td>Sun Pharmaceutical Industries Ltd</td>\n",
       "      <td>Pharmaceuticals</td>\n",
       "      <td>0.548</td>\n",
       "      <td>1.07%</td>\n",
       "      <td>0.005864</td>\n",
       "    </tr>\n",
       "    <tr>\n",
       "      <th>42</th>\n",
       "      <td>Tata Consultancy Services Ltd</td>\n",
       "      <td>Software</td>\n",
       "      <td>0.471</td>\n",
       "      <td>5.55%</td>\n",
       "      <td>0.026140</td>\n",
       "    </tr>\n",
       "    <tr>\n",
       "      <th>43</th>\n",
       "      <td>Tata Motors Ltd</td>\n",
       "      <td>Auto</td>\n",
       "      <td>1.555</td>\n",
       "      <td>0.80%</td>\n",
       "      <td>0.012440</td>\n",
       "    </tr>\n",
       "    <tr>\n",
       "      <th>44</th>\n",
       "      <td>Tata Steel Ltd</td>\n",
       "      <td>Ferrous Metals</td>\n",
       "      <td>0.916</td>\n",
       "      <td>0.77%</td>\n",
       "      <td>0.007053</td>\n",
       "    </tr>\n",
       "    <tr>\n",
       "      <th>45</th>\n",
       "      <td>Tech Mahindra Ltd</td>\n",
       "      <td>Software</td>\n",
       "      <td>0.273</td>\n",
       "      <td>1.01%</td>\n",
       "      <td>0.002757</td>\n",
       "    </tr>\n",
       "    <tr>\n",
       "      <th>46</th>\n",
       "      <td>Titan Company Ltd</td>\n",
       "      <td>Consumer Durables</td>\n",
       "      <td>0.150</td>\n",
       "      <td>1.01%</td>\n",
       "      <td>0.001515</td>\n",
       "    </tr>\n",
       "    <tr>\n",
       "      <th>47</th>\n",
       "      <td>UltraTech Cement Ltd</td>\n",
       "      <td>Cement</td>\n",
       "      <td>0.484</td>\n",
       "      <td>1.04%</td>\n",
       "      <td>0.005034</td>\n",
       "    </tr>\n",
       "    <tr>\n",
       "      <th>48</th>\n",
       "      <td>UPL Ltd</td>\n",
       "      <td>Pesticides</td>\n",
       "      <td>0.137</td>\n",
       "      <td>0.52%</td>\n",
       "      <td>0.000712</td>\n",
       "    </tr>\n",
       "    <tr>\n",
       "      <th>49</th>\n",
       "      <td>Wipro Ltd</td>\n",
       "      <td>Software</td>\n",
       "      <td>0.883</td>\n",
       "      <td>1.05%</td>\n",
       "      <td>0.009272</td>\n",
       "    </tr>\n",
       "  </tbody>\n",
       "</table>\n",
       "</div>"
      ],
      "text/plain": [
       "                                           Name               Sectoral   CAGR  \\\n",
       "0           Adani Ports & Special Economic Zone         Transportation  1.028   \n",
       "1                              Asian Paints Ltd  Consumer Non Durables  0.318   \n",
       "2                                 Axis Bank Ltd                  Banks  0.121   \n",
       "3                                Bajaj Auto Ltd                   Auto  0.465   \n",
       "4                             Bajaj Finance Ltd                Finance  0.241   \n",
       "5                             Bajaj Finserv Ltd                Finance  0.145   \n",
       "6              Bharat Petroleum Corporation Ltd     Petroleum Products  0.086   \n",
       "7                             Bharti Airtel Ltd     Telecom - Services  0.112   \n",
       "8                      Britannia Industries Ltd  Consumer Non Durables  0.125   \n",
       "9                                     Cipla Ltd        Pharmaceuticals  0.900   \n",
       "10                               Coal India Ltd        Minerals/Mining -0.124   \n",
       "11                      Divi's Laboratories Ltd        Pharmaceuticals  0.575   \n",
       "12                 Dr. Reddy's Laboratories Ltd        Pharmaceuticals  0.472   \n",
       "13                            Eicher Motors Ltd                   Auto  0.426   \n",
       "14                             GAIL (India) Ltd                    Gas  0.461   \n",
       "15                        Grasim Industries Ltd                 Cement  0.814   \n",
       "16                         HCL Technologies Ltd               Software  0.645   \n",
       "17                                HDFC Bank Ltd                  Banks  0.359   \n",
       "18                   HDFC Life Insurance Co Ltd                Finance  0.301   \n",
       "19                            Hero MotoCorp Ltd                   Auto  0.671   \n",
       "20                      Hindalco Industries Ltd   Non - Ferrous Metals  1.201   \n",
       "21                       Hindustan Unilever Ltd  Consumer Non Durables -0.001   \n",
       "22  Housing Development Finance Corporation Ltd                Finance  0.225   \n",
       "23                               ICICI Bank Ltd                  Banks  0.220   \n",
       "24                   Indian Oil Corporation Ltd     Petroleum Products -0.053   \n",
       "25                            Indusind Bank Ltd                  Banks  0.001   \n",
       "26                                  Infosys Ltd               Software  0.706   \n",
       "27                                      ITC Ltd  Consumer Non Durables  0.079   \n",
       "28                                JSW Steel Ltd         Ferrous Metals  0.711   \n",
       "29                      Kotak Mahindra Bank Ltd                  Banks  0.165   \n",
       "30                        Larsen and Toubro Ltd   Construction Project  0.275   \n",
       "31                      Mahindra & Mahindra Ltd                   Auto  0.842   \n",
       "32                      Maruti Suzuki India Ltd                   Auto  0.085   \n",
       "33                             Nestle India Ltd  Consumer Non Durables -0.015   \n",
       "34                                     NTPC Ltd                  Power -0.008   \n",
       "35            Oil & Natural Gas Corporation Ltd                    Oil  0.275   \n",
       "36          Power Grid Corporation of India Ltd                  Power  0.187   \n",
       "37                      Reliance Industries Ltd     Petroleum Products  0.612   \n",
       "38               SBI Life Insurance Company Ltd                Finance -0.030   \n",
       "39                             Shree Cement Ltd                 Cement  0.163   \n",
       "40                          State Bank of India                  Banks  0.405   \n",
       "41            Sun Pharmaceutical Industries Ltd        Pharmaceuticals  0.548   \n",
       "42                Tata Consultancy Services Ltd               Software  0.471   \n",
       "43                              Tata Motors Ltd                   Auto  1.555   \n",
       "44                               Tata Steel Ltd         Ferrous Metals  0.916   \n",
       "45                            Tech Mahindra Ltd               Software  0.273   \n",
       "46                            Titan Company Ltd      Consumer Durables  0.150   \n",
       "47                         UltraTech Cement Ltd                 Cement  0.484   \n",
       "48                                      UPL Ltd             Pesticides  0.137   \n",
       "49                                    Wipro Ltd               Software  0.883   \n",
       "\n",
       "   Weightage  Weighted Return  \n",
       "0      0.63%         0.006476  \n",
       "1      1.84%         0.005851  \n",
       "2      2.79%         0.003376  \n",
       "3      0.89%         0.004138  \n",
       "4      2.13%         0.005133  \n",
       "5      0.90%         0.001305  \n",
       "6      0.52%         0.000447  \n",
       "7      2.26%         0.002531  \n",
       "8      0.70%         0.000875  \n",
       "9      0.71%         0.006390  \n",
       "10     0.45%        -0.000558  \n",
       "11     0.73%         0.004197  \n",
       "12     0.95%         0.004484  \n",
       "13     0.65%         0.002769  \n",
       "14     0.39%         0.001798  \n",
       "15     0.70%         0.005698  \n",
       "16     1.68%         0.010836  \n",
       "17    10.27%         0.036869  \n",
       "18     0.91%         0.002739  \n",
       "19     0.72%         0.004831  \n",
       "20     0.56%         0.006726  \n",
       "21     3.43%        -0.000034  \n",
       "22     7.26%         0.016335  \n",
       "23     6.29%         0.013838  \n",
       "24     0.40%        -0.000212  \n",
       "25     0.82%         0.000008  \n",
       "26     7.80%         0.055068  \n",
       "27     3.02%         0.002386  \n",
       "28     0.60%         0.004266  \n",
       "29     4.26%         0.007029  \n",
       "30     2.74%         0.007535  \n",
       "31     1.22%         0.010272  \n",
       "32     1.63%         0.001386  \n",
       "33     1.03%        -0.000154  \n",
       "34     0.73%        -0.000058  \n",
       "35     0.55%         0.001512  \n",
       "36     0.80%         0.001496  \n",
       "37    10.11%         0.061873  \n",
       "38     0.57%        -0.000171  \n",
       "39     0.52%         0.000848  \n",
       "40     1.84%         0.007452  \n",
       "41     1.07%         0.005864  \n",
       "42     5.55%         0.026140  \n",
       "43     0.80%         0.012440  \n",
       "44     0.77%         0.007053  \n",
       "45     1.01%         0.002757  \n",
       "46     1.01%         0.001515  \n",
       "47     1.04%         0.005034  \n",
       "48     0.52%         0.000712  \n",
       "49     1.05%         0.009272  "
      ]
     },
     "execution_count": 4,
     "metadata": {},
     "output_type": "execute_result"
    }
   ],
   "source": [
    "Nifty50_CAGR"
   ]
  },
  {
   "cell_type": "markdown",
   "metadata": {},
   "source": [
    "Portfolio_CAGR represents all the stocks in the Canara Robeco Blue Chip Equity fund (Growth), their sectors, their weightage in Nifty50, their CAGR in the past year and Weighted Return (CAGR * Weight).\n",
    "I calculated the CAGR by downoading the Historical Data from yahoo Finance and then computing the same."
   ]
  },
  {
   "cell_type": "code",
   "execution_count": 5,
   "metadata": {},
   "outputs": [
    {
     "data": {
      "text/html": [
       "<div>\n",
       "<style scoped>\n",
       "    .dataframe tbody tr th:only-of-type {\n",
       "        vertical-align: middle;\n",
       "    }\n",
       "\n",
       "    .dataframe tbody tr th {\n",
       "        vertical-align: top;\n",
       "    }\n",
       "\n",
       "    .dataframe thead th {\n",
       "        text-align: right;\n",
       "    }\n",
       "</style>\n",
       "<table border=\"1\" class=\"dataframe\">\n",
       "  <thead>\n",
       "    <tr style=\"text-align: right;\">\n",
       "      <th></th>\n",
       "      <th>Name</th>\n",
       "      <th>Sector</th>\n",
       "      <th>CAGR</th>\n",
       "      <th>Weightage</th>\n",
       "      <th>Weighted Return</th>\n",
       "    </tr>\n",
       "  </thead>\n",
       "  <tbody>\n",
       "    <tr>\n",
       "      <th>0</th>\n",
       "      <td>Abbott India Ltd</td>\n",
       "      <td>Pharmaceuticals</td>\n",
       "      <td>-0.070</td>\n",
       "      <td>0.76%</td>\n",
       "      <td>-0.000532</td>\n",
       "    </tr>\n",
       "    <tr>\n",
       "      <th>1</th>\n",
       "      <td>Asian Paints Ltd</td>\n",
       "      <td>Consumer Non Durables</td>\n",
       "      <td>0.318</td>\n",
       "      <td>0.83%</td>\n",
       "      <td>0.002639</td>\n",
       "    </tr>\n",
       "    <tr>\n",
       "      <th>2</th>\n",
       "      <td>Avenue Supermarts Ltd</td>\n",
       "      <td>Retailing</td>\n",
       "      <td>0.383</td>\n",
       "      <td>1.26%</td>\n",
       "      <td>0.004826</td>\n",
       "    </tr>\n",
       "    <tr>\n",
       "      <th>3</th>\n",
       "      <td>Axis Bank Ltd</td>\n",
       "      <td>Banks</td>\n",
       "      <td>0.121</td>\n",
       "      <td>3.36%</td>\n",
       "      <td>0.004066</td>\n",
       "    </tr>\n",
       "    <tr>\n",
       "      <th>4</th>\n",
       "      <td>Bajaj Auto Ltd</td>\n",
       "      <td>Auto</td>\n",
       "      <td>0.465</td>\n",
       "      <td>1.76%</td>\n",
       "      <td>0.008184</td>\n",
       "    </tr>\n",
       "    <tr>\n",
       "      <th>5</th>\n",
       "      <td>Bajaj Finance Ltd</td>\n",
       "      <td>Finance</td>\n",
       "      <td>0.241</td>\n",
       "      <td>3.72%</td>\n",
       "      <td>0.008965</td>\n",
       "    </tr>\n",
       "    <tr>\n",
       "      <th>6</th>\n",
       "      <td>Bharti Airtel Ltd</td>\n",
       "      <td>Telecom - Services</td>\n",
       "      <td>0.112</td>\n",
       "      <td>3.06%</td>\n",
       "      <td>0.003427</td>\n",
       "    </tr>\n",
       "    <tr>\n",
       "      <th>7</th>\n",
       "      <td>Britannia Industries Ltd</td>\n",
       "      <td>Consumer Non Durables</td>\n",
       "      <td>0.125</td>\n",
       "      <td>1.21%</td>\n",
       "      <td>0.001512</td>\n",
       "    </tr>\n",
       "    <tr>\n",
       "      <th>8</th>\n",
       "      <td>Cipla Ltd</td>\n",
       "      <td>Pharmaceuticals</td>\n",
       "      <td>0.900</td>\n",
       "      <td>1.33%</td>\n",
       "      <td>0.011970</td>\n",
       "    </tr>\n",
       "    <tr>\n",
       "      <th>9</th>\n",
       "      <td>Crompton Greaves Consumer Electricals Ltd</td>\n",
       "      <td>Consumer Durables</td>\n",
       "      <td>0.380</td>\n",
       "      <td>1.76%</td>\n",
       "      <td>0.006688</td>\n",
       "    </tr>\n",
       "    <tr>\n",
       "      <th>10</th>\n",
       "      <td>Cummins India Ltd</td>\n",
       "      <td>Industrial Products</td>\n",
       "      <td>0.590</td>\n",
       "      <td>0.44%</td>\n",
       "      <td>0.002596</td>\n",
       "    </tr>\n",
       "    <tr>\n",
       "      <th>11</th>\n",
       "      <td>Divi's Laboratories Ltd</td>\n",
       "      <td>Pharmaceuticals</td>\n",
       "      <td>0.575</td>\n",
       "      <td>1.28%</td>\n",
       "      <td>0.007360</td>\n",
       "    </tr>\n",
       "    <tr>\n",
       "      <th>12</th>\n",
       "      <td>Dr. Lal Path Labs Ltd</td>\n",
       "      <td>Healthcare Services</td>\n",
       "      <td>0.375</td>\n",
       "      <td>0.38%</td>\n",
       "      <td>0.001425</td>\n",
       "    </tr>\n",
       "    <tr>\n",
       "      <th>13</th>\n",
       "      <td>Dr. Reddy's Laboratories Ltd</td>\n",
       "      <td>Pharmaceuticals</td>\n",
       "      <td>0.472</td>\n",
       "      <td>1.36%</td>\n",
       "      <td>0.006419</td>\n",
       "    </tr>\n",
       "    <tr>\n",
       "      <th>14</th>\n",
       "      <td>Eicher Motors Ltd</td>\n",
       "      <td>Auto</td>\n",
       "      <td>0.426</td>\n",
       "      <td>0.91%</td>\n",
       "      <td>0.003877</td>\n",
       "    </tr>\n",
       "    <tr>\n",
       "      <th>15</th>\n",
       "      <td>Gujarat Gas Ltd</td>\n",
       "      <td>Gas</td>\n",
       "      <td>0.715</td>\n",
       "      <td>1.02%</td>\n",
       "      <td>0.007293</td>\n",
       "    </tr>\n",
       "    <tr>\n",
       "      <th>16</th>\n",
       "      <td>HCL Technologies Ltd</td>\n",
       "      <td>Software</td>\n",
       "      <td>0.645</td>\n",
       "      <td>3.38%</td>\n",
       "      <td>0.021801</td>\n",
       "    </tr>\n",
       "    <tr>\n",
       "      <th>17</th>\n",
       "      <td>HDFC Bank Ltd</td>\n",
       "      <td>Banks</td>\n",
       "      <td>0.359</td>\n",
       "      <td>8.45%</td>\n",
       "      <td>0.030336</td>\n",
       "    </tr>\n",
       "    <tr>\n",
       "      <th>18</th>\n",
       "      <td>HDFC Life Insurance Co Ltd</td>\n",
       "      <td>Finance</td>\n",
       "      <td>0.301</td>\n",
       "      <td>0.90%</td>\n",
       "      <td>0.002709</td>\n",
       "    </tr>\n",
       "    <tr>\n",
       "      <th>19</th>\n",
       "      <td>Hindalco Industries Ltd</td>\n",
       "      <td>Non - Ferrous Metals</td>\n",
       "      <td>1.201</td>\n",
       "      <td>0.08%</td>\n",
       "      <td>0.000961</td>\n",
       "    </tr>\n",
       "    <tr>\n",
       "      <th>20</th>\n",
       "      <td>Hindustan Unilever Ltd</td>\n",
       "      <td>Consumer Non Durables</td>\n",
       "      <td>-0.001</td>\n",
       "      <td>2.40%</td>\n",
       "      <td>-0.000024</td>\n",
       "    </tr>\n",
       "    <tr>\n",
       "      <th>21</th>\n",
       "      <td>Housing Development Finance Corporation Ltd</td>\n",
       "      <td>Finance</td>\n",
       "      <td>0.225</td>\n",
       "      <td>4.16%</td>\n",
       "      <td>0.009360</td>\n",
       "    </tr>\n",
       "    <tr>\n",
       "      <th>22</th>\n",
       "      <td>ICICI Bank Ltd</td>\n",
       "      <td>Banks</td>\n",
       "      <td>0.220</td>\n",
       "      <td>7.12%</td>\n",
       "      <td>0.015664</td>\n",
       "    </tr>\n",
       "    <tr>\n",
       "      <th>23</th>\n",
       "      <td>ICICI Lombard General Insurance Co Ltd</td>\n",
       "      <td>Finance</td>\n",
       "      <td>0.224</td>\n",
       "      <td>0.65%</td>\n",
       "      <td>0.001456</td>\n",
       "    </tr>\n",
       "    <tr>\n",
       "      <th>24</th>\n",
       "      <td>Indraprastha Gas Ltd</td>\n",
       "      <td>Gas</td>\n",
       "      <td>0.141</td>\n",
       "      <td>0.92%</td>\n",
       "      <td>0.001297</td>\n",
       "    </tr>\n",
       "    <tr>\n",
       "      <th>25</th>\n",
       "      <td>Infosys Ltd</td>\n",
       "      <td>Software</td>\n",
       "      <td>0.706</td>\n",
       "      <td>7.81%</td>\n",
       "      <td>0.055139</td>\n",
       "    </tr>\n",
       "    <tr>\n",
       "      <th>26</th>\n",
       "      <td>ITC Ltd</td>\n",
       "      <td>Consumer Non Durables</td>\n",
       "      <td>0.079</td>\n",
       "      <td>1.15%</td>\n",
       "      <td>0.000909</td>\n",
       "    </tr>\n",
       "    <tr>\n",
       "      <th>27</th>\n",
       "      <td>Jubilant Foodworks Ltd</td>\n",
       "      <td>Consumer Non Durables</td>\n",
       "      <td>0.801</td>\n",
       "      <td>0.21%</td>\n",
       "      <td>0.001682</td>\n",
       "    </tr>\n",
       "    <tr>\n",
       "      <th>28</th>\n",
       "      <td>Kansai Nerolac Paints Ltd</td>\n",
       "      <td>Consumer Non Durables</td>\n",
       "      <td>0.146</td>\n",
       "      <td>0.87%</td>\n",
       "      <td>0.001270</td>\n",
       "    </tr>\n",
       "    <tr>\n",
       "      <th>29</th>\n",
       "      <td>Kotak Mahindra Bank Ltd</td>\n",
       "      <td>Banks</td>\n",
       "      <td>0.165</td>\n",
       "      <td>1.98%</td>\n",
       "      <td>0.003267</td>\n",
       "    </tr>\n",
       "    <tr>\n",
       "      <th>30</th>\n",
       "      <td>Larsen and Toubro Ltd</td>\n",
       "      <td>Construction Project</td>\n",
       "      <td>0.275</td>\n",
       "      <td>3.37%</td>\n",
       "      <td>0.009267</td>\n",
       "    </tr>\n",
       "    <tr>\n",
       "      <th>31</th>\n",
       "      <td>Mahindra &amp; Mahindra Ltd</td>\n",
       "      <td>Auto</td>\n",
       "      <td>0.842</td>\n",
       "      <td>1.33%</td>\n",
       "      <td>0.011199</td>\n",
       "    </tr>\n",
       "    <tr>\n",
       "      <th>32</th>\n",
       "      <td>Maruti Suzuki India Ltd</td>\n",
       "      <td>Auto</td>\n",
       "      <td>0.085</td>\n",
       "      <td>2.05%</td>\n",
       "      <td>0.001743</td>\n",
       "    </tr>\n",
       "    <tr>\n",
       "      <th>33</th>\n",
       "      <td>Max Financial Services Ltd</td>\n",
       "      <td>Finance</td>\n",
       "      <td>0.503</td>\n",
       "      <td>1.07%</td>\n",
       "      <td>0.005382</td>\n",
       "    </tr>\n",
       "    <tr>\n",
       "      <th>34</th>\n",
       "      <td>Mphasis Ltd</td>\n",
       "      <td>Software</td>\n",
       "      <td>0.891</td>\n",
       "      <td>0.51%</td>\n",
       "      <td>0.004544</td>\n",
       "    </tr>\n",
       "    <tr>\n",
       "      <th>35</th>\n",
       "      <td>Nestle India Ltd</td>\n",
       "      <td>Consumer Non Durables</td>\n",
       "      <td>-0.015</td>\n",
       "      <td>0.50%</td>\n",
       "      <td>-0.000075</td>\n",
       "    </tr>\n",
       "    <tr>\n",
       "      <th>36</th>\n",
       "      <td>PI Industries Ltd</td>\n",
       "      <td>Pesticides</td>\n",
       "      <td>0.431</td>\n",
       "      <td>1.12%</td>\n",
       "      <td>0.004827</td>\n",
       "    </tr>\n",
       "    <tr>\n",
       "      <th>37</th>\n",
       "      <td>Reliance Industries Ltd</td>\n",
       "      <td>Petroleum Products</td>\n",
       "      <td>0.612</td>\n",
       "      <td>5.53%</td>\n",
       "      <td>0.033844</td>\n",
       "    </tr>\n",
       "    <tr>\n",
       "      <th>38</th>\n",
       "      <td>Shree Cement Ltd</td>\n",
       "      <td>Cement</td>\n",
       "      <td>0.163</td>\n",
       "      <td>0.89%</td>\n",
       "      <td>0.001451</td>\n",
       "    </tr>\n",
       "    <tr>\n",
       "      <th>39</th>\n",
       "      <td>State Bank of India</td>\n",
       "      <td>Banks</td>\n",
       "      <td>0.405</td>\n",
       "      <td>2.76%</td>\n",
       "      <td>0.011178</td>\n",
       "    </tr>\n",
       "    <tr>\n",
       "      <th>40</th>\n",
       "      <td>Sun Pharmaceutical Industries Ltd</td>\n",
       "      <td>Pharmaceuticals</td>\n",
       "      <td>0.548</td>\n",
       "      <td>1.19%</td>\n",
       "      <td>0.006521</td>\n",
       "    </tr>\n",
       "    <tr>\n",
       "      <th>41</th>\n",
       "      <td>Tata Consultancy Services Ltd</td>\n",
       "      <td>Software</td>\n",
       "      <td>0.471</td>\n",
       "      <td>3.93%</td>\n",
       "      <td>0.018510</td>\n",
       "    </tr>\n",
       "    <tr>\n",
       "      <th>42</th>\n",
       "      <td>Tata Consumer Products Ltd</td>\n",
       "      <td>Consumer Non Durables</td>\n",
       "      <td>0.769</td>\n",
       "      <td>1.18%</td>\n",
       "      <td>0.009074</td>\n",
       "    </tr>\n",
       "    <tr>\n",
       "      <th>43</th>\n",
       "      <td>Titan Company Ltd</td>\n",
       "      <td>Consumer Durables</td>\n",
       "      <td>0.150</td>\n",
       "      <td>1.03%</td>\n",
       "      <td>0.001545</td>\n",
       "    </tr>\n",
       "    <tr>\n",
       "      <th>44</th>\n",
       "      <td>Ultratech Cement Ltd</td>\n",
       "      <td>Cement</td>\n",
       "      <td>0.484</td>\n",
       "      <td>2.02%</td>\n",
       "      <td>0.009777</td>\n",
       "    </tr>\n",
       "    <tr>\n",
       "      <th>45</th>\n",
       "      <td>Voltas Ltd</td>\n",
       "      <td>Consumer Durables</td>\n",
       "      <td>0.518</td>\n",
       "      <td>1.55%</td>\n",
       "      <td>0.008029</td>\n",
       "    </tr>\n",
       "    <tr>\n",
       "      <th>46</th>\n",
       "      <td>Whirlpool Of India Ltd</td>\n",
       "      <td>Consumer Durables</td>\n",
       "      <td>0.088</td>\n",
       "      <td>0.96%</td>\n",
       "      <td>0.000845</td>\n",
       "    </tr>\n",
       "  </tbody>\n",
       "</table>\n",
       "</div>"
      ],
      "text/plain": [
       "                                           Name                 Sector   CAGR  \\\n",
       "0                              Abbott India Ltd        Pharmaceuticals -0.070   \n",
       "1                              Asian Paints Ltd  Consumer Non Durables  0.318   \n",
       "2                         Avenue Supermarts Ltd              Retailing  0.383   \n",
       "3                                 Axis Bank Ltd                  Banks  0.121   \n",
       "4                                Bajaj Auto Ltd                   Auto  0.465   \n",
       "5                             Bajaj Finance Ltd                Finance  0.241   \n",
       "6                             Bharti Airtel Ltd     Telecom - Services  0.112   \n",
       "7                      Britannia Industries Ltd  Consumer Non Durables  0.125   \n",
       "8                                     Cipla Ltd        Pharmaceuticals  0.900   \n",
       "9     Crompton Greaves Consumer Electricals Ltd      Consumer Durables  0.380   \n",
       "10                            Cummins India Ltd    Industrial Products  0.590   \n",
       "11                      Divi's Laboratories Ltd        Pharmaceuticals  0.575   \n",
       "12                        Dr. Lal Path Labs Ltd    Healthcare Services  0.375   \n",
       "13                 Dr. Reddy's Laboratories Ltd        Pharmaceuticals  0.472   \n",
       "14                            Eicher Motors Ltd                   Auto  0.426   \n",
       "15                              Gujarat Gas Ltd                    Gas  0.715   \n",
       "16                         HCL Technologies Ltd               Software  0.645   \n",
       "17                                HDFC Bank Ltd                  Banks  0.359   \n",
       "18                   HDFC Life Insurance Co Ltd                Finance  0.301   \n",
       "19                      Hindalco Industries Ltd   Non - Ferrous Metals  1.201   \n",
       "20                       Hindustan Unilever Ltd  Consumer Non Durables -0.001   \n",
       "21  Housing Development Finance Corporation Ltd                Finance  0.225   \n",
       "22                               ICICI Bank Ltd                  Banks  0.220   \n",
       "23       ICICI Lombard General Insurance Co Ltd                Finance  0.224   \n",
       "24                         Indraprastha Gas Ltd                    Gas  0.141   \n",
       "25                                  Infosys Ltd               Software  0.706   \n",
       "26                                      ITC Ltd  Consumer Non Durables  0.079   \n",
       "27                       Jubilant Foodworks Ltd  Consumer Non Durables  0.801   \n",
       "28                    Kansai Nerolac Paints Ltd  Consumer Non Durables  0.146   \n",
       "29                      Kotak Mahindra Bank Ltd                  Banks  0.165   \n",
       "30                        Larsen and Toubro Ltd   Construction Project  0.275   \n",
       "31                      Mahindra & Mahindra Ltd                   Auto  0.842   \n",
       "32                      Maruti Suzuki India Ltd                   Auto  0.085   \n",
       "33                   Max Financial Services Ltd                Finance  0.503   \n",
       "34                                  Mphasis Ltd               Software  0.891   \n",
       "35                             Nestle India Ltd  Consumer Non Durables -0.015   \n",
       "36                            PI Industries Ltd             Pesticides  0.431   \n",
       "37                      Reliance Industries Ltd     Petroleum Products  0.612   \n",
       "38                             Shree Cement Ltd                 Cement  0.163   \n",
       "39                          State Bank of India                  Banks  0.405   \n",
       "40            Sun Pharmaceutical Industries Ltd        Pharmaceuticals  0.548   \n",
       "41                Tata Consultancy Services Ltd               Software  0.471   \n",
       "42                   Tata Consumer Products Ltd  Consumer Non Durables  0.769   \n",
       "43                            Titan Company Ltd      Consumer Durables  0.150   \n",
       "44                         Ultratech Cement Ltd                 Cement  0.484   \n",
       "45                                   Voltas Ltd      Consumer Durables  0.518   \n",
       "46                       Whirlpool Of India Ltd      Consumer Durables  0.088   \n",
       "\n",
       "   Weightage  Weighted Return  \n",
       "0      0.76%        -0.000532  \n",
       "1      0.83%         0.002639  \n",
       "2      1.26%         0.004826  \n",
       "3      3.36%         0.004066  \n",
       "4      1.76%         0.008184  \n",
       "5      3.72%         0.008965  \n",
       "6      3.06%         0.003427  \n",
       "7      1.21%         0.001512  \n",
       "8      1.33%         0.011970  \n",
       "9      1.76%         0.006688  \n",
       "10     0.44%         0.002596  \n",
       "11     1.28%         0.007360  \n",
       "12     0.38%         0.001425  \n",
       "13     1.36%         0.006419  \n",
       "14     0.91%         0.003877  \n",
       "15     1.02%         0.007293  \n",
       "16     3.38%         0.021801  \n",
       "17     8.45%         0.030336  \n",
       "18     0.90%         0.002709  \n",
       "19     0.08%         0.000961  \n",
       "20     2.40%        -0.000024  \n",
       "21     4.16%         0.009360  \n",
       "22     7.12%         0.015664  \n",
       "23     0.65%         0.001456  \n",
       "24     0.92%         0.001297  \n",
       "25     7.81%         0.055139  \n",
       "26     1.15%         0.000909  \n",
       "27     0.21%         0.001682  \n",
       "28     0.87%         0.001270  \n",
       "29     1.98%         0.003267  \n",
       "30     3.37%         0.009267  \n",
       "31     1.33%         0.011199  \n",
       "32     2.05%         0.001743  \n",
       "33     1.07%         0.005382  \n",
       "34     0.51%         0.004544  \n",
       "35     0.50%        -0.000075  \n",
       "36     1.12%         0.004827  \n",
       "37     5.53%         0.033844  \n",
       "38     0.89%         0.001451  \n",
       "39     2.76%         0.011178  \n",
       "40     1.19%         0.006521  \n",
       "41     3.93%         0.018510  \n",
       "42     1.18%         0.009074  \n",
       "43     1.03%         0.001545  \n",
       "44     2.02%         0.009777  \n",
       "45     1.55%         0.008029  \n",
       "46     0.96%         0.000845  "
      ]
     },
     "execution_count": 5,
     "metadata": {},
     "output_type": "execute_result"
    }
   ],
   "source": [
    "Portfolio_CAGR"
   ]
  },
  {
   "cell_type": "markdown",
   "metadata": {},
   "source": [
    "Stock_CAGR represents all the stocks in our universe of the project, their weightage in Nifty50 and Portfolio, their CAGR in the past year and Weighted Return (CAGR * Weight) for both Nifty50 and Portfolio.\n",
    "I calculated the CAGR by downoading the Historical Data from yahoo Finance and then computing the same."
   ]
  },
  {
   "cell_type": "code",
   "execution_count": 6,
   "metadata": {},
   "outputs": [
    {
     "data": {
      "text/html": [
       "<div>\n",
       "<style scoped>\n",
       "    .dataframe tbody tr th:only-of-type {\n",
       "        vertical-align: middle;\n",
       "    }\n",
       "\n",
       "    .dataframe tbody tr th {\n",
       "        vertical-align: top;\n",
       "    }\n",
       "\n",
       "    .dataframe thead th {\n",
       "        text-align: right;\n",
       "    }\n",
       "</style>\n",
       "<table border=\"1\" class=\"dataframe\">\n",
       "  <thead>\n",
       "    <tr style=\"text-align: right;\">\n",
       "      <th></th>\n",
       "      <th>Stocks</th>\n",
       "      <th>CAGR</th>\n",
       "      <th>Nifty50 Weightage</th>\n",
       "      <th>Nifty50 CAGR</th>\n",
       "      <th>Portfolio Weightage</th>\n",
       "      <th>Portfolio CAGR</th>\n",
       "    </tr>\n",
       "  </thead>\n",
       "  <tbody>\n",
       "    <tr>\n",
       "      <th>0</th>\n",
       "      <td>Asian Paints Ltd</td>\n",
       "      <td>0.318</td>\n",
       "      <td>1.84</td>\n",
       "      <td>0.005851</td>\n",
       "      <td>0.83</td>\n",
       "      <td>0.002639</td>\n",
       "    </tr>\n",
       "    <tr>\n",
       "      <th>1</th>\n",
       "      <td>Abbott India Ltd</td>\n",
       "      <td>-0.070</td>\n",
       "      <td>0.00</td>\n",
       "      <td>0.000000</td>\n",
       "      <td>0.76</td>\n",
       "      <td>-0.000532</td>\n",
       "    </tr>\n",
       "    <tr>\n",
       "      <th>2</th>\n",
       "      <td>Adani Ports &amp; Special Economic Zone</td>\n",
       "      <td>1.028</td>\n",
       "      <td>0.63</td>\n",
       "      <td>0.006476</td>\n",
       "      <td>0.00</td>\n",
       "      <td>0.000000</td>\n",
       "    </tr>\n",
       "    <tr>\n",
       "      <th>3</th>\n",
       "      <td>Avenue Supermarts Ltd</td>\n",
       "      <td>0.383</td>\n",
       "      <td>0.00</td>\n",
       "      <td>0.000000</td>\n",
       "      <td>1.26</td>\n",
       "      <td>0.004826</td>\n",
       "    </tr>\n",
       "    <tr>\n",
       "      <th>4</th>\n",
       "      <td>Axis Bank Ltd</td>\n",
       "      <td>0.121</td>\n",
       "      <td>2.79</td>\n",
       "      <td>0.003376</td>\n",
       "      <td>3.36</td>\n",
       "      <td>0.004066</td>\n",
       "    </tr>\n",
       "    <tr>\n",
       "      <th>5</th>\n",
       "      <td>Bajaj Auto Ltd</td>\n",
       "      <td>0.465</td>\n",
       "      <td>0.89</td>\n",
       "      <td>0.004138</td>\n",
       "      <td>1.76</td>\n",
       "      <td>0.008184</td>\n",
       "    </tr>\n",
       "    <tr>\n",
       "      <th>6</th>\n",
       "      <td>Bajaj Finance Ltd</td>\n",
       "      <td>0.241</td>\n",
       "      <td>2.13</td>\n",
       "      <td>0.005133</td>\n",
       "      <td>3.72</td>\n",
       "      <td>0.008965</td>\n",
       "    </tr>\n",
       "    <tr>\n",
       "      <th>7</th>\n",
       "      <td>Bajaj Finserv Ltd</td>\n",
       "      <td>0.145</td>\n",
       "      <td>0.90</td>\n",
       "      <td>0.001305</td>\n",
       "      <td>0.00</td>\n",
       "      <td>0.000000</td>\n",
       "    </tr>\n",
       "    <tr>\n",
       "      <th>8</th>\n",
       "      <td>Bharat Petroleum Corporation Ltd</td>\n",
       "      <td>0.086</td>\n",
       "      <td>0.52</td>\n",
       "      <td>0.000447</td>\n",
       "      <td>0.00</td>\n",
       "      <td>0.000000</td>\n",
       "    </tr>\n",
       "    <tr>\n",
       "      <th>9</th>\n",
       "      <td>Bharti Airtel Ltd</td>\n",
       "      <td>0.112</td>\n",
       "      <td>2.26</td>\n",
       "      <td>0.002531</td>\n",
       "      <td>3.06</td>\n",
       "      <td>0.003427</td>\n",
       "    </tr>\n",
       "    <tr>\n",
       "      <th>10</th>\n",
       "      <td>Britannia Industries Ltd</td>\n",
       "      <td>0.125</td>\n",
       "      <td>0.70</td>\n",
       "      <td>0.000875</td>\n",
       "      <td>1.21</td>\n",
       "      <td>0.001512</td>\n",
       "    </tr>\n",
       "    <tr>\n",
       "      <th>11</th>\n",
       "      <td>Cipla Ltd</td>\n",
       "      <td>0.900</td>\n",
       "      <td>0.71</td>\n",
       "      <td>0.006390</td>\n",
       "      <td>1.33</td>\n",
       "      <td>0.011970</td>\n",
       "    </tr>\n",
       "    <tr>\n",
       "      <th>12</th>\n",
       "      <td>Coal India Ltd</td>\n",
       "      <td>-0.124</td>\n",
       "      <td>0.45</td>\n",
       "      <td>-0.000558</td>\n",
       "      <td>0.00</td>\n",
       "      <td>0.000000</td>\n",
       "    </tr>\n",
       "    <tr>\n",
       "      <th>13</th>\n",
       "      <td>Crompton Greaves Consumer Electricals Ltd</td>\n",
       "      <td>0.380</td>\n",
       "      <td>0.00</td>\n",
       "      <td>0.000000</td>\n",
       "      <td>1.76</td>\n",
       "      <td>0.006688</td>\n",
       "    </tr>\n",
       "    <tr>\n",
       "      <th>14</th>\n",
       "      <td>Cummins India Ltd</td>\n",
       "      <td>0.590</td>\n",
       "      <td>0.00</td>\n",
       "      <td>0.000000</td>\n",
       "      <td>0.44</td>\n",
       "      <td>0.002596</td>\n",
       "    </tr>\n",
       "    <tr>\n",
       "      <th>15</th>\n",
       "      <td>Divi's Laboratories Ltd</td>\n",
       "      <td>0.575</td>\n",
       "      <td>0.73</td>\n",
       "      <td>0.004197</td>\n",
       "      <td>1.28</td>\n",
       "      <td>0.007360</td>\n",
       "    </tr>\n",
       "    <tr>\n",
       "      <th>16</th>\n",
       "      <td>Dr. Lal Path Labs Ltd</td>\n",
       "      <td>0.375</td>\n",
       "      <td>0.00</td>\n",
       "      <td>0.000000</td>\n",
       "      <td>0.38</td>\n",
       "      <td>0.001425</td>\n",
       "    </tr>\n",
       "    <tr>\n",
       "      <th>17</th>\n",
       "      <td>Dr. Reddy's Laboratories Ltd</td>\n",
       "      <td>0.472</td>\n",
       "      <td>0.95</td>\n",
       "      <td>0.004484</td>\n",
       "      <td>1.36</td>\n",
       "      <td>0.006419</td>\n",
       "    </tr>\n",
       "    <tr>\n",
       "      <th>18</th>\n",
       "      <td>Eicher Motors Ltd</td>\n",
       "      <td>0.426</td>\n",
       "      <td>0.65</td>\n",
       "      <td>0.002769</td>\n",
       "      <td>0.91</td>\n",
       "      <td>0.003877</td>\n",
       "    </tr>\n",
       "    <tr>\n",
       "      <th>19</th>\n",
       "      <td>GAIL (India) Ltd</td>\n",
       "      <td>0.461</td>\n",
       "      <td>0.39</td>\n",
       "      <td>0.001798</td>\n",
       "      <td>0.00</td>\n",
       "      <td>0.000000</td>\n",
       "    </tr>\n",
       "    <tr>\n",
       "      <th>20</th>\n",
       "      <td>Grasim Industries Ltd</td>\n",
       "      <td>0.814</td>\n",
       "      <td>0.70</td>\n",
       "      <td>0.005698</td>\n",
       "      <td>0.00</td>\n",
       "      <td>0.000000</td>\n",
       "    </tr>\n",
       "    <tr>\n",
       "      <th>21</th>\n",
       "      <td>Gujarat Gas Ltd</td>\n",
       "      <td>0.715</td>\n",
       "      <td>0.00</td>\n",
       "      <td>0.000000</td>\n",
       "      <td>1.02</td>\n",
       "      <td>0.007293</td>\n",
       "    </tr>\n",
       "    <tr>\n",
       "      <th>22</th>\n",
       "      <td>HCL Technologies Ltd</td>\n",
       "      <td>0.645</td>\n",
       "      <td>1.68</td>\n",
       "      <td>0.010836</td>\n",
       "      <td>3.38</td>\n",
       "      <td>0.021801</td>\n",
       "    </tr>\n",
       "    <tr>\n",
       "      <th>23</th>\n",
       "      <td>HDFC Bank Ltd</td>\n",
       "      <td>0.359</td>\n",
       "      <td>10.27</td>\n",
       "      <td>0.036869</td>\n",
       "      <td>8.45</td>\n",
       "      <td>0.030336</td>\n",
       "    </tr>\n",
       "    <tr>\n",
       "      <th>24</th>\n",
       "      <td>HDFC Life Insurance Co Ltd</td>\n",
       "      <td>0.301</td>\n",
       "      <td>0.91</td>\n",
       "      <td>0.002739</td>\n",
       "      <td>0.90</td>\n",
       "      <td>0.002709</td>\n",
       "    </tr>\n",
       "    <tr>\n",
       "      <th>25</th>\n",
       "      <td>Hero MotoCorp Ltd</td>\n",
       "      <td>0.671</td>\n",
       "      <td>0.72</td>\n",
       "      <td>0.004831</td>\n",
       "      <td>0.00</td>\n",
       "      <td>0.000000</td>\n",
       "    </tr>\n",
       "    <tr>\n",
       "      <th>26</th>\n",
       "      <td>Hindalco Industries Ltd</td>\n",
       "      <td>1.201</td>\n",
       "      <td>0.56</td>\n",
       "      <td>0.006726</td>\n",
       "      <td>0.08</td>\n",
       "      <td>0.000961</td>\n",
       "    </tr>\n",
       "    <tr>\n",
       "      <th>27</th>\n",
       "      <td>Hindustan Unilever Ltd</td>\n",
       "      <td>-0.001</td>\n",
       "      <td>3.43</td>\n",
       "      <td>-0.000034</td>\n",
       "      <td>2.40</td>\n",
       "      <td>-0.000024</td>\n",
       "    </tr>\n",
       "    <tr>\n",
       "      <th>28</th>\n",
       "      <td>Housing Development Finance Corporation Ltd</td>\n",
       "      <td>0.225</td>\n",
       "      <td>7.26</td>\n",
       "      <td>0.016335</td>\n",
       "      <td>4.16</td>\n",
       "      <td>0.009360</td>\n",
       "    </tr>\n",
       "    <tr>\n",
       "      <th>29</th>\n",
       "      <td>ICICI Bank Ltd</td>\n",
       "      <td>0.220</td>\n",
       "      <td>6.29</td>\n",
       "      <td>0.013838</td>\n",
       "      <td>7.12</td>\n",
       "      <td>0.015664</td>\n",
       "    </tr>\n",
       "    <tr>\n",
       "      <th>30</th>\n",
       "      <td>ICICI Lombard General Insurance Co Ltd</td>\n",
       "      <td>0.224</td>\n",
       "      <td>0.00</td>\n",
       "      <td>0.000000</td>\n",
       "      <td>0.65</td>\n",
       "      <td>0.001456</td>\n",
       "    </tr>\n",
       "    <tr>\n",
       "      <th>31</th>\n",
       "      <td>Indian Oil Corporation Ltd</td>\n",
       "      <td>-0.053</td>\n",
       "      <td>0.40</td>\n",
       "      <td>-0.000212</td>\n",
       "      <td>0.00</td>\n",
       "      <td>0.000000</td>\n",
       "    </tr>\n",
       "    <tr>\n",
       "      <th>32</th>\n",
       "      <td>Indraprastha Gas Ltd</td>\n",
       "      <td>0.141</td>\n",
       "      <td>0.00</td>\n",
       "      <td>0.000000</td>\n",
       "      <td>0.92</td>\n",
       "      <td>0.001297</td>\n",
       "    </tr>\n",
       "    <tr>\n",
       "      <th>33</th>\n",
       "      <td>Indusind Bank Ltd</td>\n",
       "      <td>0.001</td>\n",
       "      <td>0.82</td>\n",
       "      <td>0.000008</td>\n",
       "      <td>0.00</td>\n",
       "      <td>0.000000</td>\n",
       "    </tr>\n",
       "    <tr>\n",
       "      <th>34</th>\n",
       "      <td>Infosys Ltd</td>\n",
       "      <td>0.706</td>\n",
       "      <td>7.80</td>\n",
       "      <td>0.055068</td>\n",
       "      <td>7.81</td>\n",
       "      <td>0.055139</td>\n",
       "    </tr>\n",
       "    <tr>\n",
       "      <th>35</th>\n",
       "      <td>ITC Ltd</td>\n",
       "      <td>0.079</td>\n",
       "      <td>3.02</td>\n",
       "      <td>0.002386</td>\n",
       "      <td>1.15</td>\n",
       "      <td>0.000909</td>\n",
       "    </tr>\n",
       "    <tr>\n",
       "      <th>36</th>\n",
       "      <td>JSW Steel Ltd</td>\n",
       "      <td>0.711</td>\n",
       "      <td>0.60</td>\n",
       "      <td>0.004266</td>\n",
       "      <td>0.00</td>\n",
       "      <td>0.000000</td>\n",
       "    </tr>\n",
       "    <tr>\n",
       "      <th>37</th>\n",
       "      <td>Jubilant Foodworks Ltd</td>\n",
       "      <td>0.801</td>\n",
       "      <td>0.00</td>\n",
       "      <td>0.000000</td>\n",
       "      <td>0.21</td>\n",
       "      <td>0.001682</td>\n",
       "    </tr>\n",
       "    <tr>\n",
       "      <th>38</th>\n",
       "      <td>Kansai Nerolac Paints Ltd</td>\n",
       "      <td>0.146</td>\n",
       "      <td>0.00</td>\n",
       "      <td>0.000000</td>\n",
       "      <td>0.87</td>\n",
       "      <td>0.001270</td>\n",
       "    </tr>\n",
       "    <tr>\n",
       "      <th>39</th>\n",
       "      <td>Kotak Mahindra Bank Ltd</td>\n",
       "      <td>0.165</td>\n",
       "      <td>4.26</td>\n",
       "      <td>0.007029</td>\n",
       "      <td>1.98</td>\n",
       "      <td>0.003267</td>\n",
       "    </tr>\n",
       "    <tr>\n",
       "      <th>40</th>\n",
       "      <td>Larsen and Toubro Ltd</td>\n",
       "      <td>0.275</td>\n",
       "      <td>2.74</td>\n",
       "      <td>0.007535</td>\n",
       "      <td>3.37</td>\n",
       "      <td>0.009267</td>\n",
       "    </tr>\n",
       "    <tr>\n",
       "      <th>41</th>\n",
       "      <td>Mahindra &amp; Mahindra Ltd</td>\n",
       "      <td>0.842</td>\n",
       "      <td>1.22</td>\n",
       "      <td>0.010272</td>\n",
       "      <td>1.33</td>\n",
       "      <td>0.011199</td>\n",
       "    </tr>\n",
       "    <tr>\n",
       "      <th>42</th>\n",
       "      <td>Maruti Suzuki India Ltd</td>\n",
       "      <td>0.085</td>\n",
       "      <td>1.63</td>\n",
       "      <td>0.001386</td>\n",
       "      <td>2.05</td>\n",
       "      <td>0.001743</td>\n",
       "    </tr>\n",
       "    <tr>\n",
       "      <th>43</th>\n",
       "      <td>Max Financial Services Ltd</td>\n",
       "      <td>0.503</td>\n",
       "      <td>0.00</td>\n",
       "      <td>0.000000</td>\n",
       "      <td>1.07</td>\n",
       "      <td>0.005382</td>\n",
       "    </tr>\n",
       "    <tr>\n",
       "      <th>44</th>\n",
       "      <td>Mphasis Ltd</td>\n",
       "      <td>0.891</td>\n",
       "      <td>0.00</td>\n",
       "      <td>0.000000</td>\n",
       "      <td>0.51</td>\n",
       "      <td>0.004544</td>\n",
       "    </tr>\n",
       "    <tr>\n",
       "      <th>45</th>\n",
       "      <td>Nestle India Ltd</td>\n",
       "      <td>-0.015</td>\n",
       "      <td>1.03</td>\n",
       "      <td>-0.000154</td>\n",
       "      <td>0.50</td>\n",
       "      <td>-0.000075</td>\n",
       "    </tr>\n",
       "    <tr>\n",
       "      <th>46</th>\n",
       "      <td>NTPC Ltd</td>\n",
       "      <td>-0.008</td>\n",
       "      <td>0.73</td>\n",
       "      <td>-0.000058</td>\n",
       "      <td>0.00</td>\n",
       "      <td>0.000000</td>\n",
       "    </tr>\n",
       "    <tr>\n",
       "      <th>47</th>\n",
       "      <td>Oil &amp; Natural Gas Corporation Ltd</td>\n",
       "      <td>0.275</td>\n",
       "      <td>0.55</td>\n",
       "      <td>0.001512</td>\n",
       "      <td>0.00</td>\n",
       "      <td>0.000000</td>\n",
       "    </tr>\n",
       "    <tr>\n",
       "      <th>48</th>\n",
       "      <td>PI Industries Ltd</td>\n",
       "      <td>0.431</td>\n",
       "      <td>0.00</td>\n",
       "      <td>0.000000</td>\n",
       "      <td>1.12</td>\n",
       "      <td>0.004827</td>\n",
       "    </tr>\n",
       "    <tr>\n",
       "      <th>49</th>\n",
       "      <td>Power Grid Corporation of India Ltd</td>\n",
       "      <td>0.187</td>\n",
       "      <td>0.80</td>\n",
       "      <td>0.001496</td>\n",
       "      <td>0.00</td>\n",
       "      <td>0.000000</td>\n",
       "    </tr>\n",
       "    <tr>\n",
       "      <th>50</th>\n",
       "      <td>Reliance Industries Ltd</td>\n",
       "      <td>0.612</td>\n",
       "      <td>10.11</td>\n",
       "      <td>0.061873</td>\n",
       "      <td>5.53</td>\n",
       "      <td>0.033844</td>\n",
       "    </tr>\n",
       "    <tr>\n",
       "      <th>51</th>\n",
       "      <td>SBI Life Insurance Company Ltd</td>\n",
       "      <td>-0.030</td>\n",
       "      <td>0.57</td>\n",
       "      <td>-0.000171</td>\n",
       "      <td>0.00</td>\n",
       "      <td>0.000000</td>\n",
       "    </tr>\n",
       "    <tr>\n",
       "      <th>52</th>\n",
       "      <td>Shree Cement Ltd</td>\n",
       "      <td>0.163</td>\n",
       "      <td>0.52</td>\n",
       "      <td>0.000848</td>\n",
       "      <td>0.89</td>\n",
       "      <td>0.001451</td>\n",
       "    </tr>\n",
       "    <tr>\n",
       "      <th>53</th>\n",
       "      <td>State Bank of India</td>\n",
       "      <td>0.405</td>\n",
       "      <td>1.84</td>\n",
       "      <td>0.007452</td>\n",
       "      <td>2.76</td>\n",
       "      <td>0.011178</td>\n",
       "    </tr>\n",
       "    <tr>\n",
       "      <th>54</th>\n",
       "      <td>Sun Pharmaceutical Industries Ltd</td>\n",
       "      <td>0.548</td>\n",
       "      <td>1.07</td>\n",
       "      <td>0.005864</td>\n",
       "      <td>1.19</td>\n",
       "      <td>0.006521</td>\n",
       "    </tr>\n",
       "    <tr>\n",
       "      <th>55</th>\n",
       "      <td>Tata Consultancy Services Ltd</td>\n",
       "      <td>0.471</td>\n",
       "      <td>5.55</td>\n",
       "      <td>0.026140</td>\n",
       "      <td>3.93</td>\n",
       "      <td>0.018510</td>\n",
       "    </tr>\n",
       "    <tr>\n",
       "      <th>56</th>\n",
       "      <td>Tata Consumer Products Ltd</td>\n",
       "      <td>0.769</td>\n",
       "      <td>0.00</td>\n",
       "      <td>0.000000</td>\n",
       "      <td>1.18</td>\n",
       "      <td>0.009074</td>\n",
       "    </tr>\n",
       "    <tr>\n",
       "      <th>57</th>\n",
       "      <td>Tata Motors Ltd</td>\n",
       "      <td>1.555</td>\n",
       "      <td>0.80</td>\n",
       "      <td>0.012440</td>\n",
       "      <td>0.00</td>\n",
       "      <td>0.000000</td>\n",
       "    </tr>\n",
       "    <tr>\n",
       "      <th>58</th>\n",
       "      <td>Tata Steel Ltd</td>\n",
       "      <td>0.916</td>\n",
       "      <td>0.77</td>\n",
       "      <td>0.007053</td>\n",
       "      <td>0.00</td>\n",
       "      <td>0.000000</td>\n",
       "    </tr>\n",
       "    <tr>\n",
       "      <th>59</th>\n",
       "      <td>Tech Mahindra Ltd</td>\n",
       "      <td>0.273</td>\n",
       "      <td>1.01</td>\n",
       "      <td>0.002757</td>\n",
       "      <td>0.00</td>\n",
       "      <td>0.000000</td>\n",
       "    </tr>\n",
       "    <tr>\n",
       "      <th>60</th>\n",
       "      <td>Titan Company Ltd</td>\n",
       "      <td>0.150</td>\n",
       "      <td>1.01</td>\n",
       "      <td>0.001515</td>\n",
       "      <td>1.03</td>\n",
       "      <td>0.001545</td>\n",
       "    </tr>\n",
       "    <tr>\n",
       "      <th>61</th>\n",
       "      <td>UltraTech Cement Ltd</td>\n",
       "      <td>0.484</td>\n",
       "      <td>1.04</td>\n",
       "      <td>0.005034</td>\n",
       "      <td>2.02</td>\n",
       "      <td>0.009777</td>\n",
       "    </tr>\n",
       "    <tr>\n",
       "      <th>62</th>\n",
       "      <td>UPL Ltd</td>\n",
       "      <td>0.137</td>\n",
       "      <td>0.52</td>\n",
       "      <td>0.000712</td>\n",
       "      <td>0.00</td>\n",
       "      <td>0.000000</td>\n",
       "    </tr>\n",
       "    <tr>\n",
       "      <th>63</th>\n",
       "      <td>Voltas Ltd</td>\n",
       "      <td>0.518</td>\n",
       "      <td>0.00</td>\n",
       "      <td>0.000000</td>\n",
       "      <td>1.55</td>\n",
       "      <td>0.008029</td>\n",
       "    </tr>\n",
       "    <tr>\n",
       "      <th>64</th>\n",
       "      <td>Whirlpool Of India Ltd</td>\n",
       "      <td>0.088</td>\n",
       "      <td>0.00</td>\n",
       "      <td>0.000000</td>\n",
       "      <td>0.96</td>\n",
       "      <td>0.000845</td>\n",
       "    </tr>\n",
       "    <tr>\n",
       "      <th>65</th>\n",
       "      <td>Wipro Ltd</td>\n",
       "      <td>0.883</td>\n",
       "      <td>1.05</td>\n",
       "      <td>0.009272</td>\n",
       "      <td>0.00</td>\n",
       "      <td>0.000000</td>\n",
       "    </tr>\n",
       "  </tbody>\n",
       "</table>\n",
       "</div>"
      ],
      "text/plain": [
       "                                         Stocks   CAGR  Nifty50 Weightage  \\\n",
       "0                              Asian Paints Ltd  0.318               1.84   \n",
       "1                              Abbott India Ltd -0.070               0.00   \n",
       "2           Adani Ports & Special Economic Zone  1.028               0.63   \n",
       "3                         Avenue Supermarts Ltd  0.383               0.00   \n",
       "4                                 Axis Bank Ltd  0.121               2.79   \n",
       "5                                Bajaj Auto Ltd  0.465               0.89   \n",
       "6                             Bajaj Finance Ltd  0.241               2.13   \n",
       "7                             Bajaj Finserv Ltd  0.145               0.90   \n",
       "8              Bharat Petroleum Corporation Ltd  0.086               0.52   \n",
       "9                             Bharti Airtel Ltd  0.112               2.26   \n",
       "10                     Britannia Industries Ltd  0.125               0.70   \n",
       "11                                    Cipla Ltd  0.900               0.71   \n",
       "12                               Coal India Ltd -0.124               0.45   \n",
       "13    Crompton Greaves Consumer Electricals Ltd  0.380               0.00   \n",
       "14                            Cummins India Ltd  0.590               0.00   \n",
       "15                      Divi's Laboratories Ltd  0.575               0.73   \n",
       "16                        Dr. Lal Path Labs Ltd  0.375               0.00   \n",
       "17                 Dr. Reddy's Laboratories Ltd  0.472               0.95   \n",
       "18                            Eicher Motors Ltd  0.426               0.65   \n",
       "19                             GAIL (India) Ltd  0.461               0.39   \n",
       "20                        Grasim Industries Ltd  0.814               0.70   \n",
       "21                              Gujarat Gas Ltd  0.715               0.00   \n",
       "22                         HCL Technologies Ltd  0.645               1.68   \n",
       "23                                HDFC Bank Ltd  0.359              10.27   \n",
       "24                   HDFC Life Insurance Co Ltd  0.301               0.91   \n",
       "25                            Hero MotoCorp Ltd  0.671               0.72   \n",
       "26                      Hindalco Industries Ltd  1.201               0.56   \n",
       "27                       Hindustan Unilever Ltd -0.001               3.43   \n",
       "28  Housing Development Finance Corporation Ltd  0.225               7.26   \n",
       "29                               ICICI Bank Ltd  0.220               6.29   \n",
       "30       ICICI Lombard General Insurance Co Ltd  0.224               0.00   \n",
       "31                   Indian Oil Corporation Ltd -0.053               0.40   \n",
       "32                         Indraprastha Gas Ltd  0.141               0.00   \n",
       "33                            Indusind Bank Ltd  0.001               0.82   \n",
       "34                                  Infosys Ltd  0.706               7.80   \n",
       "35                                      ITC Ltd  0.079               3.02   \n",
       "36                                JSW Steel Ltd  0.711               0.60   \n",
       "37                       Jubilant Foodworks Ltd  0.801               0.00   \n",
       "38                    Kansai Nerolac Paints Ltd  0.146               0.00   \n",
       "39                      Kotak Mahindra Bank Ltd  0.165               4.26   \n",
       "40                        Larsen and Toubro Ltd  0.275               2.74   \n",
       "41                      Mahindra & Mahindra Ltd  0.842               1.22   \n",
       "42                      Maruti Suzuki India Ltd  0.085               1.63   \n",
       "43                   Max Financial Services Ltd  0.503               0.00   \n",
       "44                                  Mphasis Ltd  0.891               0.00   \n",
       "45                             Nestle India Ltd -0.015               1.03   \n",
       "46                                     NTPC Ltd -0.008               0.73   \n",
       "47            Oil & Natural Gas Corporation Ltd  0.275               0.55   \n",
       "48                            PI Industries Ltd  0.431               0.00   \n",
       "49          Power Grid Corporation of India Ltd  0.187               0.80   \n",
       "50                      Reliance Industries Ltd  0.612              10.11   \n",
       "51               SBI Life Insurance Company Ltd -0.030               0.57   \n",
       "52                             Shree Cement Ltd  0.163               0.52   \n",
       "53                          State Bank of India  0.405               1.84   \n",
       "54            Sun Pharmaceutical Industries Ltd  0.548               1.07   \n",
       "55                Tata Consultancy Services Ltd  0.471               5.55   \n",
       "56                   Tata Consumer Products Ltd  0.769               0.00   \n",
       "57                              Tata Motors Ltd  1.555               0.80   \n",
       "58                               Tata Steel Ltd  0.916               0.77   \n",
       "59                            Tech Mahindra Ltd  0.273               1.01   \n",
       "60                            Titan Company Ltd  0.150               1.01   \n",
       "61                         UltraTech Cement Ltd  0.484               1.04   \n",
       "62                                      UPL Ltd  0.137               0.52   \n",
       "63                                   Voltas Ltd  0.518               0.00   \n",
       "64                       Whirlpool Of India Ltd  0.088               0.00   \n",
       "65                                    Wipro Ltd  0.883               1.05   \n",
       "\n",
       "    Nifty50 CAGR  Portfolio Weightage  Portfolio CAGR  \n",
       "0       0.005851                 0.83        0.002639  \n",
       "1       0.000000                 0.76       -0.000532  \n",
       "2       0.006476                 0.00        0.000000  \n",
       "3       0.000000                 1.26        0.004826  \n",
       "4       0.003376                 3.36        0.004066  \n",
       "5       0.004138                 1.76        0.008184  \n",
       "6       0.005133                 3.72        0.008965  \n",
       "7       0.001305                 0.00        0.000000  \n",
       "8       0.000447                 0.00        0.000000  \n",
       "9       0.002531                 3.06        0.003427  \n",
       "10      0.000875                 1.21        0.001512  \n",
       "11      0.006390                 1.33        0.011970  \n",
       "12     -0.000558                 0.00        0.000000  \n",
       "13      0.000000                 1.76        0.006688  \n",
       "14      0.000000                 0.44        0.002596  \n",
       "15      0.004197                 1.28        0.007360  \n",
       "16      0.000000                 0.38        0.001425  \n",
       "17      0.004484                 1.36        0.006419  \n",
       "18      0.002769                 0.91        0.003877  \n",
       "19      0.001798                 0.00        0.000000  \n",
       "20      0.005698                 0.00        0.000000  \n",
       "21      0.000000                 1.02        0.007293  \n",
       "22      0.010836                 3.38        0.021801  \n",
       "23      0.036869                 8.45        0.030336  \n",
       "24      0.002739                 0.90        0.002709  \n",
       "25      0.004831                 0.00        0.000000  \n",
       "26      0.006726                 0.08        0.000961  \n",
       "27     -0.000034                 2.40       -0.000024  \n",
       "28      0.016335                 4.16        0.009360  \n",
       "29      0.013838                 7.12        0.015664  \n",
       "30      0.000000                 0.65        0.001456  \n",
       "31     -0.000212                 0.00        0.000000  \n",
       "32      0.000000                 0.92        0.001297  \n",
       "33      0.000008                 0.00        0.000000  \n",
       "34      0.055068                 7.81        0.055139  \n",
       "35      0.002386                 1.15        0.000909  \n",
       "36      0.004266                 0.00        0.000000  \n",
       "37      0.000000                 0.21        0.001682  \n",
       "38      0.000000                 0.87        0.001270  \n",
       "39      0.007029                 1.98        0.003267  \n",
       "40      0.007535                 3.37        0.009267  \n",
       "41      0.010272                 1.33        0.011199  \n",
       "42      0.001386                 2.05        0.001743  \n",
       "43      0.000000                 1.07        0.005382  \n",
       "44      0.000000                 0.51        0.004544  \n",
       "45     -0.000154                 0.50       -0.000075  \n",
       "46     -0.000058                 0.00        0.000000  \n",
       "47      0.001512                 0.00        0.000000  \n",
       "48      0.000000                 1.12        0.004827  \n",
       "49      0.001496                 0.00        0.000000  \n",
       "50      0.061873                 5.53        0.033844  \n",
       "51     -0.000171                 0.00        0.000000  \n",
       "52      0.000848                 0.89        0.001451  \n",
       "53      0.007452                 2.76        0.011178  \n",
       "54      0.005864                 1.19        0.006521  \n",
       "55      0.026140                 3.93        0.018510  \n",
       "56      0.000000                 1.18        0.009074  \n",
       "57      0.012440                 0.00        0.000000  \n",
       "58      0.007053                 0.00        0.000000  \n",
       "59      0.002757                 0.00        0.000000  \n",
       "60      0.001515                 1.03        0.001545  \n",
       "61      0.005034                 2.02        0.009777  \n",
       "62      0.000712                 0.00        0.000000  \n",
       "63      0.000000                 1.55        0.008029  \n",
       "64      0.000000                 0.96        0.000845  \n",
       "65      0.009272                 0.00        0.000000  "
      ]
     },
     "execution_count": 6,
     "metadata": {},
     "output_type": "execute_result"
    }
   ],
   "source": [
    "Stock_CAGR"
   ]
  },
  {
   "cell_type": "markdown",
   "metadata": {},
   "source": [
    "Sectoral_CAGR represents all the sectors in our universe of the project, their weightage in Nifty50 and Portfolio, and their CAGR in the past year for both Nifty50 and Portfolio which is summation of all the CAGR of stocks in that particular sector for that portfolio/benchmark.\n",
    "I calculated the CAGR by downoading the Historical Data from yahoo Finance and then computing the same."
   ]
  },
  {
   "cell_type": "code",
   "execution_count": 7,
   "metadata": {},
   "outputs": [
    {
     "data": {
      "text/html": [
       "<div>\n",
       "<style scoped>\n",
       "    .dataframe tbody tr th:only-of-type {\n",
       "        vertical-align: middle;\n",
       "    }\n",
       "\n",
       "    .dataframe tbody tr th {\n",
       "        vertical-align: top;\n",
       "    }\n",
       "\n",
       "    .dataframe thead th {\n",
       "        text-align: right;\n",
       "    }\n",
       "</style>\n",
       "<table border=\"1\" class=\"dataframe\">\n",
       "  <thead>\n",
       "    <tr style=\"text-align: right;\">\n",
       "      <th></th>\n",
       "      <th>Sectors</th>\n",
       "      <th>Nifty50 Weightage</th>\n",
       "      <th>Nifty50 CAGR</th>\n",
       "      <th>Portfolio Weightage</th>\n",
       "      <th>Portfolio CAGR</th>\n",
       "    </tr>\n",
       "  </thead>\n",
       "  <tbody>\n",
       "    <tr>\n",
       "      <th>0</th>\n",
       "      <td>Banks</td>\n",
       "      <td>26.27</td>\n",
       "      <td>0.068572</td>\n",
       "      <td>23.67</td>\n",
       "      <td>0.064510</td>\n",
       "    </tr>\n",
       "    <tr>\n",
       "      <th>1</th>\n",
       "      <td>Software</td>\n",
       "      <td>17.09</td>\n",
       "      <td>0.104073</td>\n",
       "      <td>15.63</td>\n",
       "      <td>0.099994</td>\n",
       "    </tr>\n",
       "    <tr>\n",
       "      <th>2</th>\n",
       "      <td>Construction Project</td>\n",
       "      <td>2.74</td>\n",
       "      <td>0.007535</td>\n",
       "      <td>3.37</td>\n",
       "      <td>0.009267</td>\n",
       "    </tr>\n",
       "    <tr>\n",
       "      <th>3</th>\n",
       "      <td>Petroleum Products</td>\n",
       "      <td>11.03</td>\n",
       "      <td>0.062108</td>\n",
       "      <td>5.53</td>\n",
       "      <td>0.033844</td>\n",
       "    </tr>\n",
       "    <tr>\n",
       "      <th>4</th>\n",
       "      <td>Finance</td>\n",
       "      <td>11.77</td>\n",
       "      <td>0.025341</td>\n",
       "      <td>10.50</td>\n",
       "      <td>0.027872</td>\n",
       "    </tr>\n",
       "    <tr>\n",
       "      <th>5</th>\n",
       "      <td>Telecom - Services</td>\n",
       "      <td>2.26</td>\n",
       "      <td>0.002531</td>\n",
       "      <td>3.06</td>\n",
       "      <td>0.003427</td>\n",
       "    </tr>\n",
       "    <tr>\n",
       "      <th>6</th>\n",
       "      <td>Auto</td>\n",
       "      <td>5.91</td>\n",
       "      <td>0.035837</td>\n",
       "      <td>6.05</td>\n",
       "      <td>0.025002</td>\n",
       "    </tr>\n",
       "    <tr>\n",
       "      <th>7</th>\n",
       "      <td>Pharmaceuticals</td>\n",
       "      <td>3.46</td>\n",
       "      <td>0.020935</td>\n",
       "      <td>5.92</td>\n",
       "      <td>0.031738</td>\n",
       "    </tr>\n",
       "    <tr>\n",
       "      <th>8</th>\n",
       "      <td>Consumer Non Durables</td>\n",
       "      <td>10.02</td>\n",
       "      <td>0.008923</td>\n",
       "      <td>8.35</td>\n",
       "      <td>0.016988</td>\n",
       "    </tr>\n",
       "    <tr>\n",
       "      <th>9</th>\n",
       "      <td>Cement</td>\n",
       "      <td>2.26</td>\n",
       "      <td>0.011579</td>\n",
       "      <td>2.91</td>\n",
       "      <td>0.011228</td>\n",
       "    </tr>\n",
       "    <tr>\n",
       "      <th>10</th>\n",
       "      <td>Consumer Durables</td>\n",
       "      <td>1.01</td>\n",
       "      <td>0.001515</td>\n",
       "      <td>5.30</td>\n",
       "      <td>0.017107</td>\n",
       "    </tr>\n",
       "    <tr>\n",
       "      <th>11</th>\n",
       "      <td>Retailing</td>\n",
       "      <td>0.00</td>\n",
       "      <td>0.000000</td>\n",
       "      <td>1.26</td>\n",
       "      <td>0.004826</td>\n",
       "    </tr>\n",
       "    <tr>\n",
       "      <th>12</th>\n",
       "      <td>Pesticides</td>\n",
       "      <td>0.52</td>\n",
       "      <td>0.000712</td>\n",
       "      <td>1.12</td>\n",
       "      <td>0.004827</td>\n",
       "    </tr>\n",
       "    <tr>\n",
       "      <th>13</th>\n",
       "      <td>Gas</td>\n",
       "      <td>0.39</td>\n",
       "      <td>0.001798</td>\n",
       "      <td>1.94</td>\n",
       "      <td>0.008590</td>\n",
       "    </tr>\n",
       "    <tr>\n",
       "      <th>14</th>\n",
       "      <td>Healthcare Services</td>\n",
       "      <td>0.00</td>\n",
       "      <td>0.000000</td>\n",
       "      <td>0.38</td>\n",
       "      <td>0.001425</td>\n",
       "    </tr>\n",
       "    <tr>\n",
       "      <th>15</th>\n",
       "      <td>Industrial Products</td>\n",
       "      <td>0.00</td>\n",
       "      <td>0.000000</td>\n",
       "      <td>0.44</td>\n",
       "      <td>0.002596</td>\n",
       "    </tr>\n",
       "    <tr>\n",
       "      <th>16</th>\n",
       "      <td>Non - Ferrous Metals</td>\n",
       "      <td>0.56</td>\n",
       "      <td>0.006726</td>\n",
       "      <td>0.08</td>\n",
       "      <td>0.000961</td>\n",
       "    </tr>\n",
       "    <tr>\n",
       "      <th>17</th>\n",
       "      <td>Ferrous Metals</td>\n",
       "      <td>1.37</td>\n",
       "      <td>0.011319</td>\n",
       "      <td>0.00</td>\n",
       "      <td>0.000000</td>\n",
       "    </tr>\n",
       "    <tr>\n",
       "      <th>18</th>\n",
       "      <td>Power</td>\n",
       "      <td>1.53</td>\n",
       "      <td>0.001438</td>\n",
       "      <td>0.00</td>\n",
       "      <td>0.000000</td>\n",
       "    </tr>\n",
       "    <tr>\n",
       "      <th>19</th>\n",
       "      <td>Transportation</td>\n",
       "      <td>0.63</td>\n",
       "      <td>0.006476</td>\n",
       "      <td>0.00</td>\n",
       "      <td>0.000000</td>\n",
       "    </tr>\n",
       "    <tr>\n",
       "      <th>20</th>\n",
       "      <td>Oil</td>\n",
       "      <td>0.55</td>\n",
       "      <td>0.001512</td>\n",
       "      <td>0.00</td>\n",
       "      <td>0.000000</td>\n",
       "    </tr>\n",
       "    <tr>\n",
       "      <th>21</th>\n",
       "      <td>Minerals/Mining</td>\n",
       "      <td>0.45</td>\n",
       "      <td>-0.000558</td>\n",
       "      <td>0.00</td>\n",
       "      <td>0.000000</td>\n",
       "    </tr>\n",
       "  </tbody>\n",
       "</table>\n",
       "</div>"
      ],
      "text/plain": [
       "                  Sectors  Nifty50 Weightage  Nifty50 CAGR  \\\n",
       "0                   Banks              26.27      0.068572   \n",
       "1                Software              17.09      0.104073   \n",
       "2    Construction Project               2.74      0.007535   \n",
       "3      Petroleum Products              11.03      0.062108   \n",
       "4                 Finance              11.77      0.025341   \n",
       "5      Telecom - Services               2.26      0.002531   \n",
       "6                    Auto               5.91      0.035837   \n",
       "7         Pharmaceuticals               3.46      0.020935   \n",
       "8   Consumer Non Durables              10.02      0.008923   \n",
       "9                  Cement               2.26      0.011579   \n",
       "10      Consumer Durables               1.01      0.001515   \n",
       "11              Retailing               0.00      0.000000   \n",
       "12             Pesticides               0.52      0.000712   \n",
       "13                    Gas               0.39      0.001798   \n",
       "14    Healthcare Services               0.00      0.000000   \n",
       "15    Industrial Products               0.00      0.000000   \n",
       "16   Non - Ferrous Metals               0.56      0.006726   \n",
       "17         Ferrous Metals               1.37      0.011319   \n",
       "18                  Power               1.53      0.001438   \n",
       "19         Transportation               0.63      0.006476   \n",
       "20                    Oil               0.55      0.001512   \n",
       "21        Minerals/Mining               0.45     -0.000558   \n",
       "\n",
       "    Portfolio Weightage  Portfolio CAGR  \n",
       "0                 23.67        0.064510  \n",
       "1                 15.63        0.099994  \n",
       "2                  3.37        0.009267  \n",
       "3                  5.53        0.033844  \n",
       "4                 10.50        0.027872  \n",
       "5                  3.06        0.003427  \n",
       "6                  6.05        0.025002  \n",
       "7                  5.92        0.031738  \n",
       "8                  8.35        0.016988  \n",
       "9                  2.91        0.011228  \n",
       "10                 5.30        0.017107  \n",
       "11                 1.26        0.004826  \n",
       "12                 1.12        0.004827  \n",
       "13                 1.94        0.008590  \n",
       "14                 0.38        0.001425  \n",
       "15                 0.44        0.002596  \n",
       "16                 0.08        0.000961  \n",
       "17                 0.00        0.000000  \n",
       "18                 0.00        0.000000  \n",
       "19                 0.00        0.000000  \n",
       "20                 0.00        0.000000  \n",
       "21                 0.00        0.000000  "
      ]
     },
     "execution_count": 7,
     "metadata": {},
     "output_type": "execute_result"
    }
   ],
   "source": [
    "Sectoral_CAGR"
   ]
  },
  {
   "cell_type": "markdown",
   "metadata": {},
   "source": [
    "### Analysis..."
   ]
  },
  {
   "cell_type": "markdown",
   "metadata": {},
   "source": [
    "You can zoom in the charts to checkout different stocks/sectors deeply."
   ]
  },
  {
   "cell_type": "markdown",
   "metadata": {},
   "source": [
    "Stock-Wise Weightage Bar Chart"
   ]
  },
  {
   "cell_type": "code",
   "execution_count": 8,
   "metadata": {},
   "outputs": [
    {
     "data": {
      "application/vnd.plotly.v1+json": {
       "config": {
        "linkText": "Export to plot.ly",
        "plotlyServerURL": "https://plot.ly",
        "showLink": true
       },
       "data": [
        {
         "marker": {
          "color": "rgba(255, 153, 51, 0.6)",
          "line": {
           "color": "rgba(255, 153, 51, 1.0)",
           "width": 1
          }
         },
         "name": "Nifty50 Weightage",
         "orientation": "v",
         "text": "",
         "type": "bar",
         "x": [
          "Asian Paints Ltd",
          "Abbott India Ltd",
          "Adani Ports & Special Economic Zone",
          "Avenue Supermarts Ltd",
          "Axis Bank Ltd",
          "Bajaj Auto Ltd",
          "Bajaj Finance Ltd",
          "Bajaj Finserv Ltd",
          "Bharat Petroleum Corporation Ltd",
          "Bharti Airtel Ltd",
          "Britannia Industries Ltd",
          "Cipla Ltd",
          "Coal India Ltd",
          "Crompton Greaves Consumer Electricals Ltd",
          "Cummins India Ltd",
          "Divi's Laboratories Ltd",
          "Dr. Lal Path Labs Ltd",
          "Dr. Reddy's Laboratories Ltd",
          "Eicher Motors Ltd",
          "GAIL (India) Ltd",
          "Grasim Industries Ltd",
          "Gujarat Gas Ltd",
          "HCL Technologies Ltd",
          "HDFC Bank Ltd",
          "HDFC Life Insurance Co Ltd",
          "Hero MotoCorp Ltd",
          "Hindalco Industries Ltd",
          "Hindustan Unilever Ltd",
          "Housing Development Finance Corporation Ltd",
          "ICICI Bank Ltd",
          "ICICI Lombard General Insurance Co Ltd",
          "Indian Oil Corporation Ltd",
          "Indraprastha Gas Ltd",
          "Indusind Bank Ltd",
          "Infosys Ltd",
          "ITC Ltd",
          "JSW Steel Ltd",
          "Jubilant Foodworks Ltd",
          "Kansai Nerolac Paints Ltd",
          "Kotak Mahindra Bank Ltd",
          "Larsen and Toubro Ltd",
          "Mahindra & Mahindra Ltd",
          "Maruti Suzuki India Ltd",
          "Max Financial Services Ltd",
          "Mphasis Ltd",
          "Nestle India Ltd",
          "NTPC Ltd",
          "Oil & Natural Gas Corporation Ltd",
          "PI Industries Ltd",
          "Power Grid Corporation of India Ltd",
          "Reliance Industries Ltd",
          "SBI Life Insurance Company Ltd",
          "Shree Cement Ltd",
          "State Bank of India",
          "Sun Pharmaceutical Industries Ltd",
          "Tata Consultancy Services Ltd",
          "Tata Consumer Products Ltd",
          "Tata Motors Ltd",
          "Tata Steel Ltd",
          "Tech Mahindra Ltd",
          "Titan Company Ltd",
          "UltraTech Cement Ltd",
          "UPL Ltd",
          "Voltas Ltd",
          "Whirlpool Of India Ltd",
          "Wipro Ltd"
         ],
         "y": [
          1.84,
          0,
          0.63,
          0,
          2.79,
          0.89,
          2.13,
          0.9,
          0.52,
          2.26,
          0.7,
          0.71,
          0.45,
          0,
          0,
          0.73,
          0,
          0.95,
          0.65,
          0.39,
          0.7,
          0,
          1.68,
          10.27,
          0.91,
          0.72,
          0.56,
          3.43,
          7.26,
          6.29,
          0,
          0.4,
          0,
          0.82,
          7.8,
          3.02,
          0.6,
          0,
          0,
          4.26,
          2.74,
          1.22,
          1.63,
          0,
          0,
          1.03,
          0.73,
          0.55,
          0,
          0.8,
          10.11,
          0.57,
          0.52,
          1.84,
          1.07,
          5.55,
          0,
          0.8,
          0.77,
          1.01,
          1.01,
          1.04,
          0.52,
          0,
          0,
          1.05
         ]
        },
        {
         "marker": {
          "color": "rgba(55, 128, 191, 0.6)",
          "line": {
           "color": "rgba(55, 128, 191, 1.0)",
           "width": 1
          }
         },
         "name": "Portfolio Weightage",
         "orientation": "v",
         "text": "",
         "type": "bar",
         "x": [
          "Asian Paints Ltd",
          "Abbott India Ltd",
          "Adani Ports & Special Economic Zone",
          "Avenue Supermarts Ltd",
          "Axis Bank Ltd",
          "Bajaj Auto Ltd",
          "Bajaj Finance Ltd",
          "Bajaj Finserv Ltd",
          "Bharat Petroleum Corporation Ltd",
          "Bharti Airtel Ltd",
          "Britannia Industries Ltd",
          "Cipla Ltd",
          "Coal India Ltd",
          "Crompton Greaves Consumer Electricals Ltd",
          "Cummins India Ltd",
          "Divi's Laboratories Ltd",
          "Dr. Lal Path Labs Ltd",
          "Dr. Reddy's Laboratories Ltd",
          "Eicher Motors Ltd",
          "GAIL (India) Ltd",
          "Grasim Industries Ltd",
          "Gujarat Gas Ltd",
          "HCL Technologies Ltd",
          "HDFC Bank Ltd",
          "HDFC Life Insurance Co Ltd",
          "Hero MotoCorp Ltd",
          "Hindalco Industries Ltd",
          "Hindustan Unilever Ltd",
          "Housing Development Finance Corporation Ltd",
          "ICICI Bank Ltd",
          "ICICI Lombard General Insurance Co Ltd",
          "Indian Oil Corporation Ltd",
          "Indraprastha Gas Ltd",
          "Indusind Bank Ltd",
          "Infosys Ltd",
          "ITC Ltd",
          "JSW Steel Ltd",
          "Jubilant Foodworks Ltd",
          "Kansai Nerolac Paints Ltd",
          "Kotak Mahindra Bank Ltd",
          "Larsen and Toubro Ltd",
          "Mahindra & Mahindra Ltd",
          "Maruti Suzuki India Ltd",
          "Max Financial Services Ltd",
          "Mphasis Ltd",
          "Nestle India Ltd",
          "NTPC Ltd",
          "Oil & Natural Gas Corporation Ltd",
          "PI Industries Ltd",
          "Power Grid Corporation of India Ltd",
          "Reliance Industries Ltd",
          "SBI Life Insurance Company Ltd",
          "Shree Cement Ltd",
          "State Bank of India",
          "Sun Pharmaceutical Industries Ltd",
          "Tata Consultancy Services Ltd",
          "Tata Consumer Products Ltd",
          "Tata Motors Ltd",
          "Tata Steel Ltd",
          "Tech Mahindra Ltd",
          "Titan Company Ltd",
          "UltraTech Cement Ltd",
          "UPL Ltd",
          "Voltas Ltd",
          "Whirlpool Of India Ltd",
          "Wipro Ltd"
         ],
         "y": [
          0.83,
          0.76,
          0,
          1.26,
          3.36,
          1.76,
          3.72,
          0,
          0,
          3.06,
          1.21,
          1.33,
          0,
          1.76,
          0.44,
          1.28,
          0.38,
          1.36,
          0.91,
          0,
          0,
          1.02,
          3.38,
          8.45,
          0.9,
          0,
          0.08,
          2.4,
          4.16,
          7.12,
          0.65,
          0,
          0.92,
          0,
          7.81,
          1.15,
          0,
          0.21,
          0.87,
          1.98,
          3.37,
          1.33,
          2.05,
          1.07,
          0.51,
          0.5,
          0,
          0,
          1.12,
          0,
          5.53,
          0,
          0.89,
          2.76,
          1.19,
          3.93,
          1.18,
          0,
          0,
          0,
          1.03,
          2.02,
          0,
          1.55,
          0.96,
          0
         ]
        }
       ],
       "layout": {
        "legend": {
         "bgcolor": "#F5F6F9",
         "font": {
          "color": "#4D5663"
         }
        },
        "paper_bgcolor": "#F5F6F9",
        "plot_bgcolor": "#F5F6F9",
        "template": {
         "data": {
          "bar": [
           {
            "error_x": {
             "color": "#2a3f5f"
            },
            "error_y": {
             "color": "#2a3f5f"
            },
            "marker": {
             "line": {
              "color": "#E5ECF6",
              "width": 0.5
             }
            },
            "type": "bar"
           }
          ],
          "barpolar": [
           {
            "marker": {
             "line": {
              "color": "#E5ECF6",
              "width": 0.5
             }
            },
            "type": "barpolar"
           }
          ],
          "carpet": [
           {
            "aaxis": {
             "endlinecolor": "#2a3f5f",
             "gridcolor": "white",
             "linecolor": "white",
             "minorgridcolor": "white",
             "startlinecolor": "#2a3f5f"
            },
            "baxis": {
             "endlinecolor": "#2a3f5f",
             "gridcolor": "white",
             "linecolor": "white",
             "minorgridcolor": "white",
             "startlinecolor": "#2a3f5f"
            },
            "type": "carpet"
           }
          ],
          "choropleth": [
           {
            "colorbar": {
             "outlinewidth": 0,
             "ticks": ""
            },
            "type": "choropleth"
           }
          ],
          "contour": [
           {
            "colorbar": {
             "outlinewidth": 0,
             "ticks": ""
            },
            "colorscale": [
             [
              0,
              "#0d0887"
             ],
             [
              0.1111111111111111,
              "#46039f"
             ],
             [
              0.2222222222222222,
              "#7201a8"
             ],
             [
              0.3333333333333333,
              "#9c179e"
             ],
             [
              0.4444444444444444,
              "#bd3786"
             ],
             [
              0.5555555555555556,
              "#d8576b"
             ],
             [
              0.6666666666666666,
              "#ed7953"
             ],
             [
              0.7777777777777778,
              "#fb9f3a"
             ],
             [
              0.8888888888888888,
              "#fdca26"
             ],
             [
              1,
              "#f0f921"
             ]
            ],
            "type": "contour"
           }
          ],
          "contourcarpet": [
           {
            "colorbar": {
             "outlinewidth": 0,
             "ticks": ""
            },
            "type": "contourcarpet"
           }
          ],
          "heatmap": [
           {
            "colorbar": {
             "outlinewidth": 0,
             "ticks": ""
            },
            "colorscale": [
             [
              0,
              "#0d0887"
             ],
             [
              0.1111111111111111,
              "#46039f"
             ],
             [
              0.2222222222222222,
              "#7201a8"
             ],
             [
              0.3333333333333333,
              "#9c179e"
             ],
             [
              0.4444444444444444,
              "#bd3786"
             ],
             [
              0.5555555555555556,
              "#d8576b"
             ],
             [
              0.6666666666666666,
              "#ed7953"
             ],
             [
              0.7777777777777778,
              "#fb9f3a"
             ],
             [
              0.8888888888888888,
              "#fdca26"
             ],
             [
              1,
              "#f0f921"
             ]
            ],
            "type": "heatmap"
           }
          ],
          "heatmapgl": [
           {
            "colorbar": {
             "outlinewidth": 0,
             "ticks": ""
            },
            "colorscale": [
             [
              0,
              "#0d0887"
             ],
             [
              0.1111111111111111,
              "#46039f"
             ],
             [
              0.2222222222222222,
              "#7201a8"
             ],
             [
              0.3333333333333333,
              "#9c179e"
             ],
             [
              0.4444444444444444,
              "#bd3786"
             ],
             [
              0.5555555555555556,
              "#d8576b"
             ],
             [
              0.6666666666666666,
              "#ed7953"
             ],
             [
              0.7777777777777778,
              "#fb9f3a"
             ],
             [
              0.8888888888888888,
              "#fdca26"
             ],
             [
              1,
              "#f0f921"
             ]
            ],
            "type": "heatmapgl"
           }
          ],
          "histogram": [
           {
            "marker": {
             "colorbar": {
              "outlinewidth": 0,
              "ticks": ""
             }
            },
            "type": "histogram"
           }
          ],
          "histogram2d": [
           {
            "colorbar": {
             "outlinewidth": 0,
             "ticks": ""
            },
            "colorscale": [
             [
              0,
              "#0d0887"
             ],
             [
              0.1111111111111111,
              "#46039f"
             ],
             [
              0.2222222222222222,
              "#7201a8"
             ],
             [
              0.3333333333333333,
              "#9c179e"
             ],
             [
              0.4444444444444444,
              "#bd3786"
             ],
             [
              0.5555555555555556,
              "#d8576b"
             ],
             [
              0.6666666666666666,
              "#ed7953"
             ],
             [
              0.7777777777777778,
              "#fb9f3a"
             ],
             [
              0.8888888888888888,
              "#fdca26"
             ],
             [
              1,
              "#f0f921"
             ]
            ],
            "type": "histogram2d"
           }
          ],
          "histogram2dcontour": [
           {
            "colorbar": {
             "outlinewidth": 0,
             "ticks": ""
            },
            "colorscale": [
             [
              0,
              "#0d0887"
             ],
             [
              0.1111111111111111,
              "#46039f"
             ],
             [
              0.2222222222222222,
              "#7201a8"
             ],
             [
              0.3333333333333333,
              "#9c179e"
             ],
             [
              0.4444444444444444,
              "#bd3786"
             ],
             [
              0.5555555555555556,
              "#d8576b"
             ],
             [
              0.6666666666666666,
              "#ed7953"
             ],
             [
              0.7777777777777778,
              "#fb9f3a"
             ],
             [
              0.8888888888888888,
              "#fdca26"
             ],
             [
              1,
              "#f0f921"
             ]
            ],
            "type": "histogram2dcontour"
           }
          ],
          "mesh3d": [
           {
            "colorbar": {
             "outlinewidth": 0,
             "ticks": ""
            },
            "type": "mesh3d"
           }
          ],
          "parcoords": [
           {
            "line": {
             "colorbar": {
              "outlinewidth": 0,
              "ticks": ""
             }
            },
            "type": "parcoords"
           }
          ],
          "pie": [
           {
            "automargin": true,
            "type": "pie"
           }
          ],
          "scatter": [
           {
            "marker": {
             "colorbar": {
              "outlinewidth": 0,
              "ticks": ""
             }
            },
            "type": "scatter"
           }
          ],
          "scatter3d": [
           {
            "line": {
             "colorbar": {
              "outlinewidth": 0,
              "ticks": ""
             }
            },
            "marker": {
             "colorbar": {
              "outlinewidth": 0,
              "ticks": ""
             }
            },
            "type": "scatter3d"
           }
          ],
          "scattercarpet": [
           {
            "marker": {
             "colorbar": {
              "outlinewidth": 0,
              "ticks": ""
             }
            },
            "type": "scattercarpet"
           }
          ],
          "scattergeo": [
           {
            "marker": {
             "colorbar": {
              "outlinewidth": 0,
              "ticks": ""
             }
            },
            "type": "scattergeo"
           }
          ],
          "scattergl": [
           {
            "marker": {
             "colorbar": {
              "outlinewidth": 0,
              "ticks": ""
             }
            },
            "type": "scattergl"
           }
          ],
          "scattermapbox": [
           {
            "marker": {
             "colorbar": {
              "outlinewidth": 0,
              "ticks": ""
             }
            },
            "type": "scattermapbox"
           }
          ],
          "scatterpolar": [
           {
            "marker": {
             "colorbar": {
              "outlinewidth": 0,
              "ticks": ""
             }
            },
            "type": "scatterpolar"
           }
          ],
          "scatterpolargl": [
           {
            "marker": {
             "colorbar": {
              "outlinewidth": 0,
              "ticks": ""
             }
            },
            "type": "scatterpolargl"
           }
          ],
          "scatterternary": [
           {
            "marker": {
             "colorbar": {
              "outlinewidth": 0,
              "ticks": ""
             }
            },
            "type": "scatterternary"
           }
          ],
          "surface": [
           {
            "colorbar": {
             "outlinewidth": 0,
             "ticks": ""
            },
            "colorscale": [
             [
              0,
              "#0d0887"
             ],
             [
              0.1111111111111111,
              "#46039f"
             ],
             [
              0.2222222222222222,
              "#7201a8"
             ],
             [
              0.3333333333333333,
              "#9c179e"
             ],
             [
              0.4444444444444444,
              "#bd3786"
             ],
             [
              0.5555555555555556,
              "#d8576b"
             ],
             [
              0.6666666666666666,
              "#ed7953"
             ],
             [
              0.7777777777777778,
              "#fb9f3a"
             ],
             [
              0.8888888888888888,
              "#fdca26"
             ],
             [
              1,
              "#f0f921"
             ]
            ],
            "type": "surface"
           }
          ],
          "table": [
           {
            "cells": {
             "fill": {
              "color": "#EBF0F8"
             },
             "line": {
              "color": "white"
             }
            },
            "header": {
             "fill": {
              "color": "#C8D4E3"
             },
             "line": {
              "color": "white"
             }
            },
            "type": "table"
           }
          ]
         },
         "layout": {
          "annotationdefaults": {
           "arrowcolor": "#2a3f5f",
           "arrowhead": 0,
           "arrowwidth": 1
          },
          "autotypenumbers": "strict",
          "coloraxis": {
           "colorbar": {
            "outlinewidth": 0,
            "ticks": ""
           }
          },
          "colorscale": {
           "diverging": [
            [
             0,
             "#8e0152"
            ],
            [
             0.1,
             "#c51b7d"
            ],
            [
             0.2,
             "#de77ae"
            ],
            [
             0.3,
             "#f1b6da"
            ],
            [
             0.4,
             "#fde0ef"
            ],
            [
             0.5,
             "#f7f7f7"
            ],
            [
             0.6,
             "#e6f5d0"
            ],
            [
             0.7,
             "#b8e186"
            ],
            [
             0.8,
             "#7fbc41"
            ],
            [
             0.9,
             "#4d9221"
            ],
            [
             1,
             "#276419"
            ]
           ],
           "sequential": [
            [
             0,
             "#0d0887"
            ],
            [
             0.1111111111111111,
             "#46039f"
            ],
            [
             0.2222222222222222,
             "#7201a8"
            ],
            [
             0.3333333333333333,
             "#9c179e"
            ],
            [
             0.4444444444444444,
             "#bd3786"
            ],
            [
             0.5555555555555556,
             "#d8576b"
            ],
            [
             0.6666666666666666,
             "#ed7953"
            ],
            [
             0.7777777777777778,
             "#fb9f3a"
            ],
            [
             0.8888888888888888,
             "#fdca26"
            ],
            [
             1,
             "#f0f921"
            ]
           ],
           "sequentialminus": [
            [
             0,
             "#0d0887"
            ],
            [
             0.1111111111111111,
             "#46039f"
            ],
            [
             0.2222222222222222,
             "#7201a8"
            ],
            [
             0.3333333333333333,
             "#9c179e"
            ],
            [
             0.4444444444444444,
             "#bd3786"
            ],
            [
             0.5555555555555556,
             "#d8576b"
            ],
            [
             0.6666666666666666,
             "#ed7953"
            ],
            [
             0.7777777777777778,
             "#fb9f3a"
            ],
            [
             0.8888888888888888,
             "#fdca26"
            ],
            [
             1,
             "#f0f921"
            ]
           ]
          },
          "colorway": [
           "#636efa",
           "#EF553B",
           "#00cc96",
           "#ab63fa",
           "#FFA15A",
           "#19d3f3",
           "#FF6692",
           "#B6E880",
           "#FF97FF",
           "#FECB52"
          ],
          "font": {
           "color": "#2a3f5f"
          },
          "geo": {
           "bgcolor": "white",
           "lakecolor": "white",
           "landcolor": "#E5ECF6",
           "showlakes": true,
           "showland": true,
           "subunitcolor": "white"
          },
          "hoverlabel": {
           "align": "left"
          },
          "hovermode": "closest",
          "mapbox": {
           "style": "light"
          },
          "paper_bgcolor": "white",
          "plot_bgcolor": "#E5ECF6",
          "polar": {
           "angularaxis": {
            "gridcolor": "white",
            "linecolor": "white",
            "ticks": ""
           },
           "bgcolor": "#E5ECF6",
           "radialaxis": {
            "gridcolor": "white",
            "linecolor": "white",
            "ticks": ""
           }
          },
          "scene": {
           "xaxis": {
            "backgroundcolor": "#E5ECF6",
            "gridcolor": "white",
            "gridwidth": 2,
            "linecolor": "white",
            "showbackground": true,
            "ticks": "",
            "zerolinecolor": "white"
           },
           "yaxis": {
            "backgroundcolor": "#E5ECF6",
            "gridcolor": "white",
            "gridwidth": 2,
            "linecolor": "white",
            "showbackground": true,
            "ticks": "",
            "zerolinecolor": "white"
           },
           "zaxis": {
            "backgroundcolor": "#E5ECF6",
            "gridcolor": "white",
            "gridwidth": 2,
            "linecolor": "white",
            "showbackground": true,
            "ticks": "",
            "zerolinecolor": "white"
           }
          },
          "shapedefaults": {
           "line": {
            "color": "#2a3f5f"
           }
          },
          "ternary": {
           "aaxis": {
            "gridcolor": "white",
            "linecolor": "white",
            "ticks": ""
           },
           "baxis": {
            "gridcolor": "white",
            "linecolor": "white",
            "ticks": ""
           },
           "bgcolor": "#E5ECF6",
           "caxis": {
            "gridcolor": "white",
            "linecolor": "white",
            "ticks": ""
           }
          },
          "title": {
           "x": 0.05
          },
          "xaxis": {
           "automargin": true,
           "gridcolor": "white",
           "linecolor": "white",
           "ticks": "",
           "title": {
            "standoff": 15
           },
           "zerolinecolor": "white",
           "zerolinewidth": 2
          },
          "yaxis": {
           "automargin": true,
           "gridcolor": "white",
           "linecolor": "white",
           "ticks": "",
           "title": {
            "standoff": 15
           },
           "zerolinecolor": "white",
           "zerolinewidth": 2
          }
         }
        },
        "title": {
         "font": {
          "color": "#4D5663"
         },
         "text": "Stock-Wise Weightage"
        },
        "xaxis": {
         "gridcolor": "#E1E5ED",
         "showgrid": true,
         "tickfont": {
          "color": "#4D5663"
         },
         "title": {
          "font": {
           "color": "#4D5663"
          },
          "text": "Stocks"
         },
         "zerolinecolor": "#E1E5ED"
        },
        "yaxis": {
         "gridcolor": "#E1E5ED",
         "showgrid": true,
         "tickfont": {
          "color": "#4D5663"
         },
         "title": {
          "font": {
           "color": "#4D5663"
          },
          "text": "Weightage"
         },
         "zerolinecolor": "#E1E5ED"
        }
       }
      },
      "text/html": [
       "<div>                            <div id=\"455f37e6-0490-4320-9020-aed6c5833197\" class=\"plotly-graph-div\" style=\"height:525px; width:100%;\"></div>            <script type=\"text/javascript\">                require([\"plotly\"], function(Plotly) {                    window.PLOTLYENV=window.PLOTLYENV || {};\n",
       "                    window.PLOTLYENV.BASE_URL='https://plot.ly';                                    if (document.getElementById(\"455f37e6-0490-4320-9020-aed6c5833197\")) {                    Plotly.newPlot(                        \"455f37e6-0490-4320-9020-aed6c5833197\",                        [{\"marker\": {\"color\": \"rgba(255, 153, 51, 0.6)\", \"line\": {\"color\": \"rgba(255, 153, 51, 1.0)\", \"width\": 1}}, \"name\": \"Nifty50 Weightage\", \"orientation\": \"v\", \"text\": \"\", \"type\": \"bar\", \"x\": [\"Asian Paints Ltd\", \"Abbott India Ltd\", \"Adani Ports & Special Economic Zone\", \"Avenue Supermarts Ltd\", \"Axis Bank Ltd\", \"Bajaj Auto Ltd\", \"Bajaj Finance Ltd\", \"Bajaj Finserv Ltd\", \"Bharat Petroleum Corporation Ltd\", \"Bharti Airtel Ltd\", \"Britannia Industries Ltd\", \"Cipla Ltd\", \"Coal India Ltd\", \"Crompton Greaves Consumer Electricals Ltd\", \"Cummins India Ltd\", \"Divi's Laboratories Ltd\", \"Dr. Lal Path Labs Ltd\", \"Dr. Reddy's Laboratories Ltd\", \"Eicher Motors Ltd\", \"GAIL (India) Ltd\", \"Grasim Industries Ltd\", \"Gujarat Gas Ltd\", \"HCL Technologies Ltd\", \"HDFC Bank Ltd\", \"HDFC Life Insurance Co Ltd\", \"Hero MotoCorp Ltd\", \"Hindalco Industries Ltd\", \"Hindustan Unilever Ltd\", \"Housing Development Finance Corporation Ltd\", \"ICICI Bank Ltd\", \"ICICI Lombard General Insurance Co Ltd\", \"Indian Oil Corporation Ltd\", \"Indraprastha Gas Ltd\", \"Indusind Bank Ltd\", \"Infosys Ltd\", \"ITC Ltd\", \"JSW Steel Ltd\", \"Jubilant Foodworks Ltd\", \"Kansai Nerolac Paints Ltd\", \"Kotak Mahindra Bank Ltd\", \"Larsen and Toubro Ltd\", \"Mahindra & Mahindra Ltd\", \"Maruti Suzuki India Ltd\", \"Max Financial Services Ltd\", \"Mphasis Ltd\", \"Nestle India Ltd\", \"NTPC Ltd\", \"Oil & Natural Gas Corporation Ltd\", \"PI Industries Ltd\", \"Power Grid Corporation of India Ltd\", \"Reliance Industries Ltd\", \"SBI Life Insurance Company Ltd\", \"Shree Cement Ltd\", \"State Bank of India\", \"Sun Pharmaceutical Industries Ltd\", \"Tata Consultancy Services Ltd\", \"Tata Consumer Products Ltd\", \"Tata Motors Ltd\", \"Tata Steel Ltd\", \"Tech Mahindra Ltd\", \"Titan Company Ltd\", \"UltraTech Cement Ltd\", \"UPL Ltd\", \"Voltas Ltd\", \"Whirlpool Of India Ltd\", \"Wipro Ltd\"], \"y\": [1.84, 0.0, 0.63, 0.0, 2.79, 0.89, 2.13, 0.9, 0.52, 2.26, 0.7, 0.71, 0.45, 0.0, 0.0, 0.73, 0.0, 0.95, 0.65, 0.39, 0.7, 0.0, 1.68, 10.27, 0.91, 0.72, 0.56, 3.43, 7.26, 6.29, 0.0, 0.4, 0.0, 0.82, 7.8, 3.02, 0.6, 0.0, 0.0, 4.26, 2.74, 1.22, 1.63, 0.0, 0.0, 1.03, 0.73, 0.55, 0.0, 0.8, 10.11, 0.57, 0.52, 1.84, 1.07, 5.55, 0.0, 0.8, 0.77, 1.01, 1.01, 1.04, 0.52, 0.0, 0.0, 1.05]}, {\"marker\": {\"color\": \"rgba(55, 128, 191, 0.6)\", \"line\": {\"color\": \"rgba(55, 128, 191, 1.0)\", \"width\": 1}}, \"name\": \"Portfolio Weightage\", \"orientation\": \"v\", \"text\": \"\", \"type\": \"bar\", \"x\": [\"Asian Paints Ltd\", \"Abbott India Ltd\", \"Adani Ports & Special Economic Zone\", \"Avenue Supermarts Ltd\", \"Axis Bank Ltd\", \"Bajaj Auto Ltd\", \"Bajaj Finance Ltd\", \"Bajaj Finserv Ltd\", \"Bharat Petroleum Corporation Ltd\", \"Bharti Airtel Ltd\", \"Britannia Industries Ltd\", \"Cipla Ltd\", \"Coal India Ltd\", \"Crompton Greaves Consumer Electricals Ltd\", \"Cummins India Ltd\", \"Divi's Laboratories Ltd\", \"Dr. Lal Path Labs Ltd\", \"Dr. Reddy's Laboratories Ltd\", \"Eicher Motors Ltd\", \"GAIL (India) Ltd\", \"Grasim Industries Ltd\", \"Gujarat Gas Ltd\", \"HCL Technologies Ltd\", \"HDFC Bank Ltd\", \"HDFC Life Insurance Co Ltd\", \"Hero MotoCorp Ltd\", \"Hindalco Industries Ltd\", \"Hindustan Unilever Ltd\", \"Housing Development Finance Corporation Ltd\", \"ICICI Bank Ltd\", \"ICICI Lombard General Insurance Co Ltd\", \"Indian Oil Corporation Ltd\", \"Indraprastha Gas Ltd\", \"Indusind Bank Ltd\", \"Infosys Ltd\", \"ITC Ltd\", \"JSW Steel Ltd\", \"Jubilant Foodworks Ltd\", \"Kansai Nerolac Paints Ltd\", \"Kotak Mahindra Bank Ltd\", \"Larsen and Toubro Ltd\", \"Mahindra & Mahindra Ltd\", \"Maruti Suzuki India Ltd\", \"Max Financial Services Ltd\", \"Mphasis Ltd\", \"Nestle India Ltd\", \"NTPC Ltd\", \"Oil & Natural Gas Corporation Ltd\", \"PI Industries Ltd\", \"Power Grid Corporation of India Ltd\", \"Reliance Industries Ltd\", \"SBI Life Insurance Company Ltd\", \"Shree Cement Ltd\", \"State Bank of India\", \"Sun Pharmaceutical Industries Ltd\", \"Tata Consultancy Services Ltd\", \"Tata Consumer Products Ltd\", \"Tata Motors Ltd\", \"Tata Steel Ltd\", \"Tech Mahindra Ltd\", \"Titan Company Ltd\", \"UltraTech Cement Ltd\", \"UPL Ltd\", \"Voltas Ltd\", \"Whirlpool Of India Ltd\", \"Wipro Ltd\"], \"y\": [0.83, 0.76, 0.0, 1.26, 3.36, 1.76, 3.72, 0.0, 0.0, 3.06, 1.21, 1.33, 0.0, 1.76, 0.44, 1.28, 0.38, 1.36, 0.91, 0.0, 0.0, 1.02, 3.38, 8.45, 0.9, 0.0, 0.08, 2.4, 4.16, 7.12, 0.65, 0.0, 0.92, 0.0, 7.81, 1.15, 0.0, 0.21, 0.87, 1.98, 3.37, 1.33, 2.05, 1.07, 0.51, 0.5, 0.0, 0.0, 1.12, 0.0, 5.53, 0.0, 0.89, 2.76, 1.19, 3.93, 1.18, 0.0, 0.0, 0.0, 1.03, 2.02, 0.0, 1.55, 0.96, 0.0]}],                        {\"legend\": {\"bgcolor\": \"#F5F6F9\", \"font\": {\"color\": \"#4D5663\"}}, \"paper_bgcolor\": \"#F5F6F9\", \"plot_bgcolor\": \"#F5F6F9\", \"template\": {\"data\": {\"bar\": [{\"error_x\": {\"color\": \"#2a3f5f\"}, \"error_y\": {\"color\": \"#2a3f5f\"}, \"marker\": {\"line\": {\"color\": \"#E5ECF6\", \"width\": 0.5}}, \"type\": \"bar\"}], \"barpolar\": [{\"marker\": {\"line\": {\"color\": \"#E5ECF6\", \"width\": 0.5}}, \"type\": \"barpolar\"}], \"carpet\": [{\"aaxis\": {\"endlinecolor\": \"#2a3f5f\", \"gridcolor\": \"white\", \"linecolor\": \"white\", \"minorgridcolor\": \"white\", \"startlinecolor\": \"#2a3f5f\"}, \"baxis\": {\"endlinecolor\": \"#2a3f5f\", \"gridcolor\": \"white\", \"linecolor\": \"white\", \"minorgridcolor\": \"white\", \"startlinecolor\": \"#2a3f5f\"}, \"type\": \"carpet\"}], \"choropleth\": [{\"colorbar\": {\"outlinewidth\": 0, \"ticks\": \"\"}, \"type\": \"choropleth\"}], \"contour\": [{\"colorbar\": {\"outlinewidth\": 0, \"ticks\": \"\"}, \"colorscale\": [[0.0, \"#0d0887\"], [0.1111111111111111, \"#46039f\"], [0.2222222222222222, \"#7201a8\"], [0.3333333333333333, \"#9c179e\"], [0.4444444444444444, \"#bd3786\"], [0.5555555555555556, \"#d8576b\"], [0.6666666666666666, \"#ed7953\"], [0.7777777777777778, \"#fb9f3a\"], [0.8888888888888888, \"#fdca26\"], [1.0, \"#f0f921\"]], \"type\": \"contour\"}], \"contourcarpet\": [{\"colorbar\": {\"outlinewidth\": 0, \"ticks\": \"\"}, \"type\": \"contourcarpet\"}], \"heatmap\": [{\"colorbar\": {\"outlinewidth\": 0, \"ticks\": \"\"}, \"colorscale\": [[0.0, \"#0d0887\"], [0.1111111111111111, \"#46039f\"], [0.2222222222222222, \"#7201a8\"], [0.3333333333333333, \"#9c179e\"], [0.4444444444444444, \"#bd3786\"], [0.5555555555555556, \"#d8576b\"], [0.6666666666666666, \"#ed7953\"], [0.7777777777777778, \"#fb9f3a\"], [0.8888888888888888, \"#fdca26\"], [1.0, \"#f0f921\"]], \"type\": \"heatmap\"}], \"heatmapgl\": [{\"colorbar\": {\"outlinewidth\": 0, \"ticks\": \"\"}, \"colorscale\": [[0.0, \"#0d0887\"], [0.1111111111111111, \"#46039f\"], [0.2222222222222222, \"#7201a8\"], [0.3333333333333333, \"#9c179e\"], [0.4444444444444444, \"#bd3786\"], [0.5555555555555556, \"#d8576b\"], [0.6666666666666666, \"#ed7953\"], [0.7777777777777778, \"#fb9f3a\"], [0.8888888888888888, \"#fdca26\"], [1.0, \"#f0f921\"]], \"type\": \"heatmapgl\"}], \"histogram\": [{\"marker\": {\"colorbar\": {\"outlinewidth\": 0, \"ticks\": \"\"}}, \"type\": \"histogram\"}], \"histogram2d\": [{\"colorbar\": {\"outlinewidth\": 0, \"ticks\": \"\"}, \"colorscale\": [[0.0, \"#0d0887\"], [0.1111111111111111, \"#46039f\"], [0.2222222222222222, \"#7201a8\"], [0.3333333333333333, \"#9c179e\"], [0.4444444444444444, \"#bd3786\"], [0.5555555555555556, \"#d8576b\"], [0.6666666666666666, \"#ed7953\"], [0.7777777777777778, \"#fb9f3a\"], [0.8888888888888888, \"#fdca26\"], [1.0, \"#f0f921\"]], \"type\": \"histogram2d\"}], \"histogram2dcontour\": [{\"colorbar\": {\"outlinewidth\": 0, \"ticks\": \"\"}, \"colorscale\": [[0.0, \"#0d0887\"], [0.1111111111111111, \"#46039f\"], [0.2222222222222222, \"#7201a8\"], [0.3333333333333333, \"#9c179e\"], [0.4444444444444444, \"#bd3786\"], [0.5555555555555556, \"#d8576b\"], [0.6666666666666666, \"#ed7953\"], [0.7777777777777778, \"#fb9f3a\"], [0.8888888888888888, \"#fdca26\"], [1.0, \"#f0f921\"]], \"type\": \"histogram2dcontour\"}], \"mesh3d\": [{\"colorbar\": {\"outlinewidth\": 0, \"ticks\": \"\"}, \"type\": \"mesh3d\"}], \"parcoords\": [{\"line\": {\"colorbar\": {\"outlinewidth\": 0, \"ticks\": \"\"}}, \"type\": \"parcoords\"}], \"pie\": [{\"automargin\": true, \"type\": \"pie\"}], \"scatter\": [{\"marker\": {\"colorbar\": {\"outlinewidth\": 0, \"ticks\": \"\"}}, \"type\": \"scatter\"}], \"scatter3d\": [{\"line\": {\"colorbar\": {\"outlinewidth\": 0, \"ticks\": \"\"}}, \"marker\": {\"colorbar\": {\"outlinewidth\": 0, \"ticks\": \"\"}}, \"type\": \"scatter3d\"}], \"scattercarpet\": [{\"marker\": {\"colorbar\": {\"outlinewidth\": 0, \"ticks\": \"\"}}, \"type\": \"scattercarpet\"}], \"scattergeo\": [{\"marker\": {\"colorbar\": {\"outlinewidth\": 0, \"ticks\": \"\"}}, \"type\": \"scattergeo\"}], \"scattergl\": [{\"marker\": {\"colorbar\": {\"outlinewidth\": 0, \"ticks\": \"\"}}, \"type\": \"scattergl\"}], \"scattermapbox\": [{\"marker\": {\"colorbar\": {\"outlinewidth\": 0, \"ticks\": \"\"}}, \"type\": \"scattermapbox\"}], \"scatterpolar\": [{\"marker\": {\"colorbar\": {\"outlinewidth\": 0, \"ticks\": \"\"}}, \"type\": \"scatterpolar\"}], \"scatterpolargl\": [{\"marker\": {\"colorbar\": {\"outlinewidth\": 0, \"ticks\": \"\"}}, \"type\": \"scatterpolargl\"}], \"scatterternary\": [{\"marker\": {\"colorbar\": {\"outlinewidth\": 0, \"ticks\": \"\"}}, \"type\": \"scatterternary\"}], \"surface\": [{\"colorbar\": {\"outlinewidth\": 0, \"ticks\": \"\"}, \"colorscale\": [[0.0, \"#0d0887\"], [0.1111111111111111, \"#46039f\"], [0.2222222222222222, \"#7201a8\"], [0.3333333333333333, \"#9c179e\"], [0.4444444444444444, \"#bd3786\"], [0.5555555555555556, \"#d8576b\"], [0.6666666666666666, \"#ed7953\"], [0.7777777777777778, \"#fb9f3a\"], [0.8888888888888888, \"#fdca26\"], [1.0, \"#f0f921\"]], \"type\": \"surface\"}], \"table\": [{\"cells\": {\"fill\": {\"color\": \"#EBF0F8\"}, \"line\": {\"color\": \"white\"}}, \"header\": {\"fill\": {\"color\": \"#C8D4E3\"}, \"line\": {\"color\": \"white\"}}, \"type\": \"table\"}]}, \"layout\": {\"annotationdefaults\": {\"arrowcolor\": \"#2a3f5f\", \"arrowhead\": 0, \"arrowwidth\": 1}, \"autotypenumbers\": \"strict\", \"coloraxis\": {\"colorbar\": {\"outlinewidth\": 0, \"ticks\": \"\"}}, \"colorscale\": {\"diverging\": [[0, \"#8e0152\"], [0.1, \"#c51b7d\"], [0.2, \"#de77ae\"], [0.3, \"#f1b6da\"], [0.4, \"#fde0ef\"], [0.5, \"#f7f7f7\"], [0.6, \"#e6f5d0\"], [0.7, \"#b8e186\"], [0.8, \"#7fbc41\"], [0.9, \"#4d9221\"], [1, \"#276419\"]], \"sequential\": [[0.0, \"#0d0887\"], [0.1111111111111111, \"#46039f\"], [0.2222222222222222, \"#7201a8\"], [0.3333333333333333, \"#9c179e\"], [0.4444444444444444, \"#bd3786\"], [0.5555555555555556, \"#d8576b\"], [0.6666666666666666, \"#ed7953\"], [0.7777777777777778, \"#fb9f3a\"], [0.8888888888888888, \"#fdca26\"], [1.0, \"#f0f921\"]], \"sequentialminus\": [[0.0, \"#0d0887\"], [0.1111111111111111, \"#46039f\"], [0.2222222222222222, \"#7201a8\"], [0.3333333333333333, \"#9c179e\"], [0.4444444444444444, \"#bd3786\"], [0.5555555555555556, \"#d8576b\"], [0.6666666666666666, \"#ed7953\"], [0.7777777777777778, \"#fb9f3a\"], [0.8888888888888888, \"#fdca26\"], [1.0, \"#f0f921\"]]}, \"colorway\": [\"#636efa\", \"#EF553B\", \"#00cc96\", \"#ab63fa\", \"#FFA15A\", \"#19d3f3\", \"#FF6692\", \"#B6E880\", \"#FF97FF\", \"#FECB52\"], \"font\": {\"color\": \"#2a3f5f\"}, \"geo\": {\"bgcolor\": \"white\", \"lakecolor\": \"white\", \"landcolor\": \"#E5ECF6\", \"showlakes\": true, \"showland\": true, \"subunitcolor\": \"white\"}, \"hoverlabel\": {\"align\": \"left\"}, \"hovermode\": \"closest\", \"mapbox\": {\"style\": \"light\"}, \"paper_bgcolor\": \"white\", \"plot_bgcolor\": \"#E5ECF6\", \"polar\": {\"angularaxis\": {\"gridcolor\": \"white\", \"linecolor\": \"white\", \"ticks\": \"\"}, \"bgcolor\": \"#E5ECF6\", \"radialaxis\": {\"gridcolor\": \"white\", \"linecolor\": \"white\", \"ticks\": \"\"}}, \"scene\": {\"xaxis\": {\"backgroundcolor\": \"#E5ECF6\", \"gridcolor\": \"white\", \"gridwidth\": 2, \"linecolor\": \"white\", \"showbackground\": true, \"ticks\": \"\", \"zerolinecolor\": \"white\"}, \"yaxis\": {\"backgroundcolor\": \"#E5ECF6\", \"gridcolor\": \"white\", \"gridwidth\": 2, \"linecolor\": \"white\", \"showbackground\": true, \"ticks\": \"\", \"zerolinecolor\": \"white\"}, \"zaxis\": {\"backgroundcolor\": \"#E5ECF6\", \"gridcolor\": \"white\", \"gridwidth\": 2, \"linecolor\": \"white\", \"showbackground\": true, \"ticks\": \"\", \"zerolinecolor\": \"white\"}}, \"shapedefaults\": {\"line\": {\"color\": \"#2a3f5f\"}}, \"ternary\": {\"aaxis\": {\"gridcolor\": \"white\", \"linecolor\": \"white\", \"ticks\": \"\"}, \"baxis\": {\"gridcolor\": \"white\", \"linecolor\": \"white\", \"ticks\": \"\"}, \"bgcolor\": \"#E5ECF6\", \"caxis\": {\"gridcolor\": \"white\", \"linecolor\": \"white\", \"ticks\": \"\"}}, \"title\": {\"x\": 0.05}, \"xaxis\": {\"automargin\": true, \"gridcolor\": \"white\", \"linecolor\": \"white\", \"ticks\": \"\", \"title\": {\"standoff\": 15}, \"zerolinecolor\": \"white\", \"zerolinewidth\": 2}, \"yaxis\": {\"automargin\": true, \"gridcolor\": \"white\", \"linecolor\": \"white\", \"ticks\": \"\", \"title\": {\"standoff\": 15}, \"zerolinecolor\": \"white\", \"zerolinewidth\": 2}}}, \"title\": {\"font\": {\"color\": \"#4D5663\"}, \"text\": \"Stock-Wise Weightage\"}, \"xaxis\": {\"gridcolor\": \"#E1E5ED\", \"showgrid\": true, \"tickfont\": {\"color\": \"#4D5663\"}, \"title\": {\"font\": {\"color\": \"#4D5663\"}, \"text\": \"Stocks\"}, \"zerolinecolor\": \"#E1E5ED\"}, \"yaxis\": {\"gridcolor\": \"#E1E5ED\", \"showgrid\": true, \"tickfont\": {\"color\": \"#4D5663\"}, \"title\": {\"font\": {\"color\": \"#4D5663\"}, \"text\": \"Weightage\"}, \"zerolinecolor\": \"#E1E5ED\"}},                        {\"showLink\": true, \"linkText\": \"Export to plot.ly\", \"plotlyServerURL\": \"https://plot.ly\", \"responsive\": true}                    ).then(function(){\n",
       "                            \n",
       "var gd = document.getElementById('455f37e6-0490-4320-9020-aed6c5833197');\n",
       "var x = new MutationObserver(function (mutations, observer) {{\n",
       "        var display = window.getComputedStyle(gd).display;\n",
       "        if (!display || display === 'none') {{\n",
       "            console.log([gd, 'removed!']);\n",
       "            Plotly.purge(gd);\n",
       "            observer.disconnect();\n",
       "        }}\n",
       "}});\n",
       "\n",
       "// Listen for the removal of the full notebook cells\n",
       "var notebookContainer = gd.closest('#notebook-container');\n",
       "if (notebookContainer) {{\n",
       "    x.observe(notebookContainer, {childList: true});\n",
       "}}\n",
       "\n",
       "// Listen for the clearing of the current output cell\n",
       "var outputEl = gd.closest('.output');\n",
       "if (outputEl) {{\n",
       "    x.observe(outputEl, {childList: true});\n",
       "}}\n",
       "\n",
       "                        })                };                });            </script>        </div>"
      ]
     },
     "metadata": {},
     "output_type": "display_data"
    }
   ],
   "source": [
    "df = Stock_CAGR[[('Nifty50 Weightage'), ('Portfolio Weightage')]].set_index(Stock_CAGR['Stocks'])\n",
    "\n",
    "df.iplot(kind='bar', xTitle='Stocks', yTitle='Weightage', title='Stock-Wise Weightage')"
   ]
  },
  {
   "cell_type": "markdown",
   "metadata": {},
   "source": [
    "Stock-Wise CAGR Performance Bar Chart"
   ]
  },
  {
   "cell_type": "code",
   "execution_count": 9,
   "metadata": {},
   "outputs": [
    {
     "data": {
      "application/vnd.plotly.v1+json": {
       "config": {
        "linkText": "Export to plot.ly",
        "plotlyServerURL": "https://plot.ly",
        "showLink": true
       },
       "data": [
        {
         "marker": {
          "color": "rgba(255, 153, 51, 0.6)",
          "line": {
           "color": "rgba(255, 153, 51, 1.0)",
           "width": 1
          }
         },
         "name": "Nifty50 CAGR",
         "orientation": "v",
         "text": "",
         "type": "bar",
         "x": [
          "Asian Paints Ltd",
          "Abbott India Ltd",
          "Adani Ports & Special Economic Zone",
          "Avenue Supermarts Ltd",
          "Axis Bank Ltd",
          "Bajaj Auto Ltd",
          "Bajaj Finance Ltd",
          "Bajaj Finserv Ltd",
          "Bharat Petroleum Corporation Ltd",
          "Bharti Airtel Ltd",
          "Britannia Industries Ltd",
          "Cipla Ltd",
          "Coal India Ltd",
          "Crompton Greaves Consumer Electricals Ltd",
          "Cummins India Ltd",
          "Divi's Laboratories Ltd",
          "Dr. Lal Path Labs Ltd",
          "Dr. Reddy's Laboratories Ltd",
          "Eicher Motors Ltd",
          "GAIL (India) Ltd",
          "Grasim Industries Ltd",
          "Gujarat Gas Ltd",
          "HCL Technologies Ltd",
          "HDFC Bank Ltd",
          "HDFC Life Insurance Co Ltd",
          "Hero MotoCorp Ltd",
          "Hindalco Industries Ltd",
          "Hindustan Unilever Ltd",
          "Housing Development Finance Corporation Ltd",
          "ICICI Bank Ltd",
          "ICICI Lombard General Insurance Co Ltd",
          "Indian Oil Corporation Ltd",
          "Indraprastha Gas Ltd",
          "Indusind Bank Ltd",
          "Infosys Ltd",
          "ITC Ltd",
          "JSW Steel Ltd",
          "Jubilant Foodworks Ltd",
          "Kansai Nerolac Paints Ltd",
          "Kotak Mahindra Bank Ltd",
          "Larsen and Toubro Ltd",
          "Mahindra & Mahindra Ltd",
          "Maruti Suzuki India Ltd",
          "Max Financial Services Ltd",
          "Mphasis Ltd",
          "Nestle India Ltd",
          "NTPC Ltd",
          "Oil & Natural Gas Corporation Ltd",
          "PI Industries Ltd",
          "Power Grid Corporation of India Ltd",
          "Reliance Industries Ltd",
          "SBI Life Insurance Company Ltd",
          "Shree Cement Ltd",
          "State Bank of India",
          "Sun Pharmaceutical Industries Ltd",
          "Tata Consultancy Services Ltd",
          "Tata Consumer Products Ltd",
          "Tata Motors Ltd",
          "Tata Steel Ltd",
          "Tech Mahindra Ltd",
          "Titan Company Ltd",
          "UltraTech Cement Ltd",
          "UPL Ltd",
          "Voltas Ltd",
          "Whirlpool Of India Ltd",
          "Wipro Ltd"
         ],
         "y": [
          0.0058512,
          0,
          0.006476399999999999,
          0,
          0.0033759,
          0.0041385,
          0.0051332999999999995,
          0.0013050000000000002,
          0.0004472,
          0.0025312,
          0.000875,
          0.00639,
          -0.000558,
          0,
          0,
          0.0041975,
          0,
          0.004484,
          0.002769,
          0.0017978999999999998,
          0.005698,
          0,
          0.010836,
          0.0368693,
          0.0027391,
          0.0048312,
          0.0067256,
          -3.43e-05,
          0.016335,
          0.013838,
          0,
          -0.000212,
          0,
          8.2e-06,
          0.05506799999999999,
          0.0023858,
          0.004266,
          0,
          0,
          0.0070290000000000005,
          0.007534999999999999,
          0.0102724,
          0.0013855,
          0,
          0,
          -0.0001545,
          -5.8399999999999997e-05,
          0.0015125,
          0,
          0.0014960000000000002,
          0.061873199999999996,
          -0.000171,
          0.0008476000000000001,
          0.007451999999999999,
          0.0058636,
          0.026140499999999997,
          0,
          0.012440000000000001,
          0.0070532,
          0.0027573,
          0.001515,
          0.005033600000000001,
          0.0007124,
          0,
          0,
          0.0092715
         ]
        },
        {
         "marker": {
          "color": "rgba(55, 128, 191, 0.6)",
          "line": {
           "color": "rgba(55, 128, 191, 1.0)",
           "width": 1
          }
         },
         "name": "Portfolio CAGR",
         "orientation": "v",
         "text": "",
         "type": "bar",
         "x": [
          "Asian Paints Ltd",
          "Abbott India Ltd",
          "Adani Ports & Special Economic Zone",
          "Avenue Supermarts Ltd",
          "Axis Bank Ltd",
          "Bajaj Auto Ltd",
          "Bajaj Finance Ltd",
          "Bajaj Finserv Ltd",
          "Bharat Petroleum Corporation Ltd",
          "Bharti Airtel Ltd",
          "Britannia Industries Ltd",
          "Cipla Ltd",
          "Coal India Ltd",
          "Crompton Greaves Consumer Electricals Ltd",
          "Cummins India Ltd",
          "Divi's Laboratories Ltd",
          "Dr. Lal Path Labs Ltd",
          "Dr. Reddy's Laboratories Ltd",
          "Eicher Motors Ltd",
          "GAIL (India) Ltd",
          "Grasim Industries Ltd",
          "Gujarat Gas Ltd",
          "HCL Technologies Ltd",
          "HDFC Bank Ltd",
          "HDFC Life Insurance Co Ltd",
          "Hero MotoCorp Ltd",
          "Hindalco Industries Ltd",
          "Hindustan Unilever Ltd",
          "Housing Development Finance Corporation Ltd",
          "ICICI Bank Ltd",
          "ICICI Lombard General Insurance Co Ltd",
          "Indian Oil Corporation Ltd",
          "Indraprastha Gas Ltd",
          "Indusind Bank Ltd",
          "Infosys Ltd",
          "ITC Ltd",
          "JSW Steel Ltd",
          "Jubilant Foodworks Ltd",
          "Kansai Nerolac Paints Ltd",
          "Kotak Mahindra Bank Ltd",
          "Larsen and Toubro Ltd",
          "Mahindra & Mahindra Ltd",
          "Maruti Suzuki India Ltd",
          "Max Financial Services Ltd",
          "Mphasis Ltd",
          "Nestle India Ltd",
          "NTPC Ltd",
          "Oil & Natural Gas Corporation Ltd",
          "PI Industries Ltd",
          "Power Grid Corporation of India Ltd",
          "Reliance Industries Ltd",
          "SBI Life Insurance Company Ltd",
          "Shree Cement Ltd",
          "State Bank of India",
          "Sun Pharmaceutical Industries Ltd",
          "Tata Consultancy Services Ltd",
          "Tata Consumer Products Ltd",
          "Tata Motors Ltd",
          "Tata Steel Ltd",
          "Tech Mahindra Ltd",
          "Titan Company Ltd",
          "UltraTech Cement Ltd",
          "UPL Ltd",
          "Voltas Ltd",
          "Whirlpool Of India Ltd",
          "Wipro Ltd"
         ],
         "y": [
          0.0026394,
          -0.000532,
          0,
          0.0048258,
          0.0040656,
          0.008184,
          0.0089652,
          0,
          0,
          0.0034272,
          0.0015125,
          0.01197,
          0,
          0.0066879999999999995,
          0.0025960000000000002,
          0.007359999999999999,
          0.001425,
          0.006419199999999999,
          0.0038766,
          0,
          0,
          0.007293000000000001,
          0.021800999999999997,
          0.0303355,
          0.002709,
          0,
          0.0009607999999999998,
          -2.4e-05,
          0.00936,
          0.015663999999999997,
          0.001456,
          0,
          0.0012972,
          0,
          0.055138599999999996,
          0.0009085000000000001,
          0,
          0.0016820999999999997,
          0.0012702,
          0.0032670000000000004,
          0.0092675,
          0.011198600000000001,
          0.0017425000000000001,
          0.005382100000000001,
          0.004544100000000001,
          -7.5e-05,
          0,
          0,
          0.0048272,
          0,
          0.033843599999999995,
          0,
          0.0014506999999999999,
          0.011178,
          0.0065212000000000004,
          0.018510299999999997,
          0.009074200000000001,
          0,
          0,
          0,
          0.001545,
          0.009776799999999999,
          0,
          0.008029000000000001,
          0.0008448,
          0
         ]
        }
       ],
       "layout": {
        "legend": {
         "bgcolor": "#F5F6F9",
         "font": {
          "color": "#4D5663"
         }
        },
        "paper_bgcolor": "#F5F6F9",
        "plot_bgcolor": "#F5F6F9",
        "template": {
         "data": {
          "bar": [
           {
            "error_x": {
             "color": "#2a3f5f"
            },
            "error_y": {
             "color": "#2a3f5f"
            },
            "marker": {
             "line": {
              "color": "#E5ECF6",
              "width": 0.5
             }
            },
            "type": "bar"
           }
          ],
          "barpolar": [
           {
            "marker": {
             "line": {
              "color": "#E5ECF6",
              "width": 0.5
             }
            },
            "type": "barpolar"
           }
          ],
          "carpet": [
           {
            "aaxis": {
             "endlinecolor": "#2a3f5f",
             "gridcolor": "white",
             "linecolor": "white",
             "minorgridcolor": "white",
             "startlinecolor": "#2a3f5f"
            },
            "baxis": {
             "endlinecolor": "#2a3f5f",
             "gridcolor": "white",
             "linecolor": "white",
             "minorgridcolor": "white",
             "startlinecolor": "#2a3f5f"
            },
            "type": "carpet"
           }
          ],
          "choropleth": [
           {
            "colorbar": {
             "outlinewidth": 0,
             "ticks": ""
            },
            "type": "choropleth"
           }
          ],
          "contour": [
           {
            "colorbar": {
             "outlinewidth": 0,
             "ticks": ""
            },
            "colorscale": [
             [
              0,
              "#0d0887"
             ],
             [
              0.1111111111111111,
              "#46039f"
             ],
             [
              0.2222222222222222,
              "#7201a8"
             ],
             [
              0.3333333333333333,
              "#9c179e"
             ],
             [
              0.4444444444444444,
              "#bd3786"
             ],
             [
              0.5555555555555556,
              "#d8576b"
             ],
             [
              0.6666666666666666,
              "#ed7953"
             ],
             [
              0.7777777777777778,
              "#fb9f3a"
             ],
             [
              0.8888888888888888,
              "#fdca26"
             ],
             [
              1,
              "#f0f921"
             ]
            ],
            "type": "contour"
           }
          ],
          "contourcarpet": [
           {
            "colorbar": {
             "outlinewidth": 0,
             "ticks": ""
            },
            "type": "contourcarpet"
           }
          ],
          "heatmap": [
           {
            "colorbar": {
             "outlinewidth": 0,
             "ticks": ""
            },
            "colorscale": [
             [
              0,
              "#0d0887"
             ],
             [
              0.1111111111111111,
              "#46039f"
             ],
             [
              0.2222222222222222,
              "#7201a8"
             ],
             [
              0.3333333333333333,
              "#9c179e"
             ],
             [
              0.4444444444444444,
              "#bd3786"
             ],
             [
              0.5555555555555556,
              "#d8576b"
             ],
             [
              0.6666666666666666,
              "#ed7953"
             ],
             [
              0.7777777777777778,
              "#fb9f3a"
             ],
             [
              0.8888888888888888,
              "#fdca26"
             ],
             [
              1,
              "#f0f921"
             ]
            ],
            "type": "heatmap"
           }
          ],
          "heatmapgl": [
           {
            "colorbar": {
             "outlinewidth": 0,
             "ticks": ""
            },
            "colorscale": [
             [
              0,
              "#0d0887"
             ],
             [
              0.1111111111111111,
              "#46039f"
             ],
             [
              0.2222222222222222,
              "#7201a8"
             ],
             [
              0.3333333333333333,
              "#9c179e"
             ],
             [
              0.4444444444444444,
              "#bd3786"
             ],
             [
              0.5555555555555556,
              "#d8576b"
             ],
             [
              0.6666666666666666,
              "#ed7953"
             ],
             [
              0.7777777777777778,
              "#fb9f3a"
             ],
             [
              0.8888888888888888,
              "#fdca26"
             ],
             [
              1,
              "#f0f921"
             ]
            ],
            "type": "heatmapgl"
           }
          ],
          "histogram": [
           {
            "marker": {
             "colorbar": {
              "outlinewidth": 0,
              "ticks": ""
             }
            },
            "type": "histogram"
           }
          ],
          "histogram2d": [
           {
            "colorbar": {
             "outlinewidth": 0,
             "ticks": ""
            },
            "colorscale": [
             [
              0,
              "#0d0887"
             ],
             [
              0.1111111111111111,
              "#46039f"
             ],
             [
              0.2222222222222222,
              "#7201a8"
             ],
             [
              0.3333333333333333,
              "#9c179e"
             ],
             [
              0.4444444444444444,
              "#bd3786"
             ],
             [
              0.5555555555555556,
              "#d8576b"
             ],
             [
              0.6666666666666666,
              "#ed7953"
             ],
             [
              0.7777777777777778,
              "#fb9f3a"
             ],
             [
              0.8888888888888888,
              "#fdca26"
             ],
             [
              1,
              "#f0f921"
             ]
            ],
            "type": "histogram2d"
           }
          ],
          "histogram2dcontour": [
           {
            "colorbar": {
             "outlinewidth": 0,
             "ticks": ""
            },
            "colorscale": [
             [
              0,
              "#0d0887"
             ],
             [
              0.1111111111111111,
              "#46039f"
             ],
             [
              0.2222222222222222,
              "#7201a8"
             ],
             [
              0.3333333333333333,
              "#9c179e"
             ],
             [
              0.4444444444444444,
              "#bd3786"
             ],
             [
              0.5555555555555556,
              "#d8576b"
             ],
             [
              0.6666666666666666,
              "#ed7953"
             ],
             [
              0.7777777777777778,
              "#fb9f3a"
             ],
             [
              0.8888888888888888,
              "#fdca26"
             ],
             [
              1,
              "#f0f921"
             ]
            ],
            "type": "histogram2dcontour"
           }
          ],
          "mesh3d": [
           {
            "colorbar": {
             "outlinewidth": 0,
             "ticks": ""
            },
            "type": "mesh3d"
           }
          ],
          "parcoords": [
           {
            "line": {
             "colorbar": {
              "outlinewidth": 0,
              "ticks": ""
             }
            },
            "type": "parcoords"
           }
          ],
          "pie": [
           {
            "automargin": true,
            "type": "pie"
           }
          ],
          "scatter": [
           {
            "marker": {
             "colorbar": {
              "outlinewidth": 0,
              "ticks": ""
             }
            },
            "type": "scatter"
           }
          ],
          "scatter3d": [
           {
            "line": {
             "colorbar": {
              "outlinewidth": 0,
              "ticks": ""
             }
            },
            "marker": {
             "colorbar": {
              "outlinewidth": 0,
              "ticks": ""
             }
            },
            "type": "scatter3d"
           }
          ],
          "scattercarpet": [
           {
            "marker": {
             "colorbar": {
              "outlinewidth": 0,
              "ticks": ""
             }
            },
            "type": "scattercarpet"
           }
          ],
          "scattergeo": [
           {
            "marker": {
             "colorbar": {
              "outlinewidth": 0,
              "ticks": ""
             }
            },
            "type": "scattergeo"
           }
          ],
          "scattergl": [
           {
            "marker": {
             "colorbar": {
              "outlinewidth": 0,
              "ticks": ""
             }
            },
            "type": "scattergl"
           }
          ],
          "scattermapbox": [
           {
            "marker": {
             "colorbar": {
              "outlinewidth": 0,
              "ticks": ""
             }
            },
            "type": "scattermapbox"
           }
          ],
          "scatterpolar": [
           {
            "marker": {
             "colorbar": {
              "outlinewidth": 0,
              "ticks": ""
             }
            },
            "type": "scatterpolar"
           }
          ],
          "scatterpolargl": [
           {
            "marker": {
             "colorbar": {
              "outlinewidth": 0,
              "ticks": ""
             }
            },
            "type": "scatterpolargl"
           }
          ],
          "scatterternary": [
           {
            "marker": {
             "colorbar": {
              "outlinewidth": 0,
              "ticks": ""
             }
            },
            "type": "scatterternary"
           }
          ],
          "surface": [
           {
            "colorbar": {
             "outlinewidth": 0,
             "ticks": ""
            },
            "colorscale": [
             [
              0,
              "#0d0887"
             ],
             [
              0.1111111111111111,
              "#46039f"
             ],
             [
              0.2222222222222222,
              "#7201a8"
             ],
             [
              0.3333333333333333,
              "#9c179e"
             ],
             [
              0.4444444444444444,
              "#bd3786"
             ],
             [
              0.5555555555555556,
              "#d8576b"
             ],
             [
              0.6666666666666666,
              "#ed7953"
             ],
             [
              0.7777777777777778,
              "#fb9f3a"
             ],
             [
              0.8888888888888888,
              "#fdca26"
             ],
             [
              1,
              "#f0f921"
             ]
            ],
            "type": "surface"
           }
          ],
          "table": [
           {
            "cells": {
             "fill": {
              "color": "#EBF0F8"
             },
             "line": {
              "color": "white"
             }
            },
            "header": {
             "fill": {
              "color": "#C8D4E3"
             },
             "line": {
              "color": "white"
             }
            },
            "type": "table"
           }
          ]
         },
         "layout": {
          "annotationdefaults": {
           "arrowcolor": "#2a3f5f",
           "arrowhead": 0,
           "arrowwidth": 1
          },
          "autotypenumbers": "strict",
          "coloraxis": {
           "colorbar": {
            "outlinewidth": 0,
            "ticks": ""
           }
          },
          "colorscale": {
           "diverging": [
            [
             0,
             "#8e0152"
            ],
            [
             0.1,
             "#c51b7d"
            ],
            [
             0.2,
             "#de77ae"
            ],
            [
             0.3,
             "#f1b6da"
            ],
            [
             0.4,
             "#fde0ef"
            ],
            [
             0.5,
             "#f7f7f7"
            ],
            [
             0.6,
             "#e6f5d0"
            ],
            [
             0.7,
             "#b8e186"
            ],
            [
             0.8,
             "#7fbc41"
            ],
            [
             0.9,
             "#4d9221"
            ],
            [
             1,
             "#276419"
            ]
           ],
           "sequential": [
            [
             0,
             "#0d0887"
            ],
            [
             0.1111111111111111,
             "#46039f"
            ],
            [
             0.2222222222222222,
             "#7201a8"
            ],
            [
             0.3333333333333333,
             "#9c179e"
            ],
            [
             0.4444444444444444,
             "#bd3786"
            ],
            [
             0.5555555555555556,
             "#d8576b"
            ],
            [
             0.6666666666666666,
             "#ed7953"
            ],
            [
             0.7777777777777778,
             "#fb9f3a"
            ],
            [
             0.8888888888888888,
             "#fdca26"
            ],
            [
             1,
             "#f0f921"
            ]
           ],
           "sequentialminus": [
            [
             0,
             "#0d0887"
            ],
            [
             0.1111111111111111,
             "#46039f"
            ],
            [
             0.2222222222222222,
             "#7201a8"
            ],
            [
             0.3333333333333333,
             "#9c179e"
            ],
            [
             0.4444444444444444,
             "#bd3786"
            ],
            [
             0.5555555555555556,
             "#d8576b"
            ],
            [
             0.6666666666666666,
             "#ed7953"
            ],
            [
             0.7777777777777778,
             "#fb9f3a"
            ],
            [
             0.8888888888888888,
             "#fdca26"
            ],
            [
             1,
             "#f0f921"
            ]
           ]
          },
          "colorway": [
           "#636efa",
           "#EF553B",
           "#00cc96",
           "#ab63fa",
           "#FFA15A",
           "#19d3f3",
           "#FF6692",
           "#B6E880",
           "#FF97FF",
           "#FECB52"
          ],
          "font": {
           "color": "#2a3f5f"
          },
          "geo": {
           "bgcolor": "white",
           "lakecolor": "white",
           "landcolor": "#E5ECF6",
           "showlakes": true,
           "showland": true,
           "subunitcolor": "white"
          },
          "hoverlabel": {
           "align": "left"
          },
          "hovermode": "closest",
          "mapbox": {
           "style": "light"
          },
          "paper_bgcolor": "white",
          "plot_bgcolor": "#E5ECF6",
          "polar": {
           "angularaxis": {
            "gridcolor": "white",
            "linecolor": "white",
            "ticks": ""
           },
           "bgcolor": "#E5ECF6",
           "radialaxis": {
            "gridcolor": "white",
            "linecolor": "white",
            "ticks": ""
           }
          },
          "scene": {
           "xaxis": {
            "backgroundcolor": "#E5ECF6",
            "gridcolor": "white",
            "gridwidth": 2,
            "linecolor": "white",
            "showbackground": true,
            "ticks": "",
            "zerolinecolor": "white"
           },
           "yaxis": {
            "backgroundcolor": "#E5ECF6",
            "gridcolor": "white",
            "gridwidth": 2,
            "linecolor": "white",
            "showbackground": true,
            "ticks": "",
            "zerolinecolor": "white"
           },
           "zaxis": {
            "backgroundcolor": "#E5ECF6",
            "gridcolor": "white",
            "gridwidth": 2,
            "linecolor": "white",
            "showbackground": true,
            "ticks": "",
            "zerolinecolor": "white"
           }
          },
          "shapedefaults": {
           "line": {
            "color": "#2a3f5f"
           }
          },
          "ternary": {
           "aaxis": {
            "gridcolor": "white",
            "linecolor": "white",
            "ticks": ""
           },
           "baxis": {
            "gridcolor": "white",
            "linecolor": "white",
            "ticks": ""
           },
           "bgcolor": "#E5ECF6",
           "caxis": {
            "gridcolor": "white",
            "linecolor": "white",
            "ticks": ""
           }
          },
          "title": {
           "x": 0.05
          },
          "xaxis": {
           "automargin": true,
           "gridcolor": "white",
           "linecolor": "white",
           "ticks": "",
           "title": {
            "standoff": 15
           },
           "zerolinecolor": "white",
           "zerolinewidth": 2
          },
          "yaxis": {
           "automargin": true,
           "gridcolor": "white",
           "linecolor": "white",
           "ticks": "",
           "title": {
            "standoff": 15
           },
           "zerolinecolor": "white",
           "zerolinewidth": 2
          }
         }
        },
        "title": {
         "font": {
          "color": "#4D5663"
         },
         "text": "Stock-Wise CAGR performances"
        },
        "xaxis": {
         "gridcolor": "#E1E5ED",
         "showgrid": true,
         "tickfont": {
          "color": "#4D5663"
         },
         "title": {
          "font": {
           "color": "#4D5663"
          },
          "text": "Stocks"
         },
         "zerolinecolor": "#E1E5ED"
        },
        "yaxis": {
         "gridcolor": "#E1E5ED",
         "showgrid": true,
         "tickfont": {
          "color": "#4D5663"
         },
         "title": {
          "font": {
           "color": "#4D5663"
          },
          "text": "CAGR"
         },
         "zerolinecolor": "#E1E5ED"
        }
       }
      },
      "text/html": [
       "<div>                            <div id=\"1a0e73bc-215e-4e5e-9307-790931096e32\" class=\"plotly-graph-div\" style=\"height:525px; width:100%;\"></div>            <script type=\"text/javascript\">                require([\"plotly\"], function(Plotly) {                    window.PLOTLYENV=window.PLOTLYENV || {};\n",
       "                    window.PLOTLYENV.BASE_URL='https://plot.ly';                                    if (document.getElementById(\"1a0e73bc-215e-4e5e-9307-790931096e32\")) {                    Plotly.newPlot(                        \"1a0e73bc-215e-4e5e-9307-790931096e32\",                        [{\"marker\": {\"color\": \"rgba(255, 153, 51, 0.6)\", \"line\": {\"color\": \"rgba(255, 153, 51, 1.0)\", \"width\": 1}}, \"name\": \"Nifty50 CAGR\", \"orientation\": \"v\", \"text\": \"\", \"type\": \"bar\", \"x\": [\"Asian Paints Ltd\", \"Abbott India Ltd\", \"Adani Ports & Special Economic Zone\", \"Avenue Supermarts Ltd\", \"Axis Bank Ltd\", \"Bajaj Auto Ltd\", \"Bajaj Finance Ltd\", \"Bajaj Finserv Ltd\", \"Bharat Petroleum Corporation Ltd\", \"Bharti Airtel Ltd\", \"Britannia Industries Ltd\", \"Cipla Ltd\", \"Coal India Ltd\", \"Crompton Greaves Consumer Electricals Ltd\", \"Cummins India Ltd\", \"Divi's Laboratories Ltd\", \"Dr. Lal Path Labs Ltd\", \"Dr. Reddy's Laboratories Ltd\", \"Eicher Motors Ltd\", \"GAIL (India) Ltd\", \"Grasim Industries Ltd\", \"Gujarat Gas Ltd\", \"HCL Technologies Ltd\", \"HDFC Bank Ltd\", \"HDFC Life Insurance Co Ltd\", \"Hero MotoCorp Ltd\", \"Hindalco Industries Ltd\", \"Hindustan Unilever Ltd\", \"Housing Development Finance Corporation Ltd\", \"ICICI Bank Ltd\", \"ICICI Lombard General Insurance Co Ltd\", \"Indian Oil Corporation Ltd\", \"Indraprastha Gas Ltd\", \"Indusind Bank Ltd\", \"Infosys Ltd\", \"ITC Ltd\", \"JSW Steel Ltd\", \"Jubilant Foodworks Ltd\", \"Kansai Nerolac Paints Ltd\", \"Kotak Mahindra Bank Ltd\", \"Larsen and Toubro Ltd\", \"Mahindra & Mahindra Ltd\", \"Maruti Suzuki India Ltd\", \"Max Financial Services Ltd\", \"Mphasis Ltd\", \"Nestle India Ltd\", \"NTPC Ltd\", \"Oil & Natural Gas Corporation Ltd\", \"PI Industries Ltd\", \"Power Grid Corporation of India Ltd\", \"Reliance Industries Ltd\", \"SBI Life Insurance Company Ltd\", \"Shree Cement Ltd\", \"State Bank of India\", \"Sun Pharmaceutical Industries Ltd\", \"Tata Consultancy Services Ltd\", \"Tata Consumer Products Ltd\", \"Tata Motors Ltd\", \"Tata Steel Ltd\", \"Tech Mahindra Ltd\", \"Titan Company Ltd\", \"UltraTech Cement Ltd\", \"UPL Ltd\", \"Voltas Ltd\", \"Whirlpool Of India Ltd\", \"Wipro Ltd\"], \"y\": [0.0058512, 0.0, 0.006476399999999999, 0.0, 0.0033759, 0.0041385, 0.0051332999999999995, 0.0013050000000000002, 0.0004472, 0.0025312, 0.000875, 0.00639, -0.000558, 0.0, 0.0, 0.0041975, 0.0, 0.004484, 0.002769, 0.0017978999999999998, 0.005698, 0.0, 0.010836, 0.0368693, 0.0027391, 0.0048312, 0.0067256, -3.43e-05, 0.016335, 0.013838, 0.0, -0.000212, 0.0, 8.2e-06, 0.05506799999999999, 0.0023858, 0.004266, 0.0, 0.0, 0.0070290000000000005, 0.007534999999999999, 0.0102724, 0.0013855, 0.0, 0.0, -0.0001545, -5.8399999999999997e-05, 0.0015125, 0.0, 0.0014960000000000002, 0.061873199999999996, -0.000171, 0.0008476000000000001, 0.007451999999999999, 0.0058636, 0.026140499999999997, 0.0, 0.012440000000000001, 0.0070532, 0.0027573, 0.001515, 0.005033600000000001, 0.0007124, 0.0, 0.0, 0.0092715]}, {\"marker\": {\"color\": \"rgba(55, 128, 191, 0.6)\", \"line\": {\"color\": \"rgba(55, 128, 191, 1.0)\", \"width\": 1}}, \"name\": \"Portfolio CAGR\", \"orientation\": \"v\", \"text\": \"\", \"type\": \"bar\", \"x\": [\"Asian Paints Ltd\", \"Abbott India Ltd\", \"Adani Ports & Special Economic Zone\", \"Avenue Supermarts Ltd\", \"Axis Bank Ltd\", \"Bajaj Auto Ltd\", \"Bajaj Finance Ltd\", \"Bajaj Finserv Ltd\", \"Bharat Petroleum Corporation Ltd\", \"Bharti Airtel Ltd\", \"Britannia Industries Ltd\", \"Cipla Ltd\", \"Coal India Ltd\", \"Crompton Greaves Consumer Electricals Ltd\", \"Cummins India Ltd\", \"Divi's Laboratories Ltd\", \"Dr. Lal Path Labs Ltd\", \"Dr. Reddy's Laboratories Ltd\", \"Eicher Motors Ltd\", \"GAIL (India) Ltd\", \"Grasim Industries Ltd\", \"Gujarat Gas Ltd\", \"HCL Technologies Ltd\", \"HDFC Bank Ltd\", \"HDFC Life Insurance Co Ltd\", \"Hero MotoCorp Ltd\", \"Hindalco Industries Ltd\", \"Hindustan Unilever Ltd\", \"Housing Development Finance Corporation Ltd\", \"ICICI Bank Ltd\", \"ICICI Lombard General Insurance Co Ltd\", \"Indian Oil Corporation Ltd\", \"Indraprastha Gas Ltd\", \"Indusind Bank Ltd\", \"Infosys Ltd\", \"ITC Ltd\", \"JSW Steel Ltd\", \"Jubilant Foodworks Ltd\", \"Kansai Nerolac Paints Ltd\", \"Kotak Mahindra Bank Ltd\", \"Larsen and Toubro Ltd\", \"Mahindra & Mahindra Ltd\", \"Maruti Suzuki India Ltd\", \"Max Financial Services Ltd\", \"Mphasis Ltd\", \"Nestle India Ltd\", \"NTPC Ltd\", \"Oil & Natural Gas Corporation Ltd\", \"PI Industries Ltd\", \"Power Grid Corporation of India Ltd\", \"Reliance Industries Ltd\", \"SBI Life Insurance Company Ltd\", \"Shree Cement Ltd\", \"State Bank of India\", \"Sun Pharmaceutical Industries Ltd\", \"Tata Consultancy Services Ltd\", \"Tata Consumer Products Ltd\", \"Tata Motors Ltd\", \"Tata Steel Ltd\", \"Tech Mahindra Ltd\", \"Titan Company Ltd\", \"UltraTech Cement Ltd\", \"UPL Ltd\", \"Voltas Ltd\", \"Whirlpool Of India Ltd\", \"Wipro Ltd\"], \"y\": [0.0026394, -0.000532, 0.0, 0.0048258, 0.0040656, 0.008184, 0.0089652, 0.0, 0.0, 0.0034272, 0.0015125, 0.01197, 0.0, 0.0066879999999999995, 0.0025960000000000002, 0.007359999999999999, 0.001425, 0.006419199999999999, 0.0038766, 0.0, 0.0, 0.007293000000000001, 0.021800999999999997, 0.0303355, 0.002709, 0.0, 0.0009607999999999998, -2.4e-05, 0.00936, 0.015663999999999997, 0.001456, 0.0, 0.0012972, 0.0, 0.055138599999999996, 0.0009085000000000001, 0.0, 0.0016820999999999997, 0.0012702, 0.0032670000000000004, 0.0092675, 0.011198600000000001, 0.0017425000000000001, 0.005382100000000001, 0.004544100000000001, -7.5e-05, 0.0, 0.0, 0.0048272, 0.0, 0.033843599999999995, 0.0, 0.0014506999999999999, 0.011178, 0.0065212000000000004, 0.018510299999999997, 0.009074200000000001, 0.0, 0.0, 0.0, 0.001545, 0.009776799999999999, 0.0, 0.008029000000000001, 0.0008448, 0.0]}],                        {\"legend\": {\"bgcolor\": \"#F5F6F9\", \"font\": {\"color\": \"#4D5663\"}}, \"paper_bgcolor\": \"#F5F6F9\", \"plot_bgcolor\": \"#F5F6F9\", \"template\": {\"data\": {\"bar\": [{\"error_x\": {\"color\": \"#2a3f5f\"}, \"error_y\": {\"color\": \"#2a3f5f\"}, \"marker\": {\"line\": {\"color\": \"#E5ECF6\", \"width\": 0.5}}, \"type\": \"bar\"}], \"barpolar\": [{\"marker\": {\"line\": {\"color\": \"#E5ECF6\", \"width\": 0.5}}, \"type\": \"barpolar\"}], \"carpet\": [{\"aaxis\": {\"endlinecolor\": \"#2a3f5f\", \"gridcolor\": \"white\", \"linecolor\": \"white\", \"minorgridcolor\": \"white\", \"startlinecolor\": \"#2a3f5f\"}, \"baxis\": {\"endlinecolor\": \"#2a3f5f\", \"gridcolor\": \"white\", \"linecolor\": \"white\", \"minorgridcolor\": \"white\", \"startlinecolor\": \"#2a3f5f\"}, \"type\": \"carpet\"}], \"choropleth\": [{\"colorbar\": {\"outlinewidth\": 0, \"ticks\": \"\"}, \"type\": \"choropleth\"}], \"contour\": [{\"colorbar\": {\"outlinewidth\": 0, \"ticks\": \"\"}, \"colorscale\": [[0.0, \"#0d0887\"], [0.1111111111111111, \"#46039f\"], [0.2222222222222222, \"#7201a8\"], [0.3333333333333333, \"#9c179e\"], [0.4444444444444444, \"#bd3786\"], [0.5555555555555556, \"#d8576b\"], [0.6666666666666666, \"#ed7953\"], [0.7777777777777778, \"#fb9f3a\"], [0.8888888888888888, \"#fdca26\"], [1.0, \"#f0f921\"]], \"type\": \"contour\"}], \"contourcarpet\": [{\"colorbar\": {\"outlinewidth\": 0, \"ticks\": \"\"}, \"type\": \"contourcarpet\"}], \"heatmap\": [{\"colorbar\": {\"outlinewidth\": 0, \"ticks\": \"\"}, \"colorscale\": [[0.0, \"#0d0887\"], [0.1111111111111111, \"#46039f\"], [0.2222222222222222, \"#7201a8\"], [0.3333333333333333, \"#9c179e\"], [0.4444444444444444, \"#bd3786\"], [0.5555555555555556, \"#d8576b\"], [0.6666666666666666, \"#ed7953\"], [0.7777777777777778, \"#fb9f3a\"], [0.8888888888888888, \"#fdca26\"], [1.0, \"#f0f921\"]], \"type\": \"heatmap\"}], \"heatmapgl\": [{\"colorbar\": {\"outlinewidth\": 0, \"ticks\": \"\"}, \"colorscale\": [[0.0, \"#0d0887\"], [0.1111111111111111, \"#46039f\"], [0.2222222222222222, \"#7201a8\"], [0.3333333333333333, \"#9c179e\"], [0.4444444444444444, \"#bd3786\"], [0.5555555555555556, \"#d8576b\"], [0.6666666666666666, \"#ed7953\"], [0.7777777777777778, \"#fb9f3a\"], [0.8888888888888888, \"#fdca26\"], [1.0, \"#f0f921\"]], \"type\": \"heatmapgl\"}], \"histogram\": [{\"marker\": {\"colorbar\": {\"outlinewidth\": 0, \"ticks\": \"\"}}, \"type\": \"histogram\"}], \"histogram2d\": [{\"colorbar\": {\"outlinewidth\": 0, \"ticks\": \"\"}, \"colorscale\": [[0.0, \"#0d0887\"], [0.1111111111111111, \"#46039f\"], [0.2222222222222222, \"#7201a8\"], [0.3333333333333333, \"#9c179e\"], [0.4444444444444444, \"#bd3786\"], [0.5555555555555556, \"#d8576b\"], [0.6666666666666666, \"#ed7953\"], [0.7777777777777778, \"#fb9f3a\"], [0.8888888888888888, \"#fdca26\"], [1.0, \"#f0f921\"]], \"type\": \"histogram2d\"}], \"histogram2dcontour\": [{\"colorbar\": {\"outlinewidth\": 0, \"ticks\": \"\"}, \"colorscale\": [[0.0, \"#0d0887\"], [0.1111111111111111, \"#46039f\"], [0.2222222222222222, \"#7201a8\"], [0.3333333333333333, \"#9c179e\"], [0.4444444444444444, \"#bd3786\"], [0.5555555555555556, \"#d8576b\"], [0.6666666666666666, \"#ed7953\"], [0.7777777777777778, \"#fb9f3a\"], [0.8888888888888888, \"#fdca26\"], [1.0, \"#f0f921\"]], \"type\": \"histogram2dcontour\"}], \"mesh3d\": [{\"colorbar\": {\"outlinewidth\": 0, \"ticks\": \"\"}, \"type\": \"mesh3d\"}], \"parcoords\": [{\"line\": {\"colorbar\": {\"outlinewidth\": 0, \"ticks\": \"\"}}, \"type\": \"parcoords\"}], \"pie\": [{\"automargin\": true, \"type\": \"pie\"}], \"scatter\": [{\"marker\": {\"colorbar\": {\"outlinewidth\": 0, \"ticks\": \"\"}}, \"type\": \"scatter\"}], \"scatter3d\": [{\"line\": {\"colorbar\": {\"outlinewidth\": 0, \"ticks\": \"\"}}, \"marker\": {\"colorbar\": {\"outlinewidth\": 0, \"ticks\": \"\"}}, \"type\": \"scatter3d\"}], \"scattercarpet\": [{\"marker\": {\"colorbar\": {\"outlinewidth\": 0, \"ticks\": \"\"}}, \"type\": \"scattercarpet\"}], \"scattergeo\": [{\"marker\": {\"colorbar\": {\"outlinewidth\": 0, \"ticks\": \"\"}}, \"type\": \"scattergeo\"}], \"scattergl\": [{\"marker\": {\"colorbar\": {\"outlinewidth\": 0, \"ticks\": \"\"}}, \"type\": \"scattergl\"}], \"scattermapbox\": [{\"marker\": {\"colorbar\": {\"outlinewidth\": 0, \"ticks\": \"\"}}, \"type\": \"scattermapbox\"}], \"scatterpolar\": [{\"marker\": {\"colorbar\": {\"outlinewidth\": 0, \"ticks\": \"\"}}, \"type\": \"scatterpolar\"}], \"scatterpolargl\": [{\"marker\": {\"colorbar\": {\"outlinewidth\": 0, \"ticks\": \"\"}}, \"type\": \"scatterpolargl\"}], \"scatterternary\": [{\"marker\": {\"colorbar\": {\"outlinewidth\": 0, \"ticks\": \"\"}}, \"type\": \"scatterternary\"}], \"surface\": [{\"colorbar\": {\"outlinewidth\": 0, \"ticks\": \"\"}, \"colorscale\": [[0.0, \"#0d0887\"], [0.1111111111111111, \"#46039f\"], [0.2222222222222222, \"#7201a8\"], [0.3333333333333333, \"#9c179e\"], [0.4444444444444444, \"#bd3786\"], [0.5555555555555556, \"#d8576b\"], [0.6666666666666666, \"#ed7953\"], [0.7777777777777778, \"#fb9f3a\"], [0.8888888888888888, \"#fdca26\"], [1.0, \"#f0f921\"]], \"type\": \"surface\"}], \"table\": [{\"cells\": {\"fill\": {\"color\": \"#EBF0F8\"}, \"line\": {\"color\": \"white\"}}, \"header\": {\"fill\": {\"color\": \"#C8D4E3\"}, \"line\": {\"color\": \"white\"}}, \"type\": \"table\"}]}, \"layout\": {\"annotationdefaults\": {\"arrowcolor\": \"#2a3f5f\", \"arrowhead\": 0, \"arrowwidth\": 1}, \"autotypenumbers\": \"strict\", \"coloraxis\": {\"colorbar\": {\"outlinewidth\": 0, \"ticks\": \"\"}}, \"colorscale\": {\"diverging\": [[0, \"#8e0152\"], [0.1, \"#c51b7d\"], [0.2, \"#de77ae\"], [0.3, \"#f1b6da\"], [0.4, \"#fde0ef\"], [0.5, \"#f7f7f7\"], [0.6, \"#e6f5d0\"], [0.7, \"#b8e186\"], [0.8, \"#7fbc41\"], [0.9, \"#4d9221\"], [1, \"#276419\"]], \"sequential\": [[0.0, \"#0d0887\"], [0.1111111111111111, \"#46039f\"], [0.2222222222222222, \"#7201a8\"], [0.3333333333333333, \"#9c179e\"], [0.4444444444444444, \"#bd3786\"], [0.5555555555555556, \"#d8576b\"], [0.6666666666666666, \"#ed7953\"], [0.7777777777777778, \"#fb9f3a\"], [0.8888888888888888, \"#fdca26\"], [1.0, \"#f0f921\"]], \"sequentialminus\": [[0.0, \"#0d0887\"], [0.1111111111111111, \"#46039f\"], [0.2222222222222222, \"#7201a8\"], [0.3333333333333333, \"#9c179e\"], [0.4444444444444444, \"#bd3786\"], [0.5555555555555556, \"#d8576b\"], [0.6666666666666666, \"#ed7953\"], [0.7777777777777778, \"#fb9f3a\"], [0.8888888888888888, \"#fdca26\"], [1.0, \"#f0f921\"]]}, \"colorway\": [\"#636efa\", \"#EF553B\", \"#00cc96\", \"#ab63fa\", \"#FFA15A\", \"#19d3f3\", \"#FF6692\", \"#B6E880\", \"#FF97FF\", \"#FECB52\"], \"font\": {\"color\": \"#2a3f5f\"}, \"geo\": {\"bgcolor\": \"white\", \"lakecolor\": \"white\", \"landcolor\": \"#E5ECF6\", \"showlakes\": true, \"showland\": true, \"subunitcolor\": \"white\"}, \"hoverlabel\": {\"align\": \"left\"}, \"hovermode\": \"closest\", \"mapbox\": {\"style\": \"light\"}, \"paper_bgcolor\": \"white\", \"plot_bgcolor\": \"#E5ECF6\", \"polar\": {\"angularaxis\": {\"gridcolor\": \"white\", \"linecolor\": \"white\", \"ticks\": \"\"}, \"bgcolor\": \"#E5ECF6\", \"radialaxis\": {\"gridcolor\": \"white\", \"linecolor\": \"white\", \"ticks\": \"\"}}, \"scene\": {\"xaxis\": {\"backgroundcolor\": \"#E5ECF6\", \"gridcolor\": \"white\", \"gridwidth\": 2, \"linecolor\": \"white\", \"showbackground\": true, \"ticks\": \"\", \"zerolinecolor\": \"white\"}, \"yaxis\": {\"backgroundcolor\": \"#E5ECF6\", \"gridcolor\": \"white\", \"gridwidth\": 2, \"linecolor\": \"white\", \"showbackground\": true, \"ticks\": \"\", \"zerolinecolor\": \"white\"}, \"zaxis\": {\"backgroundcolor\": \"#E5ECF6\", \"gridcolor\": \"white\", \"gridwidth\": 2, \"linecolor\": \"white\", \"showbackground\": true, \"ticks\": \"\", \"zerolinecolor\": \"white\"}}, \"shapedefaults\": {\"line\": {\"color\": \"#2a3f5f\"}}, \"ternary\": {\"aaxis\": {\"gridcolor\": \"white\", \"linecolor\": \"white\", \"ticks\": \"\"}, \"baxis\": {\"gridcolor\": \"white\", \"linecolor\": \"white\", \"ticks\": \"\"}, \"bgcolor\": \"#E5ECF6\", \"caxis\": {\"gridcolor\": \"white\", \"linecolor\": \"white\", \"ticks\": \"\"}}, \"title\": {\"x\": 0.05}, \"xaxis\": {\"automargin\": true, \"gridcolor\": \"white\", \"linecolor\": \"white\", \"ticks\": \"\", \"title\": {\"standoff\": 15}, \"zerolinecolor\": \"white\", \"zerolinewidth\": 2}, \"yaxis\": {\"automargin\": true, \"gridcolor\": \"white\", \"linecolor\": \"white\", \"ticks\": \"\", \"title\": {\"standoff\": 15}, \"zerolinecolor\": \"white\", \"zerolinewidth\": 2}}}, \"title\": {\"font\": {\"color\": \"#4D5663\"}, \"text\": \"Stock-Wise CAGR performances\"}, \"xaxis\": {\"gridcolor\": \"#E1E5ED\", \"showgrid\": true, \"tickfont\": {\"color\": \"#4D5663\"}, \"title\": {\"font\": {\"color\": \"#4D5663\"}, \"text\": \"Stocks\"}, \"zerolinecolor\": \"#E1E5ED\"}, \"yaxis\": {\"gridcolor\": \"#E1E5ED\", \"showgrid\": true, \"tickfont\": {\"color\": \"#4D5663\"}, \"title\": {\"font\": {\"color\": \"#4D5663\"}, \"text\": \"CAGR\"}, \"zerolinecolor\": \"#E1E5ED\"}},                        {\"showLink\": true, \"linkText\": \"Export to plot.ly\", \"plotlyServerURL\": \"https://plot.ly\", \"responsive\": true}                    ).then(function(){\n",
       "                            \n",
       "var gd = document.getElementById('1a0e73bc-215e-4e5e-9307-790931096e32');\n",
       "var x = new MutationObserver(function (mutations, observer) {{\n",
       "        var display = window.getComputedStyle(gd).display;\n",
       "        if (!display || display === 'none') {{\n",
       "            console.log([gd, 'removed!']);\n",
       "            Plotly.purge(gd);\n",
       "            observer.disconnect();\n",
       "        }}\n",
       "}});\n",
       "\n",
       "// Listen for the removal of the full notebook cells\n",
       "var notebookContainer = gd.closest('#notebook-container');\n",
       "if (notebookContainer) {{\n",
       "    x.observe(notebookContainer, {childList: true});\n",
       "}}\n",
       "\n",
       "// Listen for the clearing of the current output cell\n",
       "var outputEl = gd.closest('.output');\n",
       "if (outputEl) {{\n",
       "    x.observe(outputEl, {childList: true});\n",
       "}}\n",
       "\n",
       "                        })                };                });            </script>        </div>"
      ]
     },
     "metadata": {},
     "output_type": "display_data"
    }
   ],
   "source": [
    "df = Stock_CAGR[['Nifty50 CAGR','Portfolio CAGR']].set_index(Stock_CAGR['Stocks'])\n",
    "\n",
    "df.iplot(kind='bar', xTitle='Stocks', yTitle='CAGR', title='Stock-Wise CAGR performances')"
   ]
  },
  {
   "cell_type": "markdown",
   "metadata": {},
   "source": [
    "Sectoral-Wise Weightage Bar Chart"
   ]
  },
  {
   "cell_type": "code",
   "execution_count": 10,
   "metadata": {},
   "outputs": [
    {
     "data": {
      "application/vnd.plotly.v1+json": {
       "config": {
        "linkText": "Export to plot.ly",
        "plotlyServerURL": "https://plot.ly",
        "showLink": true
       },
       "data": [
        {
         "marker": {
          "color": "rgba(255, 153, 51, 0.6)",
          "line": {
           "color": "rgba(255, 153, 51, 1.0)",
           "width": 1
          }
         },
         "name": "Nifty50 Weightage",
         "orientation": "v",
         "text": "",
         "type": "bar",
         "x": [
          "Banks",
          "Software",
          "Construction Project",
          "Petroleum Products",
          "Finance",
          "Telecom - Services",
          "Auto",
          "Pharmaceuticals",
          "Consumer Non Durables",
          "Cement",
          "Consumer Durables",
          "Retailing",
          "Pesticides",
          "Gas",
          "Healthcare Services",
          "Industrial Products",
          "Non - Ferrous Metals",
          "Ferrous Metals",
          "Power",
          "Transportation",
          "Oil",
          "Minerals/Mining"
         ],
         "y": [
          26.27,
          17.09,
          2.74,
          11.03,
          11.77,
          2.26,
          5.91,
          3.46,
          10.02,
          2.26,
          1.01,
          0,
          0.52,
          0.39,
          0,
          0,
          0.56,
          1.37,
          1.53,
          0.63,
          0.55,
          0.45
         ]
        },
        {
         "marker": {
          "color": "rgba(55, 128, 191, 0.6)",
          "line": {
           "color": "rgba(55, 128, 191, 1.0)",
           "width": 1
          }
         },
         "name": "Portfolio Weightage",
         "orientation": "v",
         "text": "",
         "type": "bar",
         "x": [
          "Banks",
          "Software",
          "Construction Project",
          "Petroleum Products",
          "Finance",
          "Telecom - Services",
          "Auto",
          "Pharmaceuticals",
          "Consumer Non Durables",
          "Cement",
          "Consumer Durables",
          "Retailing",
          "Pesticides",
          "Gas",
          "Healthcare Services",
          "Industrial Products",
          "Non - Ferrous Metals",
          "Ferrous Metals",
          "Power",
          "Transportation",
          "Oil",
          "Minerals/Mining"
         ],
         "y": [
          23.67,
          15.63,
          3.37,
          5.53,
          10.5,
          3.06,
          6.05,
          5.92,
          8.35,
          2.91,
          5.3,
          1.26,
          1.12,
          1.94,
          0.38,
          0.44,
          0.08,
          0,
          0,
          0,
          0,
          0
         ]
        }
       ],
       "layout": {
        "legend": {
         "bgcolor": "#F5F6F9",
         "font": {
          "color": "#4D5663"
         }
        },
        "paper_bgcolor": "#F5F6F9",
        "plot_bgcolor": "#F5F6F9",
        "template": {
         "data": {
          "bar": [
           {
            "error_x": {
             "color": "#2a3f5f"
            },
            "error_y": {
             "color": "#2a3f5f"
            },
            "marker": {
             "line": {
              "color": "#E5ECF6",
              "width": 0.5
             }
            },
            "type": "bar"
           }
          ],
          "barpolar": [
           {
            "marker": {
             "line": {
              "color": "#E5ECF6",
              "width": 0.5
             }
            },
            "type": "barpolar"
           }
          ],
          "carpet": [
           {
            "aaxis": {
             "endlinecolor": "#2a3f5f",
             "gridcolor": "white",
             "linecolor": "white",
             "minorgridcolor": "white",
             "startlinecolor": "#2a3f5f"
            },
            "baxis": {
             "endlinecolor": "#2a3f5f",
             "gridcolor": "white",
             "linecolor": "white",
             "minorgridcolor": "white",
             "startlinecolor": "#2a3f5f"
            },
            "type": "carpet"
           }
          ],
          "choropleth": [
           {
            "colorbar": {
             "outlinewidth": 0,
             "ticks": ""
            },
            "type": "choropleth"
           }
          ],
          "contour": [
           {
            "colorbar": {
             "outlinewidth": 0,
             "ticks": ""
            },
            "colorscale": [
             [
              0,
              "#0d0887"
             ],
             [
              0.1111111111111111,
              "#46039f"
             ],
             [
              0.2222222222222222,
              "#7201a8"
             ],
             [
              0.3333333333333333,
              "#9c179e"
             ],
             [
              0.4444444444444444,
              "#bd3786"
             ],
             [
              0.5555555555555556,
              "#d8576b"
             ],
             [
              0.6666666666666666,
              "#ed7953"
             ],
             [
              0.7777777777777778,
              "#fb9f3a"
             ],
             [
              0.8888888888888888,
              "#fdca26"
             ],
             [
              1,
              "#f0f921"
             ]
            ],
            "type": "contour"
           }
          ],
          "contourcarpet": [
           {
            "colorbar": {
             "outlinewidth": 0,
             "ticks": ""
            },
            "type": "contourcarpet"
           }
          ],
          "heatmap": [
           {
            "colorbar": {
             "outlinewidth": 0,
             "ticks": ""
            },
            "colorscale": [
             [
              0,
              "#0d0887"
             ],
             [
              0.1111111111111111,
              "#46039f"
             ],
             [
              0.2222222222222222,
              "#7201a8"
             ],
             [
              0.3333333333333333,
              "#9c179e"
             ],
             [
              0.4444444444444444,
              "#bd3786"
             ],
             [
              0.5555555555555556,
              "#d8576b"
             ],
             [
              0.6666666666666666,
              "#ed7953"
             ],
             [
              0.7777777777777778,
              "#fb9f3a"
             ],
             [
              0.8888888888888888,
              "#fdca26"
             ],
             [
              1,
              "#f0f921"
             ]
            ],
            "type": "heatmap"
           }
          ],
          "heatmapgl": [
           {
            "colorbar": {
             "outlinewidth": 0,
             "ticks": ""
            },
            "colorscale": [
             [
              0,
              "#0d0887"
             ],
             [
              0.1111111111111111,
              "#46039f"
             ],
             [
              0.2222222222222222,
              "#7201a8"
             ],
             [
              0.3333333333333333,
              "#9c179e"
             ],
             [
              0.4444444444444444,
              "#bd3786"
             ],
             [
              0.5555555555555556,
              "#d8576b"
             ],
             [
              0.6666666666666666,
              "#ed7953"
             ],
             [
              0.7777777777777778,
              "#fb9f3a"
             ],
             [
              0.8888888888888888,
              "#fdca26"
             ],
             [
              1,
              "#f0f921"
             ]
            ],
            "type": "heatmapgl"
           }
          ],
          "histogram": [
           {
            "marker": {
             "colorbar": {
              "outlinewidth": 0,
              "ticks": ""
             }
            },
            "type": "histogram"
           }
          ],
          "histogram2d": [
           {
            "colorbar": {
             "outlinewidth": 0,
             "ticks": ""
            },
            "colorscale": [
             [
              0,
              "#0d0887"
             ],
             [
              0.1111111111111111,
              "#46039f"
             ],
             [
              0.2222222222222222,
              "#7201a8"
             ],
             [
              0.3333333333333333,
              "#9c179e"
             ],
             [
              0.4444444444444444,
              "#bd3786"
             ],
             [
              0.5555555555555556,
              "#d8576b"
             ],
             [
              0.6666666666666666,
              "#ed7953"
             ],
             [
              0.7777777777777778,
              "#fb9f3a"
             ],
             [
              0.8888888888888888,
              "#fdca26"
             ],
             [
              1,
              "#f0f921"
             ]
            ],
            "type": "histogram2d"
           }
          ],
          "histogram2dcontour": [
           {
            "colorbar": {
             "outlinewidth": 0,
             "ticks": ""
            },
            "colorscale": [
             [
              0,
              "#0d0887"
             ],
             [
              0.1111111111111111,
              "#46039f"
             ],
             [
              0.2222222222222222,
              "#7201a8"
             ],
             [
              0.3333333333333333,
              "#9c179e"
             ],
             [
              0.4444444444444444,
              "#bd3786"
             ],
             [
              0.5555555555555556,
              "#d8576b"
             ],
             [
              0.6666666666666666,
              "#ed7953"
             ],
             [
              0.7777777777777778,
              "#fb9f3a"
             ],
             [
              0.8888888888888888,
              "#fdca26"
             ],
             [
              1,
              "#f0f921"
             ]
            ],
            "type": "histogram2dcontour"
           }
          ],
          "mesh3d": [
           {
            "colorbar": {
             "outlinewidth": 0,
             "ticks": ""
            },
            "type": "mesh3d"
           }
          ],
          "parcoords": [
           {
            "line": {
             "colorbar": {
              "outlinewidth": 0,
              "ticks": ""
             }
            },
            "type": "parcoords"
           }
          ],
          "pie": [
           {
            "automargin": true,
            "type": "pie"
           }
          ],
          "scatter": [
           {
            "marker": {
             "colorbar": {
              "outlinewidth": 0,
              "ticks": ""
             }
            },
            "type": "scatter"
           }
          ],
          "scatter3d": [
           {
            "line": {
             "colorbar": {
              "outlinewidth": 0,
              "ticks": ""
             }
            },
            "marker": {
             "colorbar": {
              "outlinewidth": 0,
              "ticks": ""
             }
            },
            "type": "scatter3d"
           }
          ],
          "scattercarpet": [
           {
            "marker": {
             "colorbar": {
              "outlinewidth": 0,
              "ticks": ""
             }
            },
            "type": "scattercarpet"
           }
          ],
          "scattergeo": [
           {
            "marker": {
             "colorbar": {
              "outlinewidth": 0,
              "ticks": ""
             }
            },
            "type": "scattergeo"
           }
          ],
          "scattergl": [
           {
            "marker": {
             "colorbar": {
              "outlinewidth": 0,
              "ticks": ""
             }
            },
            "type": "scattergl"
           }
          ],
          "scattermapbox": [
           {
            "marker": {
             "colorbar": {
              "outlinewidth": 0,
              "ticks": ""
             }
            },
            "type": "scattermapbox"
           }
          ],
          "scatterpolar": [
           {
            "marker": {
             "colorbar": {
              "outlinewidth": 0,
              "ticks": ""
             }
            },
            "type": "scatterpolar"
           }
          ],
          "scatterpolargl": [
           {
            "marker": {
             "colorbar": {
              "outlinewidth": 0,
              "ticks": ""
             }
            },
            "type": "scatterpolargl"
           }
          ],
          "scatterternary": [
           {
            "marker": {
             "colorbar": {
              "outlinewidth": 0,
              "ticks": ""
             }
            },
            "type": "scatterternary"
           }
          ],
          "surface": [
           {
            "colorbar": {
             "outlinewidth": 0,
             "ticks": ""
            },
            "colorscale": [
             [
              0,
              "#0d0887"
             ],
             [
              0.1111111111111111,
              "#46039f"
             ],
             [
              0.2222222222222222,
              "#7201a8"
             ],
             [
              0.3333333333333333,
              "#9c179e"
             ],
             [
              0.4444444444444444,
              "#bd3786"
             ],
             [
              0.5555555555555556,
              "#d8576b"
             ],
             [
              0.6666666666666666,
              "#ed7953"
             ],
             [
              0.7777777777777778,
              "#fb9f3a"
             ],
             [
              0.8888888888888888,
              "#fdca26"
             ],
             [
              1,
              "#f0f921"
             ]
            ],
            "type": "surface"
           }
          ],
          "table": [
           {
            "cells": {
             "fill": {
              "color": "#EBF0F8"
             },
             "line": {
              "color": "white"
             }
            },
            "header": {
             "fill": {
              "color": "#C8D4E3"
             },
             "line": {
              "color": "white"
             }
            },
            "type": "table"
           }
          ]
         },
         "layout": {
          "annotationdefaults": {
           "arrowcolor": "#2a3f5f",
           "arrowhead": 0,
           "arrowwidth": 1
          },
          "autotypenumbers": "strict",
          "coloraxis": {
           "colorbar": {
            "outlinewidth": 0,
            "ticks": ""
           }
          },
          "colorscale": {
           "diverging": [
            [
             0,
             "#8e0152"
            ],
            [
             0.1,
             "#c51b7d"
            ],
            [
             0.2,
             "#de77ae"
            ],
            [
             0.3,
             "#f1b6da"
            ],
            [
             0.4,
             "#fde0ef"
            ],
            [
             0.5,
             "#f7f7f7"
            ],
            [
             0.6,
             "#e6f5d0"
            ],
            [
             0.7,
             "#b8e186"
            ],
            [
             0.8,
             "#7fbc41"
            ],
            [
             0.9,
             "#4d9221"
            ],
            [
             1,
             "#276419"
            ]
           ],
           "sequential": [
            [
             0,
             "#0d0887"
            ],
            [
             0.1111111111111111,
             "#46039f"
            ],
            [
             0.2222222222222222,
             "#7201a8"
            ],
            [
             0.3333333333333333,
             "#9c179e"
            ],
            [
             0.4444444444444444,
             "#bd3786"
            ],
            [
             0.5555555555555556,
             "#d8576b"
            ],
            [
             0.6666666666666666,
             "#ed7953"
            ],
            [
             0.7777777777777778,
             "#fb9f3a"
            ],
            [
             0.8888888888888888,
             "#fdca26"
            ],
            [
             1,
             "#f0f921"
            ]
           ],
           "sequentialminus": [
            [
             0,
             "#0d0887"
            ],
            [
             0.1111111111111111,
             "#46039f"
            ],
            [
             0.2222222222222222,
             "#7201a8"
            ],
            [
             0.3333333333333333,
             "#9c179e"
            ],
            [
             0.4444444444444444,
             "#bd3786"
            ],
            [
             0.5555555555555556,
             "#d8576b"
            ],
            [
             0.6666666666666666,
             "#ed7953"
            ],
            [
             0.7777777777777778,
             "#fb9f3a"
            ],
            [
             0.8888888888888888,
             "#fdca26"
            ],
            [
             1,
             "#f0f921"
            ]
           ]
          },
          "colorway": [
           "#636efa",
           "#EF553B",
           "#00cc96",
           "#ab63fa",
           "#FFA15A",
           "#19d3f3",
           "#FF6692",
           "#B6E880",
           "#FF97FF",
           "#FECB52"
          ],
          "font": {
           "color": "#2a3f5f"
          },
          "geo": {
           "bgcolor": "white",
           "lakecolor": "white",
           "landcolor": "#E5ECF6",
           "showlakes": true,
           "showland": true,
           "subunitcolor": "white"
          },
          "hoverlabel": {
           "align": "left"
          },
          "hovermode": "closest",
          "mapbox": {
           "style": "light"
          },
          "paper_bgcolor": "white",
          "plot_bgcolor": "#E5ECF6",
          "polar": {
           "angularaxis": {
            "gridcolor": "white",
            "linecolor": "white",
            "ticks": ""
           },
           "bgcolor": "#E5ECF6",
           "radialaxis": {
            "gridcolor": "white",
            "linecolor": "white",
            "ticks": ""
           }
          },
          "scene": {
           "xaxis": {
            "backgroundcolor": "#E5ECF6",
            "gridcolor": "white",
            "gridwidth": 2,
            "linecolor": "white",
            "showbackground": true,
            "ticks": "",
            "zerolinecolor": "white"
           },
           "yaxis": {
            "backgroundcolor": "#E5ECF6",
            "gridcolor": "white",
            "gridwidth": 2,
            "linecolor": "white",
            "showbackground": true,
            "ticks": "",
            "zerolinecolor": "white"
           },
           "zaxis": {
            "backgroundcolor": "#E5ECF6",
            "gridcolor": "white",
            "gridwidth": 2,
            "linecolor": "white",
            "showbackground": true,
            "ticks": "",
            "zerolinecolor": "white"
           }
          },
          "shapedefaults": {
           "line": {
            "color": "#2a3f5f"
           }
          },
          "ternary": {
           "aaxis": {
            "gridcolor": "white",
            "linecolor": "white",
            "ticks": ""
           },
           "baxis": {
            "gridcolor": "white",
            "linecolor": "white",
            "ticks": ""
           },
           "bgcolor": "#E5ECF6",
           "caxis": {
            "gridcolor": "white",
            "linecolor": "white",
            "ticks": ""
           }
          },
          "title": {
           "x": 0.05
          },
          "xaxis": {
           "automargin": true,
           "gridcolor": "white",
           "linecolor": "white",
           "ticks": "",
           "title": {
            "standoff": 15
           },
           "zerolinecolor": "white",
           "zerolinewidth": 2
          },
          "yaxis": {
           "automargin": true,
           "gridcolor": "white",
           "linecolor": "white",
           "ticks": "",
           "title": {
            "standoff": 15
           },
           "zerolinecolor": "white",
           "zerolinewidth": 2
          }
         }
        },
        "title": {
         "font": {
          "color": "#4D5663"
         },
         "text": "Sector-Wise Weightage"
        },
        "xaxis": {
         "gridcolor": "#E1E5ED",
         "showgrid": true,
         "tickfont": {
          "color": "#4D5663"
         },
         "title": {
          "font": {
           "color": "#4D5663"
          },
          "text": "Sectors"
         },
         "zerolinecolor": "#E1E5ED"
        },
        "yaxis": {
         "gridcolor": "#E1E5ED",
         "showgrid": true,
         "tickfont": {
          "color": "#4D5663"
         },
         "title": {
          "font": {
           "color": "#4D5663"
          },
          "text": "Weightage"
         },
         "zerolinecolor": "#E1E5ED"
        }
       }
      },
      "text/html": [
       "<div>                            <div id=\"43fee042-197a-4609-bdec-f9b37f3a5104\" class=\"plotly-graph-div\" style=\"height:525px; width:100%;\"></div>            <script type=\"text/javascript\">                require([\"plotly\"], function(Plotly) {                    window.PLOTLYENV=window.PLOTLYENV || {};\n",
       "                    window.PLOTLYENV.BASE_URL='https://plot.ly';                                    if (document.getElementById(\"43fee042-197a-4609-bdec-f9b37f3a5104\")) {                    Plotly.newPlot(                        \"43fee042-197a-4609-bdec-f9b37f3a5104\",                        [{\"marker\": {\"color\": \"rgba(255, 153, 51, 0.6)\", \"line\": {\"color\": \"rgba(255, 153, 51, 1.0)\", \"width\": 1}}, \"name\": \"Nifty50 Weightage\", \"orientation\": \"v\", \"text\": \"\", \"type\": \"bar\", \"x\": [\"Banks\", \"Software\", \"Construction Project\", \"Petroleum Products\", \"Finance\", \"Telecom - Services\", \"Auto\", \"Pharmaceuticals\", \"Consumer Non Durables\", \"Cement\", \"Consumer Durables\", \"Retailing\", \"Pesticides\", \"Gas\", \"Healthcare Services\", \"Industrial Products\", \"Non - Ferrous Metals\", \"Ferrous Metals\", \"Power\", \"Transportation\", \"Oil\", \"Minerals/Mining\"], \"y\": [26.27, 17.09, 2.74, 11.03, 11.77, 2.26, 5.91, 3.46, 10.02, 2.26, 1.01, 0.0, 0.52, 0.39, 0.0, 0.0, 0.56, 1.37, 1.53, 0.63, 0.55, 0.45]}, {\"marker\": {\"color\": \"rgba(55, 128, 191, 0.6)\", \"line\": {\"color\": \"rgba(55, 128, 191, 1.0)\", \"width\": 1}}, \"name\": \"Portfolio Weightage\", \"orientation\": \"v\", \"text\": \"\", \"type\": \"bar\", \"x\": [\"Banks\", \"Software\", \"Construction Project\", \"Petroleum Products\", \"Finance\", \"Telecom - Services\", \"Auto\", \"Pharmaceuticals\", \"Consumer Non Durables\", \"Cement\", \"Consumer Durables\", \"Retailing\", \"Pesticides\", \"Gas\", \"Healthcare Services\", \"Industrial Products\", \"Non - Ferrous Metals\", \"Ferrous Metals\", \"Power\", \"Transportation\", \"Oil\", \"Minerals/Mining\"], \"y\": [23.67, 15.63, 3.37, 5.53, 10.5, 3.06, 6.05, 5.92, 8.35, 2.91, 5.3, 1.26, 1.12, 1.94, 0.38, 0.44, 0.08, 0.0, 0.0, 0.0, 0.0, 0.0]}],                        {\"legend\": {\"bgcolor\": \"#F5F6F9\", \"font\": {\"color\": \"#4D5663\"}}, \"paper_bgcolor\": \"#F5F6F9\", \"plot_bgcolor\": \"#F5F6F9\", \"template\": {\"data\": {\"bar\": [{\"error_x\": {\"color\": \"#2a3f5f\"}, \"error_y\": {\"color\": \"#2a3f5f\"}, \"marker\": {\"line\": {\"color\": \"#E5ECF6\", \"width\": 0.5}}, \"type\": \"bar\"}], \"barpolar\": [{\"marker\": {\"line\": {\"color\": \"#E5ECF6\", \"width\": 0.5}}, \"type\": \"barpolar\"}], \"carpet\": [{\"aaxis\": {\"endlinecolor\": \"#2a3f5f\", \"gridcolor\": \"white\", \"linecolor\": \"white\", \"minorgridcolor\": \"white\", \"startlinecolor\": \"#2a3f5f\"}, \"baxis\": {\"endlinecolor\": \"#2a3f5f\", \"gridcolor\": \"white\", \"linecolor\": \"white\", \"minorgridcolor\": \"white\", \"startlinecolor\": \"#2a3f5f\"}, \"type\": \"carpet\"}], \"choropleth\": [{\"colorbar\": {\"outlinewidth\": 0, \"ticks\": \"\"}, \"type\": \"choropleth\"}], \"contour\": [{\"colorbar\": {\"outlinewidth\": 0, \"ticks\": \"\"}, \"colorscale\": [[0.0, \"#0d0887\"], [0.1111111111111111, \"#46039f\"], [0.2222222222222222, \"#7201a8\"], [0.3333333333333333, \"#9c179e\"], [0.4444444444444444, \"#bd3786\"], [0.5555555555555556, \"#d8576b\"], [0.6666666666666666, \"#ed7953\"], [0.7777777777777778, \"#fb9f3a\"], [0.8888888888888888, \"#fdca26\"], [1.0, \"#f0f921\"]], \"type\": \"contour\"}], \"contourcarpet\": [{\"colorbar\": {\"outlinewidth\": 0, \"ticks\": \"\"}, \"type\": \"contourcarpet\"}], \"heatmap\": [{\"colorbar\": {\"outlinewidth\": 0, \"ticks\": \"\"}, \"colorscale\": [[0.0, \"#0d0887\"], [0.1111111111111111, \"#46039f\"], [0.2222222222222222, \"#7201a8\"], [0.3333333333333333, \"#9c179e\"], [0.4444444444444444, \"#bd3786\"], [0.5555555555555556, \"#d8576b\"], [0.6666666666666666, \"#ed7953\"], [0.7777777777777778, \"#fb9f3a\"], [0.8888888888888888, \"#fdca26\"], [1.0, \"#f0f921\"]], \"type\": \"heatmap\"}], \"heatmapgl\": [{\"colorbar\": {\"outlinewidth\": 0, \"ticks\": \"\"}, \"colorscale\": [[0.0, \"#0d0887\"], [0.1111111111111111, \"#46039f\"], [0.2222222222222222, \"#7201a8\"], [0.3333333333333333, \"#9c179e\"], [0.4444444444444444, \"#bd3786\"], [0.5555555555555556, \"#d8576b\"], [0.6666666666666666, \"#ed7953\"], [0.7777777777777778, \"#fb9f3a\"], [0.8888888888888888, \"#fdca26\"], [1.0, \"#f0f921\"]], \"type\": \"heatmapgl\"}], \"histogram\": [{\"marker\": {\"colorbar\": {\"outlinewidth\": 0, \"ticks\": \"\"}}, \"type\": \"histogram\"}], \"histogram2d\": [{\"colorbar\": {\"outlinewidth\": 0, \"ticks\": \"\"}, \"colorscale\": [[0.0, \"#0d0887\"], [0.1111111111111111, \"#46039f\"], [0.2222222222222222, \"#7201a8\"], [0.3333333333333333, \"#9c179e\"], [0.4444444444444444, \"#bd3786\"], [0.5555555555555556, \"#d8576b\"], [0.6666666666666666, \"#ed7953\"], [0.7777777777777778, \"#fb9f3a\"], [0.8888888888888888, \"#fdca26\"], [1.0, \"#f0f921\"]], \"type\": \"histogram2d\"}], \"histogram2dcontour\": [{\"colorbar\": {\"outlinewidth\": 0, \"ticks\": \"\"}, \"colorscale\": [[0.0, \"#0d0887\"], [0.1111111111111111, \"#46039f\"], [0.2222222222222222, \"#7201a8\"], [0.3333333333333333, \"#9c179e\"], [0.4444444444444444, \"#bd3786\"], [0.5555555555555556, \"#d8576b\"], [0.6666666666666666, \"#ed7953\"], [0.7777777777777778, \"#fb9f3a\"], [0.8888888888888888, \"#fdca26\"], [1.0, \"#f0f921\"]], \"type\": \"histogram2dcontour\"}], \"mesh3d\": [{\"colorbar\": {\"outlinewidth\": 0, \"ticks\": \"\"}, \"type\": \"mesh3d\"}], \"parcoords\": [{\"line\": {\"colorbar\": {\"outlinewidth\": 0, \"ticks\": \"\"}}, \"type\": \"parcoords\"}], \"pie\": [{\"automargin\": true, \"type\": \"pie\"}], \"scatter\": [{\"marker\": {\"colorbar\": {\"outlinewidth\": 0, \"ticks\": \"\"}}, \"type\": \"scatter\"}], \"scatter3d\": [{\"line\": {\"colorbar\": {\"outlinewidth\": 0, \"ticks\": \"\"}}, \"marker\": {\"colorbar\": {\"outlinewidth\": 0, \"ticks\": \"\"}}, \"type\": \"scatter3d\"}], \"scattercarpet\": [{\"marker\": {\"colorbar\": {\"outlinewidth\": 0, \"ticks\": \"\"}}, \"type\": \"scattercarpet\"}], \"scattergeo\": [{\"marker\": {\"colorbar\": {\"outlinewidth\": 0, \"ticks\": \"\"}}, \"type\": \"scattergeo\"}], \"scattergl\": [{\"marker\": {\"colorbar\": {\"outlinewidth\": 0, \"ticks\": \"\"}}, \"type\": \"scattergl\"}], \"scattermapbox\": [{\"marker\": {\"colorbar\": {\"outlinewidth\": 0, \"ticks\": \"\"}}, \"type\": \"scattermapbox\"}], \"scatterpolar\": [{\"marker\": {\"colorbar\": {\"outlinewidth\": 0, \"ticks\": \"\"}}, \"type\": \"scatterpolar\"}], \"scatterpolargl\": [{\"marker\": {\"colorbar\": {\"outlinewidth\": 0, \"ticks\": \"\"}}, \"type\": \"scatterpolargl\"}], \"scatterternary\": [{\"marker\": {\"colorbar\": {\"outlinewidth\": 0, \"ticks\": \"\"}}, \"type\": \"scatterternary\"}], \"surface\": [{\"colorbar\": {\"outlinewidth\": 0, \"ticks\": \"\"}, \"colorscale\": [[0.0, \"#0d0887\"], [0.1111111111111111, \"#46039f\"], [0.2222222222222222, \"#7201a8\"], [0.3333333333333333, \"#9c179e\"], [0.4444444444444444, \"#bd3786\"], [0.5555555555555556, \"#d8576b\"], [0.6666666666666666, \"#ed7953\"], [0.7777777777777778, \"#fb9f3a\"], [0.8888888888888888, \"#fdca26\"], [1.0, \"#f0f921\"]], \"type\": \"surface\"}], \"table\": [{\"cells\": {\"fill\": {\"color\": \"#EBF0F8\"}, \"line\": {\"color\": \"white\"}}, \"header\": {\"fill\": {\"color\": \"#C8D4E3\"}, \"line\": {\"color\": \"white\"}}, \"type\": \"table\"}]}, \"layout\": {\"annotationdefaults\": {\"arrowcolor\": \"#2a3f5f\", \"arrowhead\": 0, \"arrowwidth\": 1}, \"autotypenumbers\": \"strict\", \"coloraxis\": {\"colorbar\": {\"outlinewidth\": 0, \"ticks\": \"\"}}, \"colorscale\": {\"diverging\": [[0, \"#8e0152\"], [0.1, \"#c51b7d\"], [0.2, \"#de77ae\"], [0.3, \"#f1b6da\"], [0.4, \"#fde0ef\"], [0.5, \"#f7f7f7\"], [0.6, \"#e6f5d0\"], [0.7, \"#b8e186\"], [0.8, \"#7fbc41\"], [0.9, \"#4d9221\"], [1, \"#276419\"]], \"sequential\": [[0.0, \"#0d0887\"], [0.1111111111111111, \"#46039f\"], [0.2222222222222222, \"#7201a8\"], [0.3333333333333333, \"#9c179e\"], [0.4444444444444444, \"#bd3786\"], [0.5555555555555556, \"#d8576b\"], [0.6666666666666666, \"#ed7953\"], [0.7777777777777778, \"#fb9f3a\"], [0.8888888888888888, \"#fdca26\"], [1.0, \"#f0f921\"]], \"sequentialminus\": [[0.0, \"#0d0887\"], [0.1111111111111111, \"#46039f\"], [0.2222222222222222, \"#7201a8\"], [0.3333333333333333, \"#9c179e\"], [0.4444444444444444, \"#bd3786\"], [0.5555555555555556, \"#d8576b\"], [0.6666666666666666, \"#ed7953\"], [0.7777777777777778, \"#fb9f3a\"], [0.8888888888888888, \"#fdca26\"], [1.0, \"#f0f921\"]]}, \"colorway\": [\"#636efa\", \"#EF553B\", \"#00cc96\", \"#ab63fa\", \"#FFA15A\", \"#19d3f3\", \"#FF6692\", \"#B6E880\", \"#FF97FF\", \"#FECB52\"], \"font\": {\"color\": \"#2a3f5f\"}, \"geo\": {\"bgcolor\": \"white\", \"lakecolor\": \"white\", \"landcolor\": \"#E5ECF6\", \"showlakes\": true, \"showland\": true, \"subunitcolor\": \"white\"}, \"hoverlabel\": {\"align\": \"left\"}, \"hovermode\": \"closest\", \"mapbox\": {\"style\": \"light\"}, \"paper_bgcolor\": \"white\", \"plot_bgcolor\": \"#E5ECF6\", \"polar\": {\"angularaxis\": {\"gridcolor\": \"white\", \"linecolor\": \"white\", \"ticks\": \"\"}, \"bgcolor\": \"#E5ECF6\", \"radialaxis\": {\"gridcolor\": \"white\", \"linecolor\": \"white\", \"ticks\": \"\"}}, \"scene\": {\"xaxis\": {\"backgroundcolor\": \"#E5ECF6\", \"gridcolor\": \"white\", \"gridwidth\": 2, \"linecolor\": \"white\", \"showbackground\": true, \"ticks\": \"\", \"zerolinecolor\": \"white\"}, \"yaxis\": {\"backgroundcolor\": \"#E5ECF6\", \"gridcolor\": \"white\", \"gridwidth\": 2, \"linecolor\": \"white\", \"showbackground\": true, \"ticks\": \"\", \"zerolinecolor\": \"white\"}, \"zaxis\": {\"backgroundcolor\": \"#E5ECF6\", \"gridcolor\": \"white\", \"gridwidth\": 2, \"linecolor\": \"white\", \"showbackground\": true, \"ticks\": \"\", \"zerolinecolor\": \"white\"}}, \"shapedefaults\": {\"line\": {\"color\": \"#2a3f5f\"}}, \"ternary\": {\"aaxis\": {\"gridcolor\": \"white\", \"linecolor\": \"white\", \"ticks\": \"\"}, \"baxis\": {\"gridcolor\": \"white\", \"linecolor\": \"white\", \"ticks\": \"\"}, \"bgcolor\": \"#E5ECF6\", \"caxis\": {\"gridcolor\": \"white\", \"linecolor\": \"white\", \"ticks\": \"\"}}, \"title\": {\"x\": 0.05}, \"xaxis\": {\"automargin\": true, \"gridcolor\": \"white\", \"linecolor\": \"white\", \"ticks\": \"\", \"title\": {\"standoff\": 15}, \"zerolinecolor\": \"white\", \"zerolinewidth\": 2}, \"yaxis\": {\"automargin\": true, \"gridcolor\": \"white\", \"linecolor\": \"white\", \"ticks\": \"\", \"title\": {\"standoff\": 15}, \"zerolinecolor\": \"white\", \"zerolinewidth\": 2}}}, \"title\": {\"font\": {\"color\": \"#4D5663\"}, \"text\": \"Sector-Wise Weightage\"}, \"xaxis\": {\"gridcolor\": \"#E1E5ED\", \"showgrid\": true, \"tickfont\": {\"color\": \"#4D5663\"}, \"title\": {\"font\": {\"color\": \"#4D5663\"}, \"text\": \"Sectors\"}, \"zerolinecolor\": \"#E1E5ED\"}, \"yaxis\": {\"gridcolor\": \"#E1E5ED\", \"showgrid\": true, \"tickfont\": {\"color\": \"#4D5663\"}, \"title\": {\"font\": {\"color\": \"#4D5663\"}, \"text\": \"Weightage\"}, \"zerolinecolor\": \"#E1E5ED\"}},                        {\"showLink\": true, \"linkText\": \"Export to plot.ly\", \"plotlyServerURL\": \"https://plot.ly\", \"responsive\": true}                    ).then(function(){\n",
       "                            \n",
       "var gd = document.getElementById('43fee042-197a-4609-bdec-f9b37f3a5104');\n",
       "var x = new MutationObserver(function (mutations, observer) {{\n",
       "        var display = window.getComputedStyle(gd).display;\n",
       "        if (!display || display === 'none') {{\n",
       "            console.log([gd, 'removed!']);\n",
       "            Plotly.purge(gd);\n",
       "            observer.disconnect();\n",
       "        }}\n",
       "}});\n",
       "\n",
       "// Listen for the removal of the full notebook cells\n",
       "var notebookContainer = gd.closest('#notebook-container');\n",
       "if (notebookContainer) {{\n",
       "    x.observe(notebookContainer, {childList: true});\n",
       "}}\n",
       "\n",
       "// Listen for the clearing of the current output cell\n",
       "var outputEl = gd.closest('.output');\n",
       "if (outputEl) {{\n",
       "    x.observe(outputEl, {childList: true});\n",
       "}}\n",
       "\n",
       "                        })                };                });            </script>        </div>"
      ]
     },
     "metadata": {},
     "output_type": "display_data"
    }
   ],
   "source": [
    "df = Sectoral_CAGR[['Nifty50 Weightage', 'Portfolio Weightage']].set_index(Sectoral_CAGR['Sectors'])\n",
    "\n",
    "df.iplot(kind='bar', xTitle='Sectors', yTitle='Weightage', title='Sector-Wise Weightage')"
   ]
  },
  {
   "cell_type": "markdown",
   "metadata": {},
   "source": [
    "Sectoral-Wise CAGR Performance Bar Chart"
   ]
  },
  {
   "cell_type": "code",
   "execution_count": 11,
   "metadata": {
    "scrolled": false
   },
   "outputs": [
    {
     "data": {
      "application/vnd.plotly.v1+json": {
       "config": {
        "linkText": "Export to plot.ly",
        "plotlyServerURL": "https://plot.ly",
        "showLink": true
       },
       "data": [
        {
         "marker": {
          "color": "rgba(255, 153, 51, 0.6)",
          "line": {
           "color": "rgba(255, 153, 51, 1.0)",
           "width": 1
          }
         },
         "name": "Nifty50 CAGR",
         "orientation": "v",
         "text": "",
         "type": "bar",
         "x": [
          "Banks",
          "Software",
          "Construction Project",
          "Petroleum Products",
          "Finance",
          "Telecom - Services",
          "Auto",
          "Pharmaceuticals",
          "Consumer Non Durables",
          "Cement",
          "Consumer Durables",
          "Retailing",
          "Pesticides",
          "Gas",
          "Healthcare Services",
          "Industrial Products",
          "Non - Ferrous Metals",
          "Ferrous Metals",
          "Power",
          "Transportation",
          "Oil",
          "Minerals/Mining"
         ],
         "y": [
          0.06857239999999999,
          0.1040733,
          0.007534999999999999,
          0.06210840000000001,
          0.0253414,
          0.0025312,
          0.035836599999999996,
          0.0209351,
          0.008923200000000001,
          0.0115792,
          0.001515,
          0,
          0.0007124,
          0.0017978999999999998,
          0,
          0,
          0.0067256,
          0.011319200000000001,
          0.0014376,
          0.006476399999999999,
          0.0015125,
          -0.000558
         ]
        },
        {
         "marker": {
          "color": "rgba(55, 128, 191, 0.6)",
          "line": {
           "color": "rgba(55, 128, 191, 1.0)",
           "width": 1
          }
         },
         "name": "Portfolio CAGR",
         "orientation": "v",
         "text": "",
         "type": "bar",
         "x": [
          "Banks",
          "Software",
          "Construction Project",
          "Petroleum Products",
          "Finance",
          "Telecom - Services",
          "Auto",
          "Pharmaceuticals",
          "Consumer Non Durables",
          "Cement",
          "Consumer Durables",
          "Retailing",
          "Pesticides",
          "Gas",
          "Healthcare Services",
          "Industrial Products",
          "Non - Ferrous Metals",
          "Ferrous Metals",
          "Power",
          "Transportation",
          "Oil",
          "Minerals/Mining"
         ],
         "y": [
          0.0645101,
          0.099994,
          0.0092675,
          0.033843599999999995,
          0.027872300000000003,
          0.0034272,
          0.025001699999999998,
          0.0317384,
          0.0169879,
          0.011227500000000001,
          0.0171068,
          0.0048258,
          0.0048272,
          0.008590200000000001,
          0.001425,
          0.0025960000000000002,
          0.0009607999999999998,
          0,
          0,
          0,
          0,
          0
         ]
        }
       ],
       "layout": {
        "legend": {
         "bgcolor": "#F5F6F9",
         "font": {
          "color": "#4D5663"
         }
        },
        "paper_bgcolor": "#F5F6F9",
        "plot_bgcolor": "#F5F6F9",
        "template": {
         "data": {
          "bar": [
           {
            "error_x": {
             "color": "#2a3f5f"
            },
            "error_y": {
             "color": "#2a3f5f"
            },
            "marker": {
             "line": {
              "color": "#E5ECF6",
              "width": 0.5
             }
            },
            "type": "bar"
           }
          ],
          "barpolar": [
           {
            "marker": {
             "line": {
              "color": "#E5ECF6",
              "width": 0.5
             }
            },
            "type": "barpolar"
           }
          ],
          "carpet": [
           {
            "aaxis": {
             "endlinecolor": "#2a3f5f",
             "gridcolor": "white",
             "linecolor": "white",
             "minorgridcolor": "white",
             "startlinecolor": "#2a3f5f"
            },
            "baxis": {
             "endlinecolor": "#2a3f5f",
             "gridcolor": "white",
             "linecolor": "white",
             "minorgridcolor": "white",
             "startlinecolor": "#2a3f5f"
            },
            "type": "carpet"
           }
          ],
          "choropleth": [
           {
            "colorbar": {
             "outlinewidth": 0,
             "ticks": ""
            },
            "type": "choropleth"
           }
          ],
          "contour": [
           {
            "colorbar": {
             "outlinewidth": 0,
             "ticks": ""
            },
            "colorscale": [
             [
              0,
              "#0d0887"
             ],
             [
              0.1111111111111111,
              "#46039f"
             ],
             [
              0.2222222222222222,
              "#7201a8"
             ],
             [
              0.3333333333333333,
              "#9c179e"
             ],
             [
              0.4444444444444444,
              "#bd3786"
             ],
             [
              0.5555555555555556,
              "#d8576b"
             ],
             [
              0.6666666666666666,
              "#ed7953"
             ],
             [
              0.7777777777777778,
              "#fb9f3a"
             ],
             [
              0.8888888888888888,
              "#fdca26"
             ],
             [
              1,
              "#f0f921"
             ]
            ],
            "type": "contour"
           }
          ],
          "contourcarpet": [
           {
            "colorbar": {
             "outlinewidth": 0,
             "ticks": ""
            },
            "type": "contourcarpet"
           }
          ],
          "heatmap": [
           {
            "colorbar": {
             "outlinewidth": 0,
             "ticks": ""
            },
            "colorscale": [
             [
              0,
              "#0d0887"
             ],
             [
              0.1111111111111111,
              "#46039f"
             ],
             [
              0.2222222222222222,
              "#7201a8"
             ],
             [
              0.3333333333333333,
              "#9c179e"
             ],
             [
              0.4444444444444444,
              "#bd3786"
             ],
             [
              0.5555555555555556,
              "#d8576b"
             ],
             [
              0.6666666666666666,
              "#ed7953"
             ],
             [
              0.7777777777777778,
              "#fb9f3a"
             ],
             [
              0.8888888888888888,
              "#fdca26"
             ],
             [
              1,
              "#f0f921"
             ]
            ],
            "type": "heatmap"
           }
          ],
          "heatmapgl": [
           {
            "colorbar": {
             "outlinewidth": 0,
             "ticks": ""
            },
            "colorscale": [
             [
              0,
              "#0d0887"
             ],
             [
              0.1111111111111111,
              "#46039f"
             ],
             [
              0.2222222222222222,
              "#7201a8"
             ],
             [
              0.3333333333333333,
              "#9c179e"
             ],
             [
              0.4444444444444444,
              "#bd3786"
             ],
             [
              0.5555555555555556,
              "#d8576b"
             ],
             [
              0.6666666666666666,
              "#ed7953"
             ],
             [
              0.7777777777777778,
              "#fb9f3a"
             ],
             [
              0.8888888888888888,
              "#fdca26"
             ],
             [
              1,
              "#f0f921"
             ]
            ],
            "type": "heatmapgl"
           }
          ],
          "histogram": [
           {
            "marker": {
             "colorbar": {
              "outlinewidth": 0,
              "ticks": ""
             }
            },
            "type": "histogram"
           }
          ],
          "histogram2d": [
           {
            "colorbar": {
             "outlinewidth": 0,
             "ticks": ""
            },
            "colorscale": [
             [
              0,
              "#0d0887"
             ],
             [
              0.1111111111111111,
              "#46039f"
             ],
             [
              0.2222222222222222,
              "#7201a8"
             ],
             [
              0.3333333333333333,
              "#9c179e"
             ],
             [
              0.4444444444444444,
              "#bd3786"
             ],
             [
              0.5555555555555556,
              "#d8576b"
             ],
             [
              0.6666666666666666,
              "#ed7953"
             ],
             [
              0.7777777777777778,
              "#fb9f3a"
             ],
             [
              0.8888888888888888,
              "#fdca26"
             ],
             [
              1,
              "#f0f921"
             ]
            ],
            "type": "histogram2d"
           }
          ],
          "histogram2dcontour": [
           {
            "colorbar": {
             "outlinewidth": 0,
             "ticks": ""
            },
            "colorscale": [
             [
              0,
              "#0d0887"
             ],
             [
              0.1111111111111111,
              "#46039f"
             ],
             [
              0.2222222222222222,
              "#7201a8"
             ],
             [
              0.3333333333333333,
              "#9c179e"
             ],
             [
              0.4444444444444444,
              "#bd3786"
             ],
             [
              0.5555555555555556,
              "#d8576b"
             ],
             [
              0.6666666666666666,
              "#ed7953"
             ],
             [
              0.7777777777777778,
              "#fb9f3a"
             ],
             [
              0.8888888888888888,
              "#fdca26"
             ],
             [
              1,
              "#f0f921"
             ]
            ],
            "type": "histogram2dcontour"
           }
          ],
          "mesh3d": [
           {
            "colorbar": {
             "outlinewidth": 0,
             "ticks": ""
            },
            "type": "mesh3d"
           }
          ],
          "parcoords": [
           {
            "line": {
             "colorbar": {
              "outlinewidth": 0,
              "ticks": ""
             }
            },
            "type": "parcoords"
           }
          ],
          "pie": [
           {
            "automargin": true,
            "type": "pie"
           }
          ],
          "scatter": [
           {
            "marker": {
             "colorbar": {
              "outlinewidth": 0,
              "ticks": ""
             }
            },
            "type": "scatter"
           }
          ],
          "scatter3d": [
           {
            "line": {
             "colorbar": {
              "outlinewidth": 0,
              "ticks": ""
             }
            },
            "marker": {
             "colorbar": {
              "outlinewidth": 0,
              "ticks": ""
             }
            },
            "type": "scatter3d"
           }
          ],
          "scattercarpet": [
           {
            "marker": {
             "colorbar": {
              "outlinewidth": 0,
              "ticks": ""
             }
            },
            "type": "scattercarpet"
           }
          ],
          "scattergeo": [
           {
            "marker": {
             "colorbar": {
              "outlinewidth": 0,
              "ticks": ""
             }
            },
            "type": "scattergeo"
           }
          ],
          "scattergl": [
           {
            "marker": {
             "colorbar": {
              "outlinewidth": 0,
              "ticks": ""
             }
            },
            "type": "scattergl"
           }
          ],
          "scattermapbox": [
           {
            "marker": {
             "colorbar": {
              "outlinewidth": 0,
              "ticks": ""
             }
            },
            "type": "scattermapbox"
           }
          ],
          "scatterpolar": [
           {
            "marker": {
             "colorbar": {
              "outlinewidth": 0,
              "ticks": ""
             }
            },
            "type": "scatterpolar"
           }
          ],
          "scatterpolargl": [
           {
            "marker": {
             "colorbar": {
              "outlinewidth": 0,
              "ticks": ""
             }
            },
            "type": "scatterpolargl"
           }
          ],
          "scatterternary": [
           {
            "marker": {
             "colorbar": {
              "outlinewidth": 0,
              "ticks": ""
             }
            },
            "type": "scatterternary"
           }
          ],
          "surface": [
           {
            "colorbar": {
             "outlinewidth": 0,
             "ticks": ""
            },
            "colorscale": [
             [
              0,
              "#0d0887"
             ],
             [
              0.1111111111111111,
              "#46039f"
             ],
             [
              0.2222222222222222,
              "#7201a8"
             ],
             [
              0.3333333333333333,
              "#9c179e"
             ],
             [
              0.4444444444444444,
              "#bd3786"
             ],
             [
              0.5555555555555556,
              "#d8576b"
             ],
             [
              0.6666666666666666,
              "#ed7953"
             ],
             [
              0.7777777777777778,
              "#fb9f3a"
             ],
             [
              0.8888888888888888,
              "#fdca26"
             ],
             [
              1,
              "#f0f921"
             ]
            ],
            "type": "surface"
           }
          ],
          "table": [
           {
            "cells": {
             "fill": {
              "color": "#EBF0F8"
             },
             "line": {
              "color": "white"
             }
            },
            "header": {
             "fill": {
              "color": "#C8D4E3"
             },
             "line": {
              "color": "white"
             }
            },
            "type": "table"
           }
          ]
         },
         "layout": {
          "annotationdefaults": {
           "arrowcolor": "#2a3f5f",
           "arrowhead": 0,
           "arrowwidth": 1
          },
          "autotypenumbers": "strict",
          "coloraxis": {
           "colorbar": {
            "outlinewidth": 0,
            "ticks": ""
           }
          },
          "colorscale": {
           "diverging": [
            [
             0,
             "#8e0152"
            ],
            [
             0.1,
             "#c51b7d"
            ],
            [
             0.2,
             "#de77ae"
            ],
            [
             0.3,
             "#f1b6da"
            ],
            [
             0.4,
             "#fde0ef"
            ],
            [
             0.5,
             "#f7f7f7"
            ],
            [
             0.6,
             "#e6f5d0"
            ],
            [
             0.7,
             "#b8e186"
            ],
            [
             0.8,
             "#7fbc41"
            ],
            [
             0.9,
             "#4d9221"
            ],
            [
             1,
             "#276419"
            ]
           ],
           "sequential": [
            [
             0,
             "#0d0887"
            ],
            [
             0.1111111111111111,
             "#46039f"
            ],
            [
             0.2222222222222222,
             "#7201a8"
            ],
            [
             0.3333333333333333,
             "#9c179e"
            ],
            [
             0.4444444444444444,
             "#bd3786"
            ],
            [
             0.5555555555555556,
             "#d8576b"
            ],
            [
             0.6666666666666666,
             "#ed7953"
            ],
            [
             0.7777777777777778,
             "#fb9f3a"
            ],
            [
             0.8888888888888888,
             "#fdca26"
            ],
            [
             1,
             "#f0f921"
            ]
           ],
           "sequentialminus": [
            [
             0,
             "#0d0887"
            ],
            [
             0.1111111111111111,
             "#46039f"
            ],
            [
             0.2222222222222222,
             "#7201a8"
            ],
            [
             0.3333333333333333,
             "#9c179e"
            ],
            [
             0.4444444444444444,
             "#bd3786"
            ],
            [
             0.5555555555555556,
             "#d8576b"
            ],
            [
             0.6666666666666666,
             "#ed7953"
            ],
            [
             0.7777777777777778,
             "#fb9f3a"
            ],
            [
             0.8888888888888888,
             "#fdca26"
            ],
            [
             1,
             "#f0f921"
            ]
           ]
          },
          "colorway": [
           "#636efa",
           "#EF553B",
           "#00cc96",
           "#ab63fa",
           "#FFA15A",
           "#19d3f3",
           "#FF6692",
           "#B6E880",
           "#FF97FF",
           "#FECB52"
          ],
          "font": {
           "color": "#2a3f5f"
          },
          "geo": {
           "bgcolor": "white",
           "lakecolor": "white",
           "landcolor": "#E5ECF6",
           "showlakes": true,
           "showland": true,
           "subunitcolor": "white"
          },
          "hoverlabel": {
           "align": "left"
          },
          "hovermode": "closest",
          "mapbox": {
           "style": "light"
          },
          "paper_bgcolor": "white",
          "plot_bgcolor": "#E5ECF6",
          "polar": {
           "angularaxis": {
            "gridcolor": "white",
            "linecolor": "white",
            "ticks": ""
           },
           "bgcolor": "#E5ECF6",
           "radialaxis": {
            "gridcolor": "white",
            "linecolor": "white",
            "ticks": ""
           }
          },
          "scene": {
           "xaxis": {
            "backgroundcolor": "#E5ECF6",
            "gridcolor": "white",
            "gridwidth": 2,
            "linecolor": "white",
            "showbackground": true,
            "ticks": "",
            "zerolinecolor": "white"
           },
           "yaxis": {
            "backgroundcolor": "#E5ECF6",
            "gridcolor": "white",
            "gridwidth": 2,
            "linecolor": "white",
            "showbackground": true,
            "ticks": "",
            "zerolinecolor": "white"
           },
           "zaxis": {
            "backgroundcolor": "#E5ECF6",
            "gridcolor": "white",
            "gridwidth": 2,
            "linecolor": "white",
            "showbackground": true,
            "ticks": "",
            "zerolinecolor": "white"
           }
          },
          "shapedefaults": {
           "line": {
            "color": "#2a3f5f"
           }
          },
          "ternary": {
           "aaxis": {
            "gridcolor": "white",
            "linecolor": "white",
            "ticks": ""
           },
           "baxis": {
            "gridcolor": "white",
            "linecolor": "white",
            "ticks": ""
           },
           "bgcolor": "#E5ECF6",
           "caxis": {
            "gridcolor": "white",
            "linecolor": "white",
            "ticks": ""
           }
          },
          "title": {
           "x": 0.05
          },
          "xaxis": {
           "automargin": true,
           "gridcolor": "white",
           "linecolor": "white",
           "ticks": "",
           "title": {
            "standoff": 15
           },
           "zerolinecolor": "white",
           "zerolinewidth": 2
          },
          "yaxis": {
           "automargin": true,
           "gridcolor": "white",
           "linecolor": "white",
           "ticks": "",
           "title": {
            "standoff": 15
           },
           "zerolinecolor": "white",
           "zerolinewidth": 2
          }
         }
        },
        "title": {
         "font": {
          "color": "#4D5663"
         },
         "text": "Sector-Wise CAGR performances"
        },
        "xaxis": {
         "gridcolor": "#E1E5ED",
         "showgrid": true,
         "tickfont": {
          "color": "#4D5663"
         },
         "title": {
          "font": {
           "color": "#4D5663"
          },
          "text": "Sectors"
         },
         "zerolinecolor": "#E1E5ED"
        },
        "yaxis": {
         "gridcolor": "#E1E5ED",
         "showgrid": true,
         "tickfont": {
          "color": "#4D5663"
         },
         "title": {
          "font": {
           "color": "#4D5663"
          },
          "text": "CAGR"
         },
         "zerolinecolor": "#E1E5ED"
        }
       }
      },
      "text/html": [
       "<div>                            <div id=\"7b98ff3e-a0bb-430c-88a6-54d3b1d8c08c\" class=\"plotly-graph-div\" style=\"height:525px; width:100%;\"></div>            <script type=\"text/javascript\">                require([\"plotly\"], function(Plotly) {                    window.PLOTLYENV=window.PLOTLYENV || {};\n",
       "                    window.PLOTLYENV.BASE_URL='https://plot.ly';                                    if (document.getElementById(\"7b98ff3e-a0bb-430c-88a6-54d3b1d8c08c\")) {                    Plotly.newPlot(                        \"7b98ff3e-a0bb-430c-88a6-54d3b1d8c08c\",                        [{\"marker\": {\"color\": \"rgba(255, 153, 51, 0.6)\", \"line\": {\"color\": \"rgba(255, 153, 51, 1.0)\", \"width\": 1}}, \"name\": \"Nifty50 CAGR\", \"orientation\": \"v\", \"text\": \"\", \"type\": \"bar\", \"x\": [\"Banks\", \"Software\", \"Construction Project\", \"Petroleum Products\", \"Finance\", \"Telecom - Services\", \"Auto\", \"Pharmaceuticals\", \"Consumer Non Durables\", \"Cement\", \"Consumer Durables\", \"Retailing\", \"Pesticides\", \"Gas\", \"Healthcare Services\", \"Industrial Products\", \"Non - Ferrous Metals\", \"Ferrous Metals\", \"Power\", \"Transportation\", \"Oil\", \"Minerals/Mining\"], \"y\": [0.06857239999999999, 0.1040733, 0.007534999999999999, 0.06210840000000001, 0.0253414, 0.0025312, 0.035836599999999996, 0.0209351, 0.008923200000000001, 0.0115792, 0.001515, 0.0, 0.0007124, 0.0017978999999999998, 0.0, 0.0, 0.0067256, 0.011319200000000001, 0.0014376, 0.006476399999999999, 0.0015125, -0.000558]}, {\"marker\": {\"color\": \"rgba(55, 128, 191, 0.6)\", \"line\": {\"color\": \"rgba(55, 128, 191, 1.0)\", \"width\": 1}}, \"name\": \"Portfolio CAGR\", \"orientation\": \"v\", \"text\": \"\", \"type\": \"bar\", \"x\": [\"Banks\", \"Software\", \"Construction Project\", \"Petroleum Products\", \"Finance\", \"Telecom - Services\", \"Auto\", \"Pharmaceuticals\", \"Consumer Non Durables\", \"Cement\", \"Consumer Durables\", \"Retailing\", \"Pesticides\", \"Gas\", \"Healthcare Services\", \"Industrial Products\", \"Non - Ferrous Metals\", \"Ferrous Metals\", \"Power\", \"Transportation\", \"Oil\", \"Minerals/Mining\"], \"y\": [0.0645101, 0.099994, 0.0092675, 0.033843599999999995, 0.027872300000000003, 0.0034272, 0.025001699999999998, 0.0317384, 0.0169879, 0.011227500000000001, 0.0171068, 0.0048258, 0.0048272, 0.008590200000000001, 0.001425, 0.0025960000000000002, 0.0009607999999999998, 0.0, 0.0, 0.0, 0.0, 0.0]}],                        {\"legend\": {\"bgcolor\": \"#F5F6F9\", \"font\": {\"color\": \"#4D5663\"}}, \"paper_bgcolor\": \"#F5F6F9\", \"plot_bgcolor\": \"#F5F6F9\", \"template\": {\"data\": {\"bar\": [{\"error_x\": {\"color\": \"#2a3f5f\"}, \"error_y\": {\"color\": \"#2a3f5f\"}, \"marker\": {\"line\": {\"color\": \"#E5ECF6\", \"width\": 0.5}}, \"type\": \"bar\"}], \"barpolar\": [{\"marker\": {\"line\": {\"color\": \"#E5ECF6\", \"width\": 0.5}}, \"type\": \"barpolar\"}], \"carpet\": [{\"aaxis\": {\"endlinecolor\": \"#2a3f5f\", \"gridcolor\": \"white\", \"linecolor\": \"white\", \"minorgridcolor\": \"white\", \"startlinecolor\": \"#2a3f5f\"}, \"baxis\": {\"endlinecolor\": \"#2a3f5f\", \"gridcolor\": \"white\", \"linecolor\": \"white\", \"minorgridcolor\": \"white\", \"startlinecolor\": \"#2a3f5f\"}, \"type\": \"carpet\"}], \"choropleth\": [{\"colorbar\": {\"outlinewidth\": 0, \"ticks\": \"\"}, \"type\": \"choropleth\"}], \"contour\": [{\"colorbar\": {\"outlinewidth\": 0, \"ticks\": \"\"}, \"colorscale\": [[0.0, \"#0d0887\"], [0.1111111111111111, \"#46039f\"], [0.2222222222222222, \"#7201a8\"], [0.3333333333333333, \"#9c179e\"], [0.4444444444444444, \"#bd3786\"], [0.5555555555555556, \"#d8576b\"], [0.6666666666666666, \"#ed7953\"], [0.7777777777777778, \"#fb9f3a\"], [0.8888888888888888, \"#fdca26\"], [1.0, \"#f0f921\"]], \"type\": \"contour\"}], \"contourcarpet\": [{\"colorbar\": {\"outlinewidth\": 0, \"ticks\": \"\"}, \"type\": \"contourcarpet\"}], \"heatmap\": [{\"colorbar\": {\"outlinewidth\": 0, \"ticks\": \"\"}, \"colorscale\": [[0.0, \"#0d0887\"], [0.1111111111111111, \"#46039f\"], [0.2222222222222222, \"#7201a8\"], [0.3333333333333333, \"#9c179e\"], [0.4444444444444444, \"#bd3786\"], [0.5555555555555556, \"#d8576b\"], [0.6666666666666666, \"#ed7953\"], [0.7777777777777778, \"#fb9f3a\"], [0.8888888888888888, \"#fdca26\"], [1.0, \"#f0f921\"]], \"type\": \"heatmap\"}], \"heatmapgl\": [{\"colorbar\": {\"outlinewidth\": 0, \"ticks\": \"\"}, \"colorscale\": [[0.0, \"#0d0887\"], [0.1111111111111111, \"#46039f\"], [0.2222222222222222, \"#7201a8\"], [0.3333333333333333, \"#9c179e\"], [0.4444444444444444, \"#bd3786\"], [0.5555555555555556, \"#d8576b\"], [0.6666666666666666, \"#ed7953\"], [0.7777777777777778, \"#fb9f3a\"], [0.8888888888888888, \"#fdca26\"], [1.0, \"#f0f921\"]], \"type\": \"heatmapgl\"}], \"histogram\": [{\"marker\": {\"colorbar\": {\"outlinewidth\": 0, \"ticks\": \"\"}}, \"type\": \"histogram\"}], \"histogram2d\": [{\"colorbar\": {\"outlinewidth\": 0, \"ticks\": \"\"}, \"colorscale\": [[0.0, \"#0d0887\"], [0.1111111111111111, \"#46039f\"], [0.2222222222222222, \"#7201a8\"], [0.3333333333333333, \"#9c179e\"], [0.4444444444444444, \"#bd3786\"], [0.5555555555555556, \"#d8576b\"], [0.6666666666666666, \"#ed7953\"], [0.7777777777777778, \"#fb9f3a\"], [0.8888888888888888, \"#fdca26\"], [1.0, \"#f0f921\"]], \"type\": \"histogram2d\"}], \"histogram2dcontour\": [{\"colorbar\": {\"outlinewidth\": 0, \"ticks\": \"\"}, \"colorscale\": [[0.0, \"#0d0887\"], [0.1111111111111111, \"#46039f\"], [0.2222222222222222, \"#7201a8\"], [0.3333333333333333, \"#9c179e\"], [0.4444444444444444, \"#bd3786\"], [0.5555555555555556, \"#d8576b\"], [0.6666666666666666, \"#ed7953\"], [0.7777777777777778, \"#fb9f3a\"], [0.8888888888888888, \"#fdca26\"], [1.0, \"#f0f921\"]], \"type\": \"histogram2dcontour\"}], \"mesh3d\": [{\"colorbar\": {\"outlinewidth\": 0, \"ticks\": \"\"}, \"type\": \"mesh3d\"}], \"parcoords\": [{\"line\": {\"colorbar\": {\"outlinewidth\": 0, \"ticks\": \"\"}}, \"type\": \"parcoords\"}], \"pie\": [{\"automargin\": true, \"type\": \"pie\"}], \"scatter\": [{\"marker\": {\"colorbar\": {\"outlinewidth\": 0, \"ticks\": \"\"}}, \"type\": \"scatter\"}], \"scatter3d\": [{\"line\": {\"colorbar\": {\"outlinewidth\": 0, \"ticks\": \"\"}}, \"marker\": {\"colorbar\": {\"outlinewidth\": 0, \"ticks\": \"\"}}, \"type\": \"scatter3d\"}], \"scattercarpet\": [{\"marker\": {\"colorbar\": {\"outlinewidth\": 0, \"ticks\": \"\"}}, \"type\": \"scattercarpet\"}], \"scattergeo\": [{\"marker\": {\"colorbar\": {\"outlinewidth\": 0, \"ticks\": \"\"}}, \"type\": \"scattergeo\"}], \"scattergl\": [{\"marker\": {\"colorbar\": {\"outlinewidth\": 0, \"ticks\": \"\"}}, \"type\": \"scattergl\"}], \"scattermapbox\": [{\"marker\": {\"colorbar\": {\"outlinewidth\": 0, \"ticks\": \"\"}}, \"type\": \"scattermapbox\"}], \"scatterpolar\": [{\"marker\": {\"colorbar\": {\"outlinewidth\": 0, \"ticks\": \"\"}}, \"type\": \"scatterpolar\"}], \"scatterpolargl\": [{\"marker\": {\"colorbar\": {\"outlinewidth\": 0, \"ticks\": \"\"}}, \"type\": \"scatterpolargl\"}], \"scatterternary\": [{\"marker\": {\"colorbar\": {\"outlinewidth\": 0, \"ticks\": \"\"}}, \"type\": \"scatterternary\"}], \"surface\": [{\"colorbar\": {\"outlinewidth\": 0, \"ticks\": \"\"}, \"colorscale\": [[0.0, \"#0d0887\"], [0.1111111111111111, \"#46039f\"], [0.2222222222222222, \"#7201a8\"], [0.3333333333333333, \"#9c179e\"], [0.4444444444444444, \"#bd3786\"], [0.5555555555555556, \"#d8576b\"], [0.6666666666666666, \"#ed7953\"], [0.7777777777777778, \"#fb9f3a\"], [0.8888888888888888, \"#fdca26\"], [1.0, \"#f0f921\"]], \"type\": \"surface\"}], \"table\": [{\"cells\": {\"fill\": {\"color\": \"#EBF0F8\"}, \"line\": {\"color\": \"white\"}}, \"header\": {\"fill\": {\"color\": \"#C8D4E3\"}, \"line\": {\"color\": \"white\"}}, \"type\": \"table\"}]}, \"layout\": {\"annotationdefaults\": {\"arrowcolor\": \"#2a3f5f\", \"arrowhead\": 0, \"arrowwidth\": 1}, \"autotypenumbers\": \"strict\", \"coloraxis\": {\"colorbar\": {\"outlinewidth\": 0, \"ticks\": \"\"}}, \"colorscale\": {\"diverging\": [[0, \"#8e0152\"], [0.1, \"#c51b7d\"], [0.2, \"#de77ae\"], [0.3, \"#f1b6da\"], [0.4, \"#fde0ef\"], [0.5, \"#f7f7f7\"], [0.6, \"#e6f5d0\"], [0.7, \"#b8e186\"], [0.8, \"#7fbc41\"], [0.9, \"#4d9221\"], [1, \"#276419\"]], \"sequential\": [[0.0, \"#0d0887\"], [0.1111111111111111, \"#46039f\"], [0.2222222222222222, \"#7201a8\"], [0.3333333333333333, \"#9c179e\"], [0.4444444444444444, \"#bd3786\"], [0.5555555555555556, \"#d8576b\"], [0.6666666666666666, \"#ed7953\"], [0.7777777777777778, \"#fb9f3a\"], [0.8888888888888888, \"#fdca26\"], [1.0, \"#f0f921\"]], \"sequentialminus\": [[0.0, \"#0d0887\"], [0.1111111111111111, \"#46039f\"], [0.2222222222222222, \"#7201a8\"], [0.3333333333333333, \"#9c179e\"], [0.4444444444444444, \"#bd3786\"], [0.5555555555555556, \"#d8576b\"], [0.6666666666666666, \"#ed7953\"], [0.7777777777777778, \"#fb9f3a\"], [0.8888888888888888, \"#fdca26\"], [1.0, \"#f0f921\"]]}, \"colorway\": [\"#636efa\", \"#EF553B\", \"#00cc96\", \"#ab63fa\", \"#FFA15A\", \"#19d3f3\", \"#FF6692\", \"#B6E880\", \"#FF97FF\", \"#FECB52\"], \"font\": {\"color\": \"#2a3f5f\"}, \"geo\": {\"bgcolor\": \"white\", \"lakecolor\": \"white\", \"landcolor\": \"#E5ECF6\", \"showlakes\": true, \"showland\": true, \"subunitcolor\": \"white\"}, \"hoverlabel\": {\"align\": \"left\"}, \"hovermode\": \"closest\", \"mapbox\": {\"style\": \"light\"}, \"paper_bgcolor\": \"white\", \"plot_bgcolor\": \"#E5ECF6\", \"polar\": {\"angularaxis\": {\"gridcolor\": \"white\", \"linecolor\": \"white\", \"ticks\": \"\"}, \"bgcolor\": \"#E5ECF6\", \"radialaxis\": {\"gridcolor\": \"white\", \"linecolor\": \"white\", \"ticks\": \"\"}}, \"scene\": {\"xaxis\": {\"backgroundcolor\": \"#E5ECF6\", \"gridcolor\": \"white\", \"gridwidth\": 2, \"linecolor\": \"white\", \"showbackground\": true, \"ticks\": \"\", \"zerolinecolor\": \"white\"}, \"yaxis\": {\"backgroundcolor\": \"#E5ECF6\", \"gridcolor\": \"white\", \"gridwidth\": 2, \"linecolor\": \"white\", \"showbackground\": true, \"ticks\": \"\", \"zerolinecolor\": \"white\"}, \"zaxis\": {\"backgroundcolor\": \"#E5ECF6\", \"gridcolor\": \"white\", \"gridwidth\": 2, \"linecolor\": \"white\", \"showbackground\": true, \"ticks\": \"\", \"zerolinecolor\": \"white\"}}, \"shapedefaults\": {\"line\": {\"color\": \"#2a3f5f\"}}, \"ternary\": {\"aaxis\": {\"gridcolor\": \"white\", \"linecolor\": \"white\", \"ticks\": \"\"}, \"baxis\": {\"gridcolor\": \"white\", \"linecolor\": \"white\", \"ticks\": \"\"}, \"bgcolor\": \"#E5ECF6\", \"caxis\": {\"gridcolor\": \"white\", \"linecolor\": \"white\", \"ticks\": \"\"}}, \"title\": {\"x\": 0.05}, \"xaxis\": {\"automargin\": true, \"gridcolor\": \"white\", \"linecolor\": \"white\", \"ticks\": \"\", \"title\": {\"standoff\": 15}, \"zerolinecolor\": \"white\", \"zerolinewidth\": 2}, \"yaxis\": {\"automargin\": true, \"gridcolor\": \"white\", \"linecolor\": \"white\", \"ticks\": \"\", \"title\": {\"standoff\": 15}, \"zerolinecolor\": \"white\", \"zerolinewidth\": 2}}}, \"title\": {\"font\": {\"color\": \"#4D5663\"}, \"text\": \"Sector-Wise CAGR performances\"}, \"xaxis\": {\"gridcolor\": \"#E1E5ED\", \"showgrid\": true, \"tickfont\": {\"color\": \"#4D5663\"}, \"title\": {\"font\": {\"color\": \"#4D5663\"}, \"text\": \"Sectors\"}, \"zerolinecolor\": \"#E1E5ED\"}, \"yaxis\": {\"gridcolor\": \"#E1E5ED\", \"showgrid\": true, \"tickfont\": {\"color\": \"#4D5663\"}, \"title\": {\"font\": {\"color\": \"#4D5663\"}, \"text\": \"CAGR\"}, \"zerolinecolor\": \"#E1E5ED\"}},                        {\"showLink\": true, \"linkText\": \"Export to plot.ly\", \"plotlyServerURL\": \"https://plot.ly\", \"responsive\": true}                    ).then(function(){\n",
       "                            \n",
       "var gd = document.getElementById('7b98ff3e-a0bb-430c-88a6-54d3b1d8c08c');\n",
       "var x = new MutationObserver(function (mutations, observer) {{\n",
       "        var display = window.getComputedStyle(gd).display;\n",
       "        if (!display || display === 'none') {{\n",
       "            console.log([gd, 'removed!']);\n",
       "            Plotly.purge(gd);\n",
       "            observer.disconnect();\n",
       "        }}\n",
       "}});\n",
       "\n",
       "// Listen for the removal of the full notebook cells\n",
       "var notebookContainer = gd.closest('#notebook-container');\n",
       "if (notebookContainer) {{\n",
       "    x.observe(notebookContainer, {childList: true});\n",
       "}}\n",
       "\n",
       "// Listen for the clearing of the current output cell\n",
       "var outputEl = gd.closest('.output');\n",
       "if (outputEl) {{\n",
       "    x.observe(outputEl, {childList: true});\n",
       "}}\n",
       "\n",
       "                        })                };                });            </script>        </div>"
      ]
     },
     "metadata": {},
     "output_type": "display_data"
    }
   ],
   "source": [
    "df = Sectoral_CAGR[['Nifty50 CAGR', 'Portfolio CAGR']].set_index(Sectoral_CAGR['Sectors'])\n",
    "\n",
    "df.iplot(kind='bar', xTitle='Sectors', yTitle='CAGR', title='Sector-Wise CAGR performances')"
   ]
  },
  {
   "cell_type": "markdown",
   "metadata": {},
   "source": [
    "### Our Conclusion "
   ]
  },
  {
   "cell_type": "markdown",
   "metadata": {},
   "source": [
    "We see how Nifty50 has performed better than the Portfolio, even though we understand that there was a pandemic and all of the stocks crashed, but as per our analysis mostly all of them have either come back to where they were an year ago or have gone in green.\n",
    "\n",
    "Seeing, this we see that the portfolio is expected to perform better than the benchmark and here we have seen that both have performed equally well, or some might say that Benchmark surpassed the Portfolio.\n",
    "\n",
    "As an investor, I might not look in this portfolio as the performance has not been of the calibre that you expect from a Fund."
   ]
  },
  {
   "cell_type": "code",
   "execution_count": null,
   "metadata": {},
   "outputs": [],
   "source": []
  }
 ],
 "metadata": {
  "kernelspec": {
   "display_name": "Python 3",
   "language": "python",
   "name": "python3"
  },
  "language_info": {
   "codemirror_mode": {
    "name": "ipython",
    "version": 3
   },
   "file_extension": ".py",
   "mimetype": "text/x-python",
   "name": "python",
   "nbconvert_exporter": "python",
   "pygments_lexer": "ipython3",
   "version": "3.8.3"
  }
 },
 "nbformat": 4,
 "nbformat_minor": 4
}
